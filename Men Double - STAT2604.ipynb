{
 "cells": [
  {
   "cell_type": "code",
   "execution_count": 1,
   "id": "99580605",
   "metadata": {},
   "outputs": [
    {
     "name": "stdout",
     "output_type": "stream",
     "text": [
      "   Ranking                    Name Gender Points  Height  Age Hands  Weight  \\\n",
      "0        1         Austin Krajicek      M  7,020     182   33     L      79   \n",
      "1        2              Ivan Dodig      M  6,420     183   38     R      81   \n",
      "2        3          Wesley Koolhof      M  6,370     180   34     R      73   \n",
      "3        4            Neal Skupski      M  6,370     183   33     R      82   \n",
      "4        5              Rajeev Ram      M  6,290     193   39     R      84   \n",
      "5        6           Joe Salisbury      M  6,290     191   31     R      83   \n",
      "6        7           Matthew Ebden      M  6,080     188   35     R      80   \n",
      "7        8           Rohan Bopanna      M  5,990     193   43     R      84   \n",
      "8        9       Santiago Gonzalez      M  5,520     191   40     R      92   \n",
      "9       10  Edouard Roger-Vasselin      M  5,520     185   39     R      78   \n",
      "\n",
      "   Return Games Won Perc  Return Points Won Perc  ...  Break Points Faced  \\\n",
      "0                   11.0                    31.0  ...                 224   \n",
      "1                   21.0                    37.0  ...               1,699   \n",
      "2                    NaN                     NaN  ...                 NaN   \n",
      "3                    NaN                     NaN  ...                 NaN   \n",
      "4                   15.0                    33.0  ...                 977   \n",
      "5                    NaN                     NaN  ...                 NaN   \n",
      "6                   19.0                    35.0  ...               1,486   \n",
      "7                    9.0                    28.0  ...                 123   \n",
      "8                   13.0                    32.0  ...                  68   \n",
      "9                   20.0                    36.0  ...               1,483   \n",
      "\n",
      "  BP SVD Perc  Service Games Played  Service Games Won Perc  \\\n",
      "0        57.0                   445                    78.0   \n",
      "1        60.0                 3,045                    78.0   \n",
      "2         NaN                   NaN                     NaN   \n",
      "3         NaN                   NaN                     NaN   \n",
      "4        59.0                 1,852                    79.0   \n",
      "5         NaN                   NaN                     NaN   \n",
      "6        57.0                 2,438                    74.0   \n",
      "7        67.0                   238                    83.0   \n",
      "8        51.0                    91                    64.0   \n",
      "9        59.0                 2,663                    77.0   \n",
      "\n",
      "   Total Service Points Won Perc  First Serve Return Points Won Perc  \\\n",
      "0                           63.0                                22.0   \n",
      "1                           63.0                                29.0   \n",
      "2                            NaN                                 NaN   \n",
      "3                            NaN                                 NaN   \n",
      "4                           63.0                                25.0   \n",
      "5                            NaN                                 NaN   \n",
      "6                           61.0                                28.0   \n",
      "7                           66.0                                20.0   \n",
      "8                           57.0                                28.0   \n",
      "9                           62.0                                28.0   \n",
      "\n",
      "  Second Serve Return Points Won Perc  Break Points Opportunities  \\\n",
      "0                                44.0                         163   \n",
      "1                                49.0                       1,546   \n",
      "2                                 NaN                         NaN   \n",
      "3                                 NaN                         NaN   \n",
      "4                                44.0                         781   \n",
      "5                                 NaN                         NaN   \n",
      "6                                47.0                       1,191   \n",
      "7                                41.0                          74   \n",
      "8                                38.0                          35   \n",
      "9                                48.0                       1,419   \n",
      "\n",
      "  BP CONV Perc  Return Games Played  \n",
      "0         31.0                  450  \n",
      "1         41.0                3,033  \n",
      "2          NaN                  NaN  \n",
      "3          NaN                  NaN  \n",
      "4         36.0                1,884  \n",
      "5          NaN                  NaN  \n",
      "6         39.0                2,426  \n",
      "7         30.0                  237  \n",
      "8         34.0                   93  \n",
      "9         37.0                2,672  \n",
      "\n",
      "[10 rows x 26 columns]\n"
     ]
    }
   ],
   "source": [
    "import pandas as pd\n",
    "\n",
    "df = pd.read_csv('Men double - STAT2604 - Sheet1.csv')\n",
    "\n",
    "print(df)"
   ]
  },
  {
   "cell_type": "code",
   "execution_count": 2,
   "id": "44c4622c",
   "metadata": {},
   "outputs": [
    {
     "data": {
      "text/html": [
       "<div>\n",
       "<style scoped>\n",
       "    .dataframe tbody tr th:only-of-type {\n",
       "        vertical-align: middle;\n",
       "    }\n",
       "\n",
       "    .dataframe tbody tr th {\n",
       "        vertical-align: top;\n",
       "    }\n",
       "\n",
       "    .dataframe thead th {\n",
       "        text-align: right;\n",
       "    }\n",
       "</style>\n",
       "<table border=\"1\" class=\"dataframe\">\n",
       "  <thead>\n",
       "    <tr style=\"text-align: right;\">\n",
       "      <th></th>\n",
       "      <th>Ranking</th>\n",
       "      <th>Height</th>\n",
       "      <th>Age</th>\n",
       "      <th>Weight</th>\n",
       "      <th>Return Games Won Perc</th>\n",
       "      <th>Return Points Won Perc</th>\n",
       "      <th>Total Points Won Perc</th>\n",
       "      <th>Double Faults</th>\n",
       "      <th>First Serve Perc</th>\n",
       "      <th>First Serve Points Won Perc</th>\n",
       "      <th>Second Serve Points Won Perc</th>\n",
       "      <th>BP SVD Perc</th>\n",
       "      <th>Service Games Won Perc</th>\n",
       "      <th>Total Service Points Won Perc</th>\n",
       "      <th>First Serve Return Points Won Perc</th>\n",
       "      <th>Second Serve Return Points Won Perc</th>\n",
       "      <th>BP CONV Perc</th>\n",
       "    </tr>\n",
       "  </thead>\n",
       "  <tbody>\n",
       "    <tr>\n",
       "      <th>count</th>\n",
       "      <td>10.00000</td>\n",
       "      <td>10.000000</td>\n",
       "      <td>10.000000</td>\n",
       "      <td>10.000000</td>\n",
       "      <td>7.000000</td>\n",
       "      <td>7.000000</td>\n",
       "      <td>7.000000</td>\n",
       "      <td>7.000000</td>\n",
       "      <td>7.000000</td>\n",
       "      <td>7.000000</td>\n",
       "      <td>7.000000</td>\n",
       "      <td>7.000000</td>\n",
       "      <td>7.000000</td>\n",
       "      <td>7.000000</td>\n",
       "      <td>7.000000</td>\n",
       "      <td>7.000000</td>\n",
       "      <td>7.000000</td>\n",
       "    </tr>\n",
       "    <tr>\n",
       "      <th>mean</th>\n",
       "      <td>5.50000</td>\n",
       "      <td>186.900000</td>\n",
       "      <td>36.500000</td>\n",
       "      <td>81.600000</td>\n",
       "      <td>15.428571</td>\n",
       "      <td>33.142857</td>\n",
       "      <td>48.000000</td>\n",
       "      <td>420.857143</td>\n",
       "      <td>60.285714</td>\n",
       "      <td>72.000000</td>\n",
       "      <td>47.571429</td>\n",
       "      <td>58.571429</td>\n",
       "      <td>76.142857</td>\n",
       "      <td>62.142857</td>\n",
       "      <td>25.714286</td>\n",
       "      <td>44.428571</td>\n",
       "      <td>35.428571</td>\n",
       "    </tr>\n",
       "    <tr>\n",
       "      <th>std</th>\n",
       "      <td>3.02765</td>\n",
       "      <td>4.886489</td>\n",
       "      <td>3.836955</td>\n",
       "      <td>4.926121</td>\n",
       "      <td>4.685337</td>\n",
       "      <td>3.132016</td>\n",
       "      <td>1.527525</td>\n",
       "      <td>366.161362</td>\n",
       "      <td>2.984085</td>\n",
       "      <td>3.559026</td>\n",
       "      <td>3.598942</td>\n",
       "      <td>4.755949</td>\n",
       "      <td>5.984106</td>\n",
       "      <td>2.734262</td>\n",
       "      <td>3.498299</td>\n",
       "      <td>3.952094</td>\n",
       "      <td>4.035556</td>\n",
       "    </tr>\n",
       "    <tr>\n",
       "      <th>min</th>\n",
       "      <td>1.00000</td>\n",
       "      <td>180.000000</td>\n",
       "      <td>31.000000</td>\n",
       "      <td>73.000000</td>\n",
       "      <td>9.000000</td>\n",
       "      <td>28.000000</td>\n",
       "      <td>45.000000</td>\n",
       "      <td>30.000000</td>\n",
       "      <td>55.000000</td>\n",
       "      <td>68.000000</td>\n",
       "      <td>40.000000</td>\n",
       "      <td>51.000000</td>\n",
       "      <td>64.000000</td>\n",
       "      <td>57.000000</td>\n",
       "      <td>20.000000</td>\n",
       "      <td>38.000000</td>\n",
       "      <td>30.000000</td>\n",
       "    </tr>\n",
       "    <tr>\n",
       "      <th>25%</th>\n",
       "      <td>3.25000</td>\n",
       "      <td>183.000000</td>\n",
       "      <td>33.250000</td>\n",
       "      <td>79.250000</td>\n",
       "      <td>12.000000</td>\n",
       "      <td>31.500000</td>\n",
       "      <td>48.000000</td>\n",
       "      <td>102.000000</td>\n",
       "      <td>59.500000</td>\n",
       "      <td>70.000000</td>\n",
       "      <td>47.500000</td>\n",
       "      <td>57.000000</td>\n",
       "      <td>75.500000</td>\n",
       "      <td>61.500000</td>\n",
       "      <td>23.500000</td>\n",
       "      <td>42.500000</td>\n",
       "      <td>32.500000</td>\n",
       "    </tr>\n",
       "    <tr>\n",
       "      <th>50%</th>\n",
       "      <td>5.50000</td>\n",
       "      <td>186.500000</td>\n",
       "      <td>36.500000</td>\n",
       "      <td>81.500000</td>\n",
       "      <td>15.000000</td>\n",
       "      <td>33.000000</td>\n",
       "      <td>48.000000</td>\n",
       "      <td>436.000000</td>\n",
       "      <td>61.000000</td>\n",
       "      <td>72.000000</td>\n",
       "      <td>49.000000</td>\n",
       "      <td>59.000000</td>\n",
       "      <td>78.000000</td>\n",
       "      <td>63.000000</td>\n",
       "      <td>28.000000</td>\n",
       "      <td>44.000000</td>\n",
       "      <td>36.000000</td>\n",
       "    </tr>\n",
       "    <tr>\n",
       "      <th>75%</th>\n",
       "      <td>7.75000</td>\n",
       "      <td>191.000000</td>\n",
       "      <td>39.000000</td>\n",
       "      <td>83.750000</td>\n",
       "      <td>19.500000</td>\n",
       "      <td>35.500000</td>\n",
       "      <td>48.500000</td>\n",
       "      <td>658.500000</td>\n",
       "      <td>61.000000</td>\n",
       "      <td>72.500000</td>\n",
       "      <td>49.500000</td>\n",
       "      <td>59.500000</td>\n",
       "      <td>78.500000</td>\n",
       "      <td>63.000000</td>\n",
       "      <td>28.000000</td>\n",
       "      <td>47.500000</td>\n",
       "      <td>38.000000</td>\n",
       "    </tr>\n",
       "    <tr>\n",
       "      <th>max</th>\n",
       "      <td>10.00000</td>\n",
       "      <td>193.000000</td>\n",
       "      <td>43.000000</td>\n",
       "      <td>92.000000</td>\n",
       "      <td>21.000000</td>\n",
       "      <td>37.000000</td>\n",
       "      <td>50.000000</td>\n",
       "      <td>959.000000</td>\n",
       "      <td>65.000000</td>\n",
       "      <td>79.000000</td>\n",
       "      <td>50.000000</td>\n",
       "      <td>67.000000</td>\n",
       "      <td>83.000000</td>\n",
       "      <td>66.000000</td>\n",
       "      <td>29.000000</td>\n",
       "      <td>49.000000</td>\n",
       "      <td>41.000000</td>\n",
       "    </tr>\n",
       "  </tbody>\n",
       "</table>\n",
       "</div>"
      ],
      "text/plain": [
       "        Ranking      Height        Age     Weight  Return Games Won Perc  \\\n",
       "count  10.00000   10.000000  10.000000  10.000000               7.000000   \n",
       "mean    5.50000  186.900000  36.500000  81.600000              15.428571   \n",
       "std     3.02765    4.886489   3.836955   4.926121               4.685337   \n",
       "min     1.00000  180.000000  31.000000  73.000000               9.000000   \n",
       "25%     3.25000  183.000000  33.250000  79.250000              12.000000   \n",
       "50%     5.50000  186.500000  36.500000  81.500000              15.000000   \n",
       "75%     7.75000  191.000000  39.000000  83.750000              19.500000   \n",
       "max    10.00000  193.000000  43.000000  92.000000              21.000000   \n",
       "\n",
       "       Return Points Won Perc  Total Points Won Perc  Double Faults  \\\n",
       "count                7.000000               7.000000       7.000000   \n",
       "mean                33.142857              48.000000     420.857143   \n",
       "std                  3.132016               1.527525     366.161362   \n",
       "min                 28.000000              45.000000      30.000000   \n",
       "25%                 31.500000              48.000000     102.000000   \n",
       "50%                 33.000000              48.000000     436.000000   \n",
       "75%                 35.500000              48.500000     658.500000   \n",
       "max                 37.000000              50.000000     959.000000   \n",
       "\n",
       "       First Serve Perc  First Serve Points Won Perc  \\\n",
       "count          7.000000                     7.000000   \n",
       "mean          60.285714                    72.000000   \n",
       "std            2.984085                     3.559026   \n",
       "min           55.000000                    68.000000   \n",
       "25%           59.500000                    70.000000   \n",
       "50%           61.000000                    72.000000   \n",
       "75%           61.000000                    72.500000   \n",
       "max           65.000000                    79.000000   \n",
       "\n",
       "       Second Serve Points Won Perc  BP SVD Perc  Service Games Won Perc  \\\n",
       "count                      7.000000     7.000000                7.000000   \n",
       "mean                      47.571429    58.571429               76.142857   \n",
       "std                        3.598942     4.755949                5.984106   \n",
       "min                       40.000000    51.000000               64.000000   \n",
       "25%                       47.500000    57.000000               75.500000   \n",
       "50%                       49.000000    59.000000               78.000000   \n",
       "75%                       49.500000    59.500000               78.500000   \n",
       "max                       50.000000    67.000000               83.000000   \n",
       "\n",
       "       Total Service Points Won Perc  First Serve Return Points Won Perc  \\\n",
       "count                       7.000000                            7.000000   \n",
       "mean                       62.142857                           25.714286   \n",
       "std                         2.734262                            3.498299   \n",
       "min                        57.000000                           20.000000   \n",
       "25%                        61.500000                           23.500000   \n",
       "50%                        63.000000                           28.000000   \n",
       "75%                        63.000000                           28.000000   \n",
       "max                        66.000000                           29.000000   \n",
       "\n",
       "       Second Serve Return Points Won Perc  BP CONV Perc  \n",
       "count                             7.000000      7.000000  \n",
       "mean                             44.428571     35.428571  \n",
       "std                               3.952094      4.035556  \n",
       "min                              38.000000     30.000000  \n",
       "25%                              42.500000     32.500000  \n",
       "50%                              44.000000     36.000000  \n",
       "75%                              47.500000     38.000000  \n",
       "max                              49.000000     41.000000  "
      ]
     },
     "execution_count": 2,
     "metadata": {},
     "output_type": "execute_result"
    }
   ],
   "source": [
    "df.describe()\n"
   ]
  },
  {
   "cell_type": "code",
   "execution_count": 3,
   "id": "093c7d8e",
   "metadata": {},
   "outputs": [
    {
     "name": "stdout",
     "output_type": "stream",
     "text": [
      "0    182\n",
      "1    183\n",
      "2    180\n",
      "3    183\n",
      "4    193\n",
      "5    191\n",
      "6    188\n",
      "7    193\n",
      "8    191\n",
      "9    185\n",
      "Name: Height, dtype: int64\n",
      "Median: 186.5\n"
     ]
    },
    {
     "data": {
      "text/plain": [
       "23.877777777777773"
      ]
     },
     "execution_count": 3,
     "metadata": {},
     "output_type": "execute_result"
    }
   ],
   "source": [
    "print(df['Height'])\n",
    "\n",
    "sorted_data = sorted(df['Height'])\n",
    "num_elements = len(sorted_data)\n",
    "\n",
    "if num_elements % 2 == 1:\n",
    "    median = sorted_data[num_elements // 2]\n",
    "else:\n",
    "    median = (sorted_data[num_elements // 2 - 1] + sorted_data[num_elements // 2]) / 2.0\n",
    "\n",
    "print(\"Median:\", median)\n",
    "\n",
    "def square(Height):\n",
    "    return Height * Height\n",
    "\n",
    "\n",
    "def sumOfSquaredDifferences(Height):\n",
    "    xBar = sum(Height) / len(Height)  # Using sum() to calculate the mean\n",
    "    differences = map(lambda x: x - xBar, Height)\n",
    "    squaredDifferences = map(lambda x: x**2, differences)  # Use lambda x: x**2 to square each element\n",
    "    return sum(squaredDifferences)\n",
    "\n",
    "\n",
    "def variance(Height):\n",
    "    n = len(Height)\n",
    "    return sumOfSquaredDifferences(Height) / (n - 1)\n",
    "\n",
    "\n",
    "variance(df['Height'])"
   ]
  },
  {
   "cell_type": "code",
   "execution_count": 4,
   "id": "39420b9d",
   "metadata": {},
   "outputs": [
    {
     "name": "stdout",
     "output_type": "stream",
     "text": [
      "0    33\n",
      "1    38\n",
      "2    34\n",
      "3    33\n",
      "4    39\n",
      "5    31\n",
      "6    35\n",
      "7    43\n",
      "8    40\n",
      "9    39\n",
      "Name: Age, dtype: int64\n",
      "Median: 36.5\n"
     ]
    },
    {
     "data": {
      "text/plain": [
       "14.722222222222221"
      ]
     },
     "execution_count": 4,
     "metadata": {},
     "output_type": "execute_result"
    }
   ],
   "source": [
    "print(df['Age'])\n",
    "\n",
    "sorted_data = sorted(df['Age'])\n",
    "num_elements = len(sorted_data)\n",
    "\n",
    "if num_elements % 2 == 1:\n",
    "    median = sorted_data[num_elements // 2]\n",
    "else:\n",
    "    median = (sorted_data[num_elements // 2 - 1] + sorted_data[num_elements // 2]) / 2.0\n",
    "\n",
    "print(\"Median:\", median)\n",
    "\n",
    "def square(Age):\n",
    "    return Age * Age\n",
    "\n",
    "def sumOfSquaredDifferences(Age):\n",
    "    xBar = sum(Age) / len(Age)  # Using sum() to calculate the mean\n",
    "    differences = map(lambda x: x - xBar, Age)\n",
    "    squaredDifferences = map(lambda x: x**2, differences)  # Use lambda x: x**2 to square each element\n",
    "    return sum(squaredDifferences)\n",
    "\n",
    "\n",
    "def variance(Age):\n",
    "    n = len(Age)\n",
    "    return sumOfSquaredDifferences(Age) / (n - 1)\n",
    "\n",
    "\n",
    "variance(df['Age'])"
   ]
  },
  {
   "cell_type": "code",
   "execution_count": 6,
   "id": "1c45bba4",
   "metadata": {},
   "outputs": [
    {
     "name": "stdout",
     "output_type": "stream",
     "text": [
      "0    79\n",
      "1    81\n",
      "2    73\n",
      "3    82\n",
      "4    84\n",
      "5    83\n",
      "6    80\n",
      "7    84\n",
      "8    92\n",
      "9    78\n",
      "Name: Weight, dtype: int64\n",
      "Median: 81.5\n"
     ]
    },
    {
     "data": {
      "text/plain": [
       "24.26666666666667"
      ]
     },
     "execution_count": 6,
     "metadata": {},
     "output_type": "execute_result"
    }
   ],
   "source": [
    "print(df['Weight'])\n",
    "\n",
    "sorted_data = sorted(df['Weight'])\n",
    "num_elements = len(sorted_data)\n",
    "\n",
    "if num_elements % 2 == 1:\n",
    "    median = sorted_data[num_elements // 2]\n",
    "else:\n",
    "    median = (sorted_data[num_elements // 2 - 1] + sorted_data[num_elements // 2]) / 2.0\n",
    "\n",
    "print(\"Median:\", median)\n",
    "\n",
    "def square(Weight):\n",
    "    return Weight * Weight\n",
    "\n",
    "def sumOfSquaredDifferences(Weight):\n",
    "    xBar = sum(Weight) / len(Weight)  # Using sum() to calculate the mean\n",
    "    differences = map(lambda x: x - xBar, Weight)\n",
    "    squaredDifferences = map(lambda x: x**2, differences)  # Use lambda x: x**2 to square each element\n",
    "    return sum(squaredDifferences)\n",
    "\n",
    "\n",
    "def variance(Weight):\n",
    "    n = len(Weight)\n",
    "    return sumOfSquaredDifferences(Weight) / (n - 1)\n",
    "\n",
    "\n",
    "variance(df['Weight'])"
   ]
  },
  {
   "cell_type": "code",
   "execution_count": 7,
   "id": "96f1e694",
   "metadata": {},
   "outputs": [
    {
     "name": "stdout",
     "output_type": "stream",
     "text": [
      "0    11.0\n",
      "1    21.0\n",
      "2     NaN\n",
      "3     NaN\n",
      "4    15.0\n",
      "5     NaN\n",
      "6    19.0\n",
      "7     9.0\n",
      "8    13.0\n",
      "9    20.0\n",
      "Name: Return Games Won Perc, dtype: float64\n",
      "Median: 14.0\n"
     ]
    },
    {
     "data": {
      "text/plain": [
       "nan"
      ]
     },
     "execution_count": 7,
     "metadata": {},
     "output_type": "execute_result"
    }
   ],
   "source": [
    "print(df['Return Games Won Perc'])\n",
    "\n",
    "sorted_data = sorted(df['Return Games Won Perc'])\n",
    "num_elements = len(sorted_data)\n",
    "\n",
    "if num_elements % 2 == 1:\n",
    "    median = sorted_data[num_elements // 2]\n",
    "else:\n",
    "    median = (sorted_data[num_elements // 2 - 1] + sorted_data[num_elements // 2]) / 2.0\n",
    "\n",
    "print(\"Median:\", median)\n",
    "\n",
    "def square(Return_Games_Won_Perc):  \n",
    "    return Return_Games_Won_Perc * Return_Games_Won_Perc \n",
    "\n",
    "def sumOfSquaredDifferences(Return_Games_Won_Perc):  \n",
    "    xBar = sum(Return_Games_Won_Perc) / len(Return_Games_Won_Perc)  # Using sum() to calculate the mean\n",
    "    differences = map(lambda x: x - xBar, Return_Games_Won_Perc)\n",
    "    squaredDifferences = map(lambda x: x**2, differences)  # Use lambda x: x**2 to square each element\n",
    "    return sum(squaredDifferences)\n",
    "\n",
    "def variance(Return_Games_Won_Perc):  \n",
    "    n = len(Return_Games_Won_Perc)\n",
    "    return sumOfSquaredDifferences(Return_Games_Won_Perc) / (n - 1)\n",
    "\n",
    "variance(df['Return Games Won Perc'])"
   ]
  },
  {
   "cell_type": "code",
   "execution_count": 8,
   "id": "69dee247",
   "metadata": {},
   "outputs": [
    {
     "name": "stdout",
     "output_type": "stream",
     "text": [
      "0    31.0\n",
      "1    37.0\n",
      "2     NaN\n",
      "3     NaN\n",
      "4    33.0\n",
      "5     NaN\n",
      "6    35.0\n",
      "7    28.0\n",
      "8    32.0\n",
      "9    36.0\n",
      "Name: Return Points Won Perc, dtype: float64\n",
      "Median: 32.5\n"
     ]
    },
    {
     "data": {
      "text/plain": [
       "nan"
      ]
     },
     "execution_count": 8,
     "metadata": {},
     "output_type": "execute_result"
    }
   ],
   "source": [
    "print(df['Return Points Won Perc'])\n",
    "\n",
    "sorted_data = sorted(df['Return Points Won Perc'])\n",
    "num_elements = len(sorted_data)\n",
    "\n",
    "if num_elements % 2 == 1:\n",
    "    median = sorted_data[num_elements // 2]\n",
    "else:\n",
    "    median = (sorted_data[num_elements // 2 - 1] + sorted_data[num_elements // 2]) / 2.0\n",
    "\n",
    "print(\"Median:\", median)\n",
    "\n",
    "def square(Return_Points_Won_Perc):  \n",
    "    return Return_Points_Won_Perc * Return_Points_Won_Perc\n",
    "\n",
    "def sumOfSquaredDifferences(Return_Points_Won_Perc):  \n",
    "    xBar = sum(Return_Points_Won_Perc) / len(Return_Points_Won_Perc)  # Using sum() to calculate the mean\n",
    "    differences = map(lambda x: x - xBar, Return_Points_Won_Perc)\n",
    "    squaredDifferences = map(lambda x: x**2, differences)  # Use lambda x: x**2 to square each element\n",
    "    return sum(squaredDifferences)\n",
    "\n",
    "def variance(Return_Points_Won_Perc):  \n",
    "    n = len(Return_Points_Won_Perc)\n",
    "    return sumOfSquaredDifferences(Return_Points_Won_Perc) / (n - 1)\n",
    "\n",
    "variance(df['Return Points Won Perc'])"
   ]
  },
  {
   "cell_type": "code",
   "execution_count": 9,
   "id": "2cca6a09",
   "metadata": {},
   "outputs": [
    {
     "name": "stdout",
     "output_type": "stream",
     "text": [
      "0    48.0\n",
      "1    50.0\n",
      "2     NaN\n",
      "3     NaN\n",
      "4    48.0\n",
      "5     NaN\n",
      "6    48.0\n",
      "7    48.0\n",
      "8    45.0\n",
      "9    49.0\n",
      "Name: Total Points Won Perc, dtype: float64\n",
      "Median: 46.5\n"
     ]
    },
    {
     "data": {
      "text/plain": [
       "nan"
      ]
     },
     "execution_count": 9,
     "metadata": {},
     "output_type": "execute_result"
    }
   ],
   "source": [
    "print(df['Total Points Won Perc'])\n",
    "\n",
    "sorted_data = sorted(df['Total Points Won Perc'])\n",
    "num_elements = len(sorted_data)\n",
    "\n",
    "if num_elements % 2 == 1:\n",
    "    median = sorted_data[num_elements // 2]\n",
    "else:\n",
    "    median = (sorted_data[num_elements // 2 - 1] + sorted_data[num_elements // 2]) / 2.0\n",
    "\n",
    "print(\"Median:\", median)\n",
    "\n",
    "def square(Total_Points_Won_Perc):  \n",
    "    return Total_Points_Won_Perc * Total_Points_Won_Perc\n",
    "\n",
    "def sumOfSquaredDifferences(Total_Points_Won_Perc):  \n",
    "    xBar = sum(Total_Points_Won_Perc) / len(Total_Points_Won_Perc)  # Using sum() to calculate the mean\n",
    "    differences = map(lambda x: x - xBar, Total_Points_Won_Perc)\n",
    "    squaredDifferences = map(lambda x: x**2, differences)  # Use lambda x: x**2 to square each element\n",
    "    return sum(squaredDifferences)\n",
    "\n",
    "def variance(Total_Points_Won_Perc):  \n",
    "    n = len(Total_Points_Won_Perc)\n",
    "    return sumOfSquaredDifferences(Total_Points_Won_Perc) / (n - 1)\n",
    "\n",
    "variance(df['Total Points Won Perc'])"
   ]
  },
  {
   "cell_type": "code",
   "execution_count": 10,
   "id": "c61c6bac",
   "metadata": {},
   "outputs": [
    {
     "name": "stdout",
     "output_type": "stream",
     "text": [
      "0      293\n",
      "1    2,050\n",
      "2      NaN\n",
      "3      NaN\n",
      "4    1,135\n",
      "5      NaN\n",
      "6    1,182\n",
      "7      212\n",
      "8       27\n",
      "9      893\n",
      "Name: Ace, dtype: object\n"
     ]
    },
    {
     "ename": "TypeError",
     "evalue": "'<' not supported between instances of 'float' and 'str'",
     "output_type": "error",
     "traceback": [
      "\u001b[0;31m---------------------------------------------------------------------------\u001b[0m",
      "\u001b[0;31mTypeError\u001b[0m                                 Traceback (most recent call last)",
      "Cell \u001b[0;32mIn[10], line 3\u001b[0m\n\u001b[1;32m      1\u001b[0m \u001b[38;5;28mprint\u001b[39m(df[\u001b[38;5;124m'\u001b[39m\u001b[38;5;124mAce\u001b[39m\u001b[38;5;124m'\u001b[39m])\n\u001b[0;32m----> 3\u001b[0m sorted_data \u001b[38;5;241m=\u001b[39m \u001b[38;5;28msorted\u001b[39m(df[\u001b[38;5;124m'\u001b[39m\u001b[38;5;124mAce\u001b[39m\u001b[38;5;124m'\u001b[39m])\n\u001b[1;32m      4\u001b[0m num_elements \u001b[38;5;241m=\u001b[39m \u001b[38;5;28mlen\u001b[39m(sorted_data)\n\u001b[1;32m      6\u001b[0m \u001b[38;5;28;01mif\u001b[39;00m num_elements \u001b[38;5;241m%\u001b[39m \u001b[38;5;241m2\u001b[39m \u001b[38;5;241m==\u001b[39m \u001b[38;5;241m1\u001b[39m:\n",
      "\u001b[0;31mTypeError\u001b[0m: '<' not supported between instances of 'float' and 'str'"
     ]
    }
   ],
   "source": [
    "print(df['Ace'])\n",
    "\n",
    "sorted_data = sorted(df['Ace'])\n",
    "num_elements = len(sorted_data)\n",
    "\n",
    "if num_elements % 2 == 1:\n",
    "    median = sorted_data[num_elements // 2]\n",
    "else:\n",
    "    median = (sorted_data[num_elements // 2 - 1] + sorted_data[num_elements // 2]) / 2.0\n",
    "\n",
    "print(\"Median:\", median)\n",
    "\n",
    "\n",
    "def square(Ace):\n",
    "    return  Ace * Ace \n",
    "\n",
    "def sumOfSquaredDifferences(Ace):\n",
    "    xBar = sum(Ace) / len(Ace)  # Using sum() to calculate the mean\n",
    "    differences = map(lambda x: x - xBar, Ace)\n",
    "    squaredDifferences = map(lambda x: x**2, differences)  # Use lambda x: x**2 to square each element\n",
    "    return sum(squaredDifferences)\n",
    "\n",
    "\n",
    "def variance(Ace):\n",
    "    n = len(Ace)\n",
    "    return sumOfSquaredDifferences(Ace) / (n - 1)\n",
    "\n",
    "\n",
    "variance(df['Ace'])"
   ]
  },
  {
   "cell_type": "code",
   "execution_count": 11,
   "id": "8ad9759a",
   "metadata": {},
   "outputs": [
    {
     "name": "stdout",
     "output_type": "stream",
     "text": [
      "0    134.0\n",
      "1    806.0\n",
      "2      NaN\n",
      "3      NaN\n",
      "4    436.0\n",
      "5      NaN\n",
      "6    959.0\n",
      "7     70.0\n",
      "8     30.0\n",
      "9    511.0\n",
      "Name: Double Faults, dtype: float64\n",
      "Median: 233.0\n"
     ]
    },
    {
     "data": {
      "text/plain": [
       "nan"
      ]
     },
     "execution_count": 11,
     "metadata": {},
     "output_type": "execute_result"
    }
   ],
   "source": [
    "print(df['Double Faults'])\n",
    "\n",
    "sorted_data = sorted(df['Double Faults'])\n",
    "num_elements = len(sorted_data)\n",
    "\n",
    "if num_elements % 2 == 1:\n",
    "    median = sorted_data[num_elements // 2]\n",
    "else:\n",
    "    median = (sorted_data[num_elements // 2 - 1] + sorted_data[num_elements // 2]) / 2.0\n",
    "\n",
    "print(\"Median:\", median)\n",
    "\n",
    "def square(Double_Faults):\n",
    "    return  Double_Faults * Double_Faults  \n",
    "\n",
    "def sumOfSquaredDifferences(Double_Faults):\n",
    "    xBar = sum(Double_Faults) / len(Double_Faults)  # Using sum() to calculate the mean\n",
    "    differences = map(lambda x: x - xBar, Double_Faults)\n",
    "    squaredDifferences = map(lambda x: x**2, differences)  # Use lambda x: x**2 to square each element\n",
    "    return sum(squaredDifferences)\n",
    "\n",
    "\n",
    "def variance(Double_Faults):\n",
    "    n = len(Double_Faults)\n",
    "    return sumOfSquaredDifferences(Double_Faults) / (n - 1)\n",
    "\n",
    "\n",
    "variance(df['Double Faults'])"
   ]
  },
  {
   "cell_type": "code",
   "execution_count": 12,
   "id": "b138026a",
   "metadata": {},
   "outputs": [
    {
     "name": "stdout",
     "output_type": "stream",
     "text": [
      "0    61.0\n",
      "1    59.0\n",
      "2     NaN\n",
      "3     NaN\n",
      "4    61.0\n",
      "5     NaN\n",
      "6    61.0\n",
      "7    55.0\n",
      "8    60.0\n",
      "9    65.0\n",
      "Name: First Serve Perc, dtype: float64\n",
      "Median: 60.5\n"
     ]
    },
    {
     "data": {
      "text/plain": [
       "nan"
      ]
     },
     "execution_count": 12,
     "metadata": {},
     "output_type": "execute_result"
    }
   ],
   "source": [
    "print(df['First Serve Perc'])\n",
    "\n",
    "sorted_data = sorted(df['First Serve Perc'])\n",
    "num_elements = len(sorted_data)\n",
    "\n",
    "if num_elements % 2 == 1:\n",
    "    median = sorted_data[num_elements // 2]\n",
    "else:\n",
    "    median = (sorted_data[num_elements // 2 - 1] + sorted_data[num_elements // 2]) / 2.0\n",
    "\n",
    "print(\"Median:\", median)\n",
    "\n",
    "def square(First_Serve_Perc):  \n",
    "    return First_Serve_Perc * First_Serve_Perc  \n",
    "\n",
    "def sumOfSquaredDifferences(First_Serve_Perc):  \n",
    "    xBar = sum(First_Serve_Perc) / len(First_Serve_Perc)  # Using sum() to calculate the mean\n",
    "    differences = map(lambda x: x - xBar, First_Serve_Perc)\n",
    "    squaredDifferences = map(lambda x: x**2, differences)  # Use lambda x: x**2 to square each element\n",
    "    return sum(squaredDifferences)\n",
    "\n",
    "def variance(First_Serve_Perc):  \n",
    "    n = len(First_Serve_Perc)\n",
    "    return sumOfSquaredDifferences(First_Serve_Perc) / (n - 1)\n",
    "\n",
    "variance(df['First Serve Perc'])"
   ]
  },
  {
   "cell_type": "code",
   "execution_count": 13,
   "id": "4c37ef2a",
   "metadata": {},
   "outputs": [
    {
     "name": "stdout",
     "output_type": "stream",
     "text": [
      "0    72.0\n",
      "1    72.0\n",
      "2     NaN\n",
      "3     NaN\n",
      "4    73.0\n",
      "5     NaN\n",
      "6    71.0\n",
      "7    79.0\n",
      "8    68.0\n",
      "9    69.0\n",
      "Name: First Serve Points Won Perc, dtype: float64\n",
      "Median: 70.5\n"
     ]
    },
    {
     "data": {
      "text/plain": [
       "nan"
      ]
     },
     "execution_count": 13,
     "metadata": {},
     "output_type": "execute_result"
    }
   ],
   "source": [
    "print(df['First Serve Points Won Perc'])\n",
    "\n",
    "sorted_data = sorted(df['First Serve Points Won Perc'])\n",
    "num_elements = len(sorted_data)\n",
    "\n",
    "if num_elements % 2 == 1:\n",
    "    median = sorted_data[num_elements // 2]\n",
    "else:\n",
    "    median = (sorted_data[num_elements // 2 - 1] + sorted_data[num_elements // 2]) / 2.0\n",
    "\n",
    "print(\"Median:\", median)\n",
    "\n",
    "def square(First_Serve_Points_Won_Perc):  \n",
    "    return First_Serve_Points_Won_Perc * First_Serve_Points_Won_Perc\n",
    "\n",
    "def sumOfSquaredDifferences(First_Serve_Points_Won_Perc):  \n",
    "    xBar = sum(First_Serve_Points_Won_Perc) / len(First_Serve_Points_Won_Perc)  # Using sum() to calculate the mean\n",
    "    differences = map(lambda x: x - xBar, First_Serve_Points_Won_Perc)\n",
    "    squaredDifferences = map(lambda x: x**2, differences)  # Use lambda x: x**2 to square each element\n",
    "    return sum(squaredDifferences)\n",
    "\n",
    "def variance(First_Serve_Points_Won_Perc):  \n",
    "    n = len(First_Serve_Points_Won_Perc)\n",
    "    return sumOfSquaredDifferences(First_Serve_Points_Won_Perc) / (n - 1)\n",
    "\n",
    "variance(df['First Serve Points Won Perc'])\n",
    "\n"
   ]
  },
  {
   "cell_type": "code",
   "execution_count": 15,
   "id": "d4e297d8",
   "metadata": {},
   "outputs": [
    {
     "name": "stdout",
     "output_type": "stream",
     "text": [
      "0    49.0\n",
      "1    49.0\n",
      "2     NaN\n",
      "3     NaN\n",
      "4    49.0\n",
      "5     NaN\n",
      "6    46.0\n",
      "7    50.0\n",
      "8    40.0\n",
      "9    50.0\n",
      "Name: Second Serve Points Won Perc, dtype: float64\n",
      "Median: 44.5\n"
     ]
    },
    {
     "data": {
      "text/plain": [
       "nan"
      ]
     },
     "execution_count": 15,
     "metadata": {},
     "output_type": "execute_result"
    }
   ],
   "source": [
    "print(df['Second Serve Points Won Perc'])\n",
    "\n",
    "sorted_data = sorted(df['Second Serve Points Won Perc'])\n",
    "num_elements = len(sorted_data)\n",
    "\n",
    "if num_elements % 2 == 1:\n",
    "    median = sorted_data[num_elements // 2]\n",
    "else:\n",
    "    median = (sorted_data[num_elements // 2 - 1] + sorted_data[num_elements // 2]) / 2.0\n",
    "\n",
    "print(\"Median:\", median)\n",
    "\n",
    "def square(Second_Serve_Points_Won_Perc):  \n",
    "    return Second_Serve_Points_Won_Perc * Second_Serve_Points_Won_Perc\n",
    "\n",
    "def sumOfSquaredDifferences(Second_Serve_Points_Won_Perc):  \n",
    "    xBar = sum(Second_Serve_Points_Won_Perc) / len(Second_Serve_Points_Won_Perc)  # Using sum() to calculate the mean\n",
    "    differences = map(lambda x: x - xBar, Second_Serve_Points_Won_Perc)\n",
    "    squaredDifferences = map(lambda x: x**2, differences)  # Use lambda x: x**2 to square each element\n",
    "    return sum(squaredDifferences)\n",
    "\n",
    "def variance(Second_Serve_Points_Won_Perc):  \n",
    "    n = len(Second_Serve_Points_Won_Perc)\n",
    "    return sumOfSquaredDifferences(Second_Serve_Points_Won_Perc) / (n - 1)\n",
    "\n",
    "variance(df['Second Serve Points Won Perc'])"
   ]
  },
  {
   "cell_type": "code",
   "execution_count": 18,
   "id": "b40453b9",
   "metadata": {},
   "outputs": [
    {
     "name": "stdout",
     "output_type": "stream",
     "text": [
      "0      224\n",
      "1    1,699\n",
      "2      NaN\n",
      "3      NaN\n",
      "4      977\n",
      "5      NaN\n",
      "6    1,486\n",
      "7      123\n",
      "8       68\n",
      "9    1,483\n",
      "Name: Break Points Faced, dtype: object\n"
     ]
    },
    {
     "ename": "TypeError",
     "evalue": "'<' not supported between instances of 'float' and 'str'",
     "output_type": "error",
     "traceback": [
      "\u001b[0;31m---------------------------------------------------------------------------\u001b[0m",
      "\u001b[0;31mTypeError\u001b[0m                                 Traceback (most recent call last)",
      "Cell \u001b[0;32mIn[18], line 3\u001b[0m\n\u001b[1;32m      1\u001b[0m \u001b[38;5;28mprint\u001b[39m(df[\u001b[38;5;124m'\u001b[39m\u001b[38;5;124mBreak Points Faced\u001b[39m\u001b[38;5;124m'\u001b[39m])\n\u001b[0;32m----> 3\u001b[0m sorted_data \u001b[38;5;241m=\u001b[39m \u001b[38;5;28msorted\u001b[39m(df[\u001b[38;5;124m'\u001b[39m\u001b[38;5;124mBreak Points Faced\u001b[39m\u001b[38;5;124m'\u001b[39m])\n\u001b[1;32m      4\u001b[0m num_elements \u001b[38;5;241m=\u001b[39m \u001b[38;5;28mlen\u001b[39m(sorted_data)\n\u001b[1;32m      6\u001b[0m \u001b[38;5;28;01mif\u001b[39;00m num_elements \u001b[38;5;241m%\u001b[39m \u001b[38;5;241m2\u001b[39m \u001b[38;5;241m==\u001b[39m \u001b[38;5;241m1\u001b[39m:\n",
      "\u001b[0;31mTypeError\u001b[0m: '<' not supported between instances of 'float' and 'str'"
     ]
    }
   ],
   "source": [
    "print(df['Break Points Faced'])\n",
    "\n",
    "sorted_data = sorted(df['Break Points Faced'])\n",
    "num_elements = len(sorted_data)\n",
    "\n",
    "if num_elements % 2 == 1:\n",
    "    median = sorted_data[num_elements // 2]\n",
    "else:\n",
    "    median = (sorted_data[num_elements // 2 - 1] + sorted_data[num_elements // 2]) / 2.0\n",
    "\n",
    "print(\"Median:\", median)\n",
    "\n",
    "def square(Break_Points_Faced):  \n",
    "    return Break_Points_Faced * Break_Points_Faced\n",
    "\n",
    "def sumOfSquaredDifferences(Break_Points_Faced):  \n",
    "    xBar = sum(Break_Points_Faced) / len(Break_Points_Faced)  # Using sum() to calculate the mean\n",
    "    differences = map(lambda x: x - xBar, Break_Points_Faced)\n",
    "    squaredDifferences = map(lambda x: x**2, differences)  # Use lambda x: x**2 to square each element\n",
    "    return sum(squaredDifferences)\n",
    "\n",
    "def variance(Break_Points_Faced):  \n",
    "    n = len(Break_Points_Faced)\n",
    "    return sumOfSquaredDifferences(Break_Points_Faced) / (n - 1)\n",
    "\n",
    "variance(df['Break Points Faced'])"
   ]
  },
  {
   "cell_type": "code",
   "execution_count": 20,
   "id": "2e96c976",
   "metadata": {},
   "outputs": [
    {
     "name": "stdout",
     "output_type": "stream",
     "text": [
      "0    57.0\n",
      "1    60.0\n",
      "2     NaN\n",
      "3     NaN\n",
      "4    59.0\n",
      "5     NaN\n",
      "6    57.0\n",
      "7    67.0\n",
      "8    51.0\n",
      "9    59.0\n",
      "Name: BP SVD Perc, dtype: float64\n",
      "Median: 55.0\n"
     ]
    },
    {
     "data": {
      "text/plain": [
       "nan"
      ]
     },
     "execution_count": 20,
     "metadata": {},
     "output_type": "execute_result"
    }
   ],
   "source": [
    "print(df['BP SVD Perc'])\n",
    "\n",
    "sorted_data = sorted(df['BP SVD Perc'])\n",
    "num_elements = len(sorted_data)\n",
    "\n",
    "if num_elements % 2 == 1:\n",
    "    median = sorted_data[num_elements // 2]\n",
    "else:\n",
    "    median = (sorted_data[num_elements // 2 - 1] + sorted_data[num_elements // 2]) / 2.0\n",
    "\n",
    "print(\"Median:\", median)\n",
    "\n",
    "def square(BP_SVD_Perc):  \n",
    "    return BP_SVD_Perc * BP_SVD_Perc  \n",
    "\n",
    "def sumOfSquaredDifferences(BP_SVD_Perc):  \n",
    "    xBar = sum(BP_SVD_Perc) / len(BP_SVD_Perc)  # Using sum() to calculate the mean\n",
    "    differences = map(lambda x: x - xBar, BP_SVD_Perc)\n",
    "    squaredDifferences = map(lambda x: x**2, differences)  # Use lambda x: x**2 to square each element\n",
    "    return sum(squaredDifferences)\n",
    "\n",
    "def variance(BP_SVD_Perc):  \n",
    "    n = len(BP_SVD_Perc)\n",
    "    return sumOfSquaredDifferences(BP_SVD_Perc) / (n - 1)\n",
    "\n",
    "variance(df['BP SVD Perc'])\n",
    "\n"
   ]
  },
  {
   "cell_type": "code",
   "execution_count": 22,
   "id": "2995f6f1",
   "metadata": {},
   "outputs": [
    {
     "name": "stdout",
     "output_type": "stream",
     "text": [
      "0      445\n",
      "1    3,045\n",
      "2      NaN\n",
      "3      NaN\n",
      "4    1,852\n",
      "5      NaN\n",
      "6    2,438\n",
      "7      238\n",
      "8       91\n",
      "9    2,663\n",
      "Name: Service Games Played, dtype: object\n"
     ]
    },
    {
     "ename": "TypeError",
     "evalue": "'<' not supported between instances of 'float' and 'str'",
     "output_type": "error",
     "traceback": [
      "\u001b[0;31m---------------------------------------------------------------------------\u001b[0m",
      "\u001b[0;31mTypeError\u001b[0m                                 Traceback (most recent call last)",
      "Cell \u001b[0;32mIn[22], line 3\u001b[0m\n\u001b[1;32m      1\u001b[0m \u001b[38;5;28mprint\u001b[39m(df[\u001b[38;5;124m'\u001b[39m\u001b[38;5;124mService Games Played\u001b[39m\u001b[38;5;124m'\u001b[39m])\n\u001b[0;32m----> 3\u001b[0m sorted_data \u001b[38;5;241m=\u001b[39m \u001b[38;5;28msorted\u001b[39m(df[\u001b[38;5;124m'\u001b[39m\u001b[38;5;124mService Games Played\u001b[39m\u001b[38;5;124m'\u001b[39m])\n\u001b[1;32m      4\u001b[0m num_elements \u001b[38;5;241m=\u001b[39m \u001b[38;5;28mlen\u001b[39m(sorted_data)\n\u001b[1;32m      6\u001b[0m \u001b[38;5;28;01mif\u001b[39;00m num_elements \u001b[38;5;241m%\u001b[39m \u001b[38;5;241m2\u001b[39m \u001b[38;5;241m==\u001b[39m \u001b[38;5;241m1\u001b[39m:\n",
      "\u001b[0;31mTypeError\u001b[0m: '<' not supported between instances of 'float' and 'str'"
     ]
    }
   ],
   "source": [
    "print(df['Service Games Played'])\n",
    "\n",
    "sorted_data = sorted(df['Service Games Played'])\n",
    "num_elements = len(sorted_data)\n",
    "\n",
    "if num_elements % 2 == 1:\n",
    "    median = sorted_data[num_elements // 2]\n",
    "else:\n",
    "    median = (sorted_data[num_elements // 2 - 1] + sorted_data[num_elements // 2]) / 2.0\n",
    "\n",
    "print(\"Median:\", median)\n",
    "\n",
    "def square(Service_Games_Played):  \n",
    "    return Service_Games_Played * Service_Games_Played  \n",
    "\n",
    "def sumOfSquaredDifferences(Service_Games_Played):  \n",
    "    xBar = sum(Service_Games_Played) / len(Service_Games_Played)  # Using sum() to calculate the mean\n",
    "    differences = map(lambda x: x - xBar, Service_Games_Played)\n",
    "    squaredDifferences = map(lambda x: x**2, differences)  # Use lambda x: x**2 to square each element\n",
    "    return sum(squaredDifferences)\n",
    "\n",
    "def variance(Service_Games_Played):  \n",
    "    n = len(Service_Games_Played)\n",
    "    return sumOfSquaredDifferences(Service_Games_Played) / (n - 1)\n",
    "\n",
    "variance(df['Service Games Played'])\n"
   ]
  },
  {
   "cell_type": "code",
   "execution_count": 23,
   "id": "9d605084",
   "metadata": {},
   "outputs": [
    {
     "name": "stdout",
     "output_type": "stream",
     "text": [
      "0    78.0\n",
      "1    78.0\n",
      "2     NaN\n",
      "3     NaN\n",
      "4    79.0\n",
      "5     NaN\n",
      "6    74.0\n",
      "7    83.0\n",
      "8    64.0\n",
      "9    77.0\n",
      "Name: Service Games Won Perc, dtype: float64\n",
      "Median: 71.5\n"
     ]
    },
    {
     "data": {
      "text/plain": [
       "nan"
      ]
     },
     "execution_count": 23,
     "metadata": {},
     "output_type": "execute_result"
    }
   ],
   "source": [
    "print(df['Service Games Won Perc'])\n",
    "\n",
    "sorted_data = sorted(df['Service Games Won Perc'])\n",
    "num_elements = len(sorted_data)\n",
    "\n",
    "if num_elements % 2 == 1:\n",
    "    median = sorted_data[num_elements // 2]\n",
    "else:\n",
    "    median = (sorted_data[num_elements // 2 - 1] + sorted_data[num_elements // 2]) / 2.0\n",
    "\n",
    "print(\"Median:\", median)\n",
    "\n",
    "def square(Service_Games_Won_Perc):  \n",
    "    return Service_Games_Won_Perc * Serve_Games_Won_Perc \n",
    "\n",
    "def sumOfSquaredDifferences(Service_Games_Won_Perc):  \n",
    "    xBar = sum(Service_Games_Won_Perc) / len(Service_Games_Won_Perc)  # Using sum() to calculate the mean\n",
    "    differences = map(lambda x: x - xBar, Service_Games_Won_Perc)\n",
    "    squaredDifferences = map(lambda x: x**2, differences)  # Use lambda x: x**2 to square each element\n",
    "    return sum(squaredDifferences)\n",
    "\n",
    "def variance(Service_Games_Won_Perc):  \n",
    "    n = len(Service_Games_Won_Perc)\n",
    "    return sumOfSquaredDifferences(Service_Games_Won_Perc) / (n - 1)\n",
    "\n",
    "variance(df['Service Games Won Perc'])"
   ]
  },
  {
   "cell_type": "code",
   "execution_count": 24,
   "id": "08604b78",
   "metadata": {},
   "outputs": [
    {
     "name": "stdout",
     "output_type": "stream",
     "text": [
      "0    63.0\n",
      "1    63.0\n",
      "2     NaN\n",
      "3     NaN\n",
      "4    63.0\n",
      "5     NaN\n",
      "6    61.0\n",
      "7    66.0\n",
      "8    57.0\n",
      "9    62.0\n",
      "Name: Total Service Points Won Perc, dtype: float64\n",
      "Median: 60.0\n"
     ]
    },
    {
     "data": {
      "text/plain": [
       "nan"
      ]
     },
     "execution_count": 24,
     "metadata": {},
     "output_type": "execute_result"
    }
   ],
   "source": [
    "\n",
    "print(df['Total Service Points Won Perc'])\n",
    "\n",
    "sorted_data = sorted(df['Total Service Points Won Perc'])\n",
    "num_elements = len(sorted_data)\n",
    "\n",
    "if num_elements % 2 == 1:\n",
    "    median = sorted_data[num_elements // 2]\n",
    "else:\n",
    "    median = (sorted_data[num_elements // 2 - 1] + sorted_data[num_elements // 2]) / 2.0\n",
    "\n",
    "print(\"Median:\", median)\n",
    "\n",
    "def square(Total_Service_Points_Won_Perc):  \n",
    "    return Total_Service_Points_Won_Perc * Total_Service_Points_Won_Perc \n",
    "\n",
    "def sumOfSquaredDifferences(Total_Service_Points_Won_Perc):  \n",
    "    xBar = sum(Total_Service_Points_Won_Perc) / len(Total_Service_Points_Won_Perc)  # Using sum() to calculate the mean\n",
    "    differences = map(lambda x: x - xBar, Total_Service_Points_Won_Perc)\n",
    "    squaredDifferences = map(lambda x: x**2, differences)  # Use lambda x: x**2 to square each element\n",
    "    return sum(squaredDifferences)\n",
    "\n",
    "def variance(Total_Service_Points_Won_Perc):  \n",
    "    n = len(Total_Service_Points_Won_Perc)\n",
    "    return sumOfSquaredDifferences(Total_Service_Points_Won_Perc) / (n - 1)\n",
    "\n",
    "variance(df['Total Service Points Won Perc'])"
   ]
  },
  {
   "cell_type": "code",
   "execution_count": 25,
   "id": "23c66423",
   "metadata": {},
   "outputs": [
    {
     "name": "stdout",
     "output_type": "stream",
     "text": [
      "0    22.0\n",
      "1    29.0\n",
      "2     NaN\n",
      "3     NaN\n",
      "4    25.0\n",
      "5     NaN\n",
      "6    28.0\n",
      "7    20.0\n",
      "8    28.0\n",
      "9    28.0\n",
      "Name: First Serve Return Points Won Perc, dtype: float64\n",
      "Median: nan\n"
     ]
    },
    {
     "data": {
      "text/plain": [
       "nan"
      ]
     },
     "execution_count": 25,
     "metadata": {},
     "output_type": "execute_result"
    }
   ],
   "source": [
    "print(df['First Serve Return Points Won Perc'])\n",
    "\n",
    "sorted_data = sorted(df['First Serve Return Points Won Perc'])\n",
    "num_elements = len(sorted_data)\n",
    "\n",
    "if num_elements % 2 == 1:\n",
    "    median = sorted_data[num_elements // 2]\n",
    "else:\n",
    "    median = (sorted_data[num_elements // 2 - 1] + sorted_data[num_elements // 2]) / 2.0\n",
    "\n",
    "print(\"Median:\", median)\n",
    "\n",
    "def square(First_Serve_Return_Points_Won_Perc):  \n",
    "    return First_Serve_Return_Points_Won_Perc * First_Serve_Return_Points_Won_Perc\n",
    "\n",
    "def sumOfSquaredDifferences(First_Serve_Return_Points_Won_Perc):  \n",
    "    xBar = sum(First_Serve_Return_Points_Won_Perc) / len(First_Serve_Return_Points_Won_Perc)  # Using sum() to calculate the mean\n",
    "    differences = map(lambda x: x - xBar, First_Serve_Return_Points_Won_Perc)\n",
    "    squaredDifferences = map(lambda x: x**2, differences)  # Use lambda x: x**2 to square each element\n",
    "    return sum(squaredDifferences)\n",
    "\n",
    "def variance(First_Serve_Return_Points_Won_Perc):  \n",
    "    n = len(First_Serve_Return_Points_Won_Perc)\n",
    "    return sumOfSquaredDifferences(First_Serve_Return_Points_Won_Perc) / (n - 1)\n",
    "\n",
    "variance(df['First Serve Return Points Won Perc'])"
   ]
  },
  {
   "cell_type": "code",
   "execution_count": 27,
   "id": "8f702540",
   "metadata": {},
   "outputs": [
    {
     "name": "stdout",
     "output_type": "stream",
     "text": [
      "0    44.0\n",
      "1    49.0\n",
      "2     NaN\n",
      "3     NaN\n",
      "4    44.0\n",
      "5     NaN\n",
      "6    47.0\n",
      "7    41.0\n",
      "8    38.0\n",
      "9    48.0\n",
      "Name: Second Serve Return Points Won Perc, dtype: float64\n",
      "Median: 41.0\n"
     ]
    },
    {
     "data": {
      "text/plain": [
       "nan"
      ]
     },
     "execution_count": 27,
     "metadata": {},
     "output_type": "execute_result"
    }
   ],
   "source": [
    "print(df['Second Serve Return Points Won Perc'])\n",
    "\n",
    "sorted_data = sorted(df['Second Serve Return Points Won Perc'])\n",
    "num_elements = len(sorted_data)\n",
    "\n",
    "if num_elements % 2 == 1:\n",
    "    median = sorted_data[num_elements // 2]\n",
    "else:\n",
    "    median = (sorted_data[num_elements // 2 - 1] + sorted_data[num_elements // 2]) / 2.0\n",
    "\n",
    "print(\"Median:\", median)\n",
    "\n",
    "def square(Second_Serve_Return_Points_Won_Perc):  \n",
    "    return Second_Serve_Return_Points_Won_Perc * Second_Serve_Return_Points_Won_Perc\n",
    "\n",
    "def sumOfSquaredDifferences(Second_Serve_Return_Points_Won_Perc):  \n",
    "    xBar = sum(Second_Serve_Return_Points_Won_Perc) / len(Second_Serve_Return_Points_Won_Perc)  # Using sum() to calculate the mean\n",
    "    differences = map(lambda x: x - xBar, Second_Serve_Return_Points_Won_Perc)\n",
    "    squaredDifferences = map(lambda x: x**2, differences)  # Use lambda x: x**2 to square each element\n",
    "    return sum(squaredDifferences)\n",
    "\n",
    "def variance(Second_Serve_Return_Points_Won_Perc):  \n",
    "    n = len(Second_Serve_Return_Points_Won_Perc)\n",
    "    return sumOfSquaredDifferences(Second_Serve_Return_Points_Won_Perc) / (n - 1)\n",
    "\n",
    "variance(df['Second Serve Return Points Won Perc'])"
   ]
  },
  {
   "cell_type": "code",
   "execution_count": null,
   "id": "bfc5fde7",
   "metadata": {},
   "outputs": [],
   "source": []
  },
  {
   "cell_type": "code",
   "execution_count": 30,
   "id": "560b6900",
   "metadata": {},
   "outputs": [
    {
     "name": "stdout",
     "output_type": "stream",
     "text": [
      "0    31.0\n",
      "1    41.0\n",
      "2     NaN\n",
      "3     NaN\n",
      "4    36.0\n",
      "5     NaN\n",
      "6    39.0\n",
      "7    30.0\n",
      "8    34.0\n",
      "9    37.0\n",
      "Name: BP CONV Perc, dtype: float64\n",
      "Median: 35.0\n"
     ]
    },
    {
     "data": {
      "text/plain": [
       "nan"
      ]
     },
     "execution_count": 30,
     "metadata": {},
     "output_type": "execute_result"
    }
   ],
   "source": [
    "print(df['BP CONV Perc'])\n",
    "\n",
    "sorted_data = sorted(df['BP CONV Perc'])\n",
    "num_elements = len(sorted_data)\n",
    "\n",
    "if num_elements % 2 == 1:\n",
    "    median = sorted_data[num_elements // 2]\n",
    "else:\n",
    "    median = (sorted_data[num_elements // 2 - 1] + sorted_data[num_elements // 2]) / 2.0\n",
    "\n",
    "print(\"Median:\", median)\n",
    "\n",
    "def square(BP_CONV_Perc):  \n",
    "    return BP_CONV_Perc * BP_CONV_Perc \n",
    "\n",
    "def sumOfSquaredDifferences(BP_CONV_Perc):  \n",
    "    xBar = sum(BP_CONV_Perc) / len(BP_CONV_Perc)  # Using sum() to calculate the mean\n",
    "    differences = map(lambda x: x - xBar, BP_CONV_Perc)\n",
    "    squaredDifferences = map(lambda x: x**2, differences)  # Use lambda x: x**2 to square each element\n",
    "    return sum(squaredDifferences)\n",
    "\n",
    "def variance(BP_CONV_Perc):  \n",
    "    n = len(BP_CONV_Perc)\n",
    "    return sumOfSquaredDifferences(BP_CONV_Perc) / (n - 1)\n",
    "\n",
    "variance(df['BP CONV Perc'])"
   ]
  },
  {
   "cell_type": "code",
   "execution_count": null,
   "id": "796a3821",
   "metadata": {},
   "outputs": [],
   "source": []
  },
  {
   "cell_type": "code",
   "execution_count": 32,
   "id": "2006ae0b",
   "metadata": {},
   "outputs": [
    {
     "name": "stderr",
     "output_type": "stream",
     "text": [
      "/Users/mariagraziellabrevi/anaconda3/lib/python3.11/site-packages/seaborn/axisgrid.py:118: UserWarning: The figure layout has changed to tight\n",
      "  self._figure.tight_layout(*args, **kwargs)\n"
     ]
    },
    {
     "name": "stdout",
     "output_type": "stream",
     "text": [
      "Correlation Coefficient: nan\n"
     ]
    },
    {
     "data": {
      "image/png": "[encoded data removed]",
      "text/plain": [
       "<Figure size 500x500 with 1 Axes>"
      ]
     },
     "metadata": {},
     "output_type": "display_data"
    }
   ],
   "source": [
    "import seaborn as sns\n",
    "from math import sqrt\n",
    "\n",
    "plot = sns.lmplot(x='BP SVD Perc', y='BP CONV Perc', data=df)\n",
    "\n",
    "def calculate_correlation(x, y):\n",
    "    def n(arr):\n",
    "        return len(arr)\n",
    "\n",
    "    def product(x, y):\n",
    "        return x * y\n",
    "\n",
    "    def sumXTimesY(x, y):\n",
    "        return sum(map(product, x, y))\n",
    "\n",
    "    def numerator(x, y):\n",
    "        return n(x) * sumXTimesY(x, y) - sum(x) * sum(y)\n",
    "\n",
    "    def sumOfSquares(val):\n",
    "        return sum(map(lambda x: x**2, val))\n",
    "\n",
    "    def denominator(x, y):\n",
    "        return sqrt((n(x) * sumOfSquares(x) - sum(x)**2) * (n(y) * sumOfSquares(y) - sum(y)**2))\n",
    "\n",
    "    correlation = numerator(x, y) / denominator(x, y)\n",
    "    return correlation\n",
    "\n",
    "# Extract x and y data from the plot\n",
    "x_data = plot.data['BP SVD Perc']\n",
    "y_data = plot.data['BP CONV Perc']\n",
    "\n",
    "# Calculate and print the correlation coefficient\n",
    "correlation_coefficient = calculate_correlation(x_data, y_data)\n",
    "print(f'Correlation Coefficient: {correlation_coefficient}')"
   ]
  },
  {
   "cell_type": "code",
   "execution_count": 3,
   "id": "4ea87960",
   "metadata": {},
   "outputs": [
    {
     "name": "stderr",
     "output_type": "stream",
     "text": [
      "/Users/mariagraziellabrevi/anaconda3/lib/python3.11/site-packages/seaborn/axisgrid.py:118: UserWarning: The figure layout has changed to tight\n",
      "  self._figure.tight_layout(*args, **kwargs)\n"
     ]
    },
    {
     "name": "stdout",
     "output_type": "stream",
     "text": [
      "Correlation Coefficient: nan\n"
     ]
    },
    {
     "data": {
      "image/png": "[encoded data removed]",
      "text/plain": [
       "<Figure size 500x500 with 1 Axes>"
      ]
     },
     "metadata": {},
     "output_type": "display_data"
    }
   ],
   "source": [
    "import seaborn as sns\n",
    "from math import sqrt\n",
    "\n",
    "plot = sns.lmplot(x='First Serve Points Won Perc', y='First Serve Perc', data=df)\n",
    "\n",
    "def calculate_correlation(x, y):\n",
    "    def n(arr):\n",
    "        return len(arr)\n",
    "\n",
    "    def product(x, y):\n",
    "        return x * y\n",
    "\n",
    "    def sumXTimesY(x, y):\n",
    "        return sum(map(product, x, y))\n",
    "\n",
    "    def numerator(x, y):\n",
    "        return n(x) * sumXTimesY(x, y) - sum(x) * sum(y)\n",
    "\n",
    "    def sumOfSquares(val):\n",
    "        return sum(map(lambda x: x**2, val))\n",
    "\n",
    "    def denominator(x, y):\n",
    "        return sqrt((n(x) * sumOfSquares(x) - sum(x)**2) * (n(y) * sumOfSquares(y) - sum(y)**2))\n",
    "\n",
    "    correlation = numerator(x, y) / denominator(x, y)\n",
    "    return correlation\n",
    "\n",
    "# Extract x and y data from the plot\n",
    "x_data = plot.data['First Serve Points Won Perc']\n",
    "y_data = plot.data['First Serve Perc']\n",
    "\n",
    "# Calculate and print the correlation coefficient\n",
    "correlation_coefficient = calculate_correlation(x_data, y_data)\n",
    "print(f'Correlation Coefficient: {correlation_coefficient}')"
   ]
  },
  {
   "cell_type": "code",
   "execution_count": 6,
   "id": "340c7bf7",
   "metadata": {},
   "outputs": [
    {
     "name": "stderr",
     "output_type": "stream",
     "text": [
      "/Users/mariagraziellabrevi/anaconda3/lib/python3.11/site-packages/seaborn/axisgrid.py:118: UserWarning: The figure layout has changed to tight\n",
      "  self._figure.tight_layout(*args, **kwargs)\n"
     ]
    },
    {
     "name": "stdout",
     "output_type": "stream",
     "text": [
      "Correlation Coefficient: nan\n"
     ]
    },
    {
     "data": {
      "image/png": "[encoded data removed]",
      "text/plain": [
       "<Figure size 500x500 with 1 Axes>"
      ]
     },
     "metadata": {},
     "output_type": "display_data"
    }
   ],
   "source": [
    "plot = sns.lmplot(x='Total Points Won Perc', y='First Serve Perc', data=df)\n",
    "\n",
    "def calculate_correlation(x, y):\n",
    "    def n(arr):\n",
    "        return len(arr)\n",
    "\n",
    "    def product(x, y):\n",
    "        return x * y\n",
    "\n",
    "    def sumXTimesY(x, y):\n",
    "        return sum(map(product, x, y))\n",
    "\n",
    "    def numerator(x, y):\n",
    "        return n(x) * sumXTimesY(x, y) - sum(x) * sum(y)\n",
    "\n",
    "    def sumOfSquares(val):\n",
    "        return sum(map(lambda x: x**2, val))\n",
    "\n",
    "    def denominator(x, y):\n",
    "        return sqrt((n(x) * sumOfSquares(x) - sum(x)**2) * (n(y) * sumOfSquares(y) - sum(y)**2))\n",
    "\n",
    "    correlation = numerator(x, y) / denominator(x, y)\n",
    "    return correlation\n",
    "\n",
    "# Extract x and y data from the plot\n",
    "x_data = plot.data['Total Points Won Perc']\n",
    "y_data = plot.data['First Serve Perc']\n",
    "\n",
    "# Calculate and print the correlation coefficient\n",
    "correlation_coefficient = calculate_correlation(x_data, y_data)\n",
    "print(f'Correlation Coefficient: {correlation_coefficient}')"
   ]
  },
  {
   "cell_type": "code",
   "execution_count": 7,
   "id": "c951c613",
   "metadata": {},
   "outputs": [
    {
     "name": "stderr",
     "output_type": "stream",
     "text": [
      "/Users/mariagraziellabrevi/anaconda3/lib/python3.11/site-packages/seaborn/axisgrid.py:118: UserWarning: The figure layout has changed to tight\n",
      "  self._figure.tight_layout(*args, **kwargs)\n"
     ]
    },
    {
     "name": "stdout",
     "output_type": "stream",
     "text": [
      "Correlation Coefficient: nan\n"
     ]
    },
    {
     "data": {
      "image/png": "[encoded data removed]",
      "text/plain": [
       "<Figure size 500x500 with 1 Axes>"
      ]
     },
     "metadata": {},
     "output_type": "display_data"
    }
   ],
   "source": [
    "plot = sns.lmplot(x='Service Games Won Perc', y='First Serve Points Won Perc', data=df)\n",
    "\n",
    "def calculate_correlation(x, y):\n",
    "    def n(arr):\n",
    "        return len(arr)\n",
    "\n",
    "    def product(x, y):\n",
    "        return x * y\n",
    "\n",
    "    def sumXTimesY(x, y):\n",
    "        return sum(map(product, x, y))\n",
    "\n",
    "    def numerator(x, y):\n",
    "        return n(x) * sumXTimesY(x, y) - sum(x) * sum(y)\n",
    "\n",
    "    def sumOfSquares(val):\n",
    "        return sum(map(lambda x: x**2, val))\n",
    "\n",
    "    def denominator(x, y):\n",
    "        return sqrt((n(x) * sumOfSquares(x) - sum(x)**2) * (n(y) * sumOfSquares(y) - sum(y)**2))\n",
    "\n",
    "    correlation = numerator(x, y) / denominator(x, y)\n",
    "    return correlation\n",
    "\n",
    "# Extract x and y data from the plot\n",
    "x_data = plot.data['Service Games Won Perc']\n",
    "y_data = plot.data['First Serve Points Won Perc']\n",
    "\n",
    "# Calculate and print the correlation coefficient\n",
    "correlation_coefficient = calculate_correlation(x_data, y_data)\n",
    "print(f'Correlation Coefficient: {correlation_coefficient}')"
   ]
  },
  {
   "cell_type": "code",
   "execution_count": 8,
   "id": "3fca3387",
   "metadata": {},
   "outputs": [
    {
     "name": "stderr",
     "output_type": "stream",
     "text": [
      "/Users/mariagraziellabrevi/anaconda3/lib/python3.11/site-packages/seaborn/axisgrid.py:118: UserWarning: The figure layout has changed to tight\n",
      "  self._figure.tight_layout(*args, **kwargs)\n"
     ]
    },
    {
     "name": "stdout",
     "output_type": "stream",
     "text": [
      "Correlation Coefficient: nan\n"
     ]
    },
    {
     "data": {
      "image/png": "[encoded data removed]",
      "text/plain": [
       "<Figure size 500x500 with 1 Axes>"
      ]
     },
     "metadata": {},
     "output_type": "display_data"
    }
   ],
   "source": [
    "plot = sns.lmplot(x='Service Games Won Perc', y='First Serve Return Points Won Perc', data=df)\n",
    "                  \n",
    "def calculate_correlation(x, y):\n",
    "    def n(arr):\n",
    "        return len(arr)\n",
    "\n",
    "    def product(x, y):\n",
    "        return x * y\n",
    "\n",
    "    def sumXTimesY(x, y):\n",
    "        return sum(map(product, x, y))\n",
    "\n",
    "    def numerator(x, y):\n",
    "        return n(x) * sumXTimesY(x, y) - sum(x) * sum(y)\n",
    "\n",
    "    def sumOfSquares(val):\n",
    "        return sum(map(lambda x: x**2, val))\n",
    "\n",
    "    def denominator(x, y):\n",
    "        return sqrt((n(x) * sumOfSquares(x) - sum(x)**2) * (n(y) * sumOfSquares(y) - sum(y)**2))\n",
    "\n",
    "    correlation = numerator(x, y) / denominator(x, y)\n",
    "    return correlation\n",
    "\n",
    "# Extract x and y data from the plot\n",
    "x_data = plot.data['Service Games Won Perc']\n",
    "y_data = plot.data['First Serve Return Points Won Perc']\n",
    "\n",
    "# Calculate and print the correlation coefficient\n",
    "correlation_coefficient = calculate_correlation(x_data, y_data)\n",
    "print(f'Correlation Coefficient: {correlation_coefficient}')                  \n",
    "            \n",
    "\n",
    "                  "
   ]
  },
  {
   "cell_type": "code",
   "execution_count": 9,
   "id": "e00a62c6",
   "metadata": {},
   "outputs": [
    {
     "name": "stdout",
     "output_type": "stream",
     "text": [
      "Correlation Coefficient: nan\n"
     ]
    },
    {
     "name": "stderr",
     "output_type": "stream",
     "text": [
      "/Users/mariagraziellabrevi/anaconda3/lib/python3.11/site-packages/seaborn/axisgrid.py:118: UserWarning: The figure layout has changed to tight\n",
      "  self._figure.tight_layout(*args, **kwargs)\n"
     ]
    },
    {
     "data": {
      "image/png": "[encoded data removed]",
      "text/plain": [
       "<Figure size 500x500 with 1 Axes>"
      ]
     },
     "metadata": {},
     "output_type": "display_data"
    }
   ],
   "source": [
    "plot = sns.lmplot(x='Age', y='Service Games Won Perc', data=df)\n",
    "\n",
    "def calculate_correlation(x, y):\n",
    "    def n(arr):\n",
    "        return len(arr)\n",
    "\n",
    "    def product(x, y):\n",
    "        return x * y\n",
    "\n",
    "    def sumXTimesY(x, y):\n",
    "        return sum(map(product, x, y))\n",
    "\n",
    "    def numerator(x, y):\n",
    "        return n(x) * sumXTimesY(x, y) - sum(x) * sum(y)\n",
    "\n",
    "    def sumOfSquares(val):\n",
    "        return sum(map(lambda x: x**2, val))\n",
    "\n",
    "    def denominator(x, y):\n",
    "        return sqrt((n(x) * sumOfSquares(x) - sum(x)**2) * (n(y) * sumOfSquares(y) - sum(y)**2))\n",
    "\n",
    "    correlation = numerator(x, y) / denominator(x, y)\n",
    "    return correlation\n",
    "\n",
    "# Extract x and y data from the plot\n",
    "x_data = plot.data['Age']\n",
    "y_data = plot.data['Service Games Won Perc']\n",
    "\n",
    "# Calculate and print the correlation coefficient\n",
    "correlation_coefficient = calculate_correlation(x_data, y_data)\n",
    "print(f'Correlation Coefficient: {correlation_coefficient}')                  \n",
    "            "
   ]
  },
  {
   "cell_type": "code",
   "execution_count": 10,
   "id": "7d78f01d",
   "metadata": {},
   "outputs": [
    {
     "name": "stderr",
     "output_type": "stream",
     "text": [
      "/Users/mariagraziellabrevi/anaconda3/lib/python3.11/site-packages/seaborn/axisgrid.py:118: UserWarning: The figure layout has changed to tight\n",
      "  self._figure.tight_layout(*args, **kwargs)\n"
     ]
    },
    {
     "name": "stdout",
     "output_type": "stream",
     "text": [
      "Correlation Coefficient: nan\n"
     ]
    },
    {
     "data": {
      "image/png": "[encoded data removed]",
      "text/plain": [
       "<Figure size 500x500 with 1 Axes>"
      ]
     },
     "metadata": {},
     "output_type": "display_data"
    }
   ],
   "source": [
    "plot = sns.lmplot(x='Height', y='Total Points Won Perc', data=df)\n",
    "\n",
    "def calculate_correlation(x, y):\n",
    "    def n(arr):\n",
    "        return len(arr)\n",
    "\n",
    "    def product(x, y):\n",
    "        return x * y\n",
    "\n",
    "    def sumXTimesY(x, y):\n",
    "        return sum(map(product, x, y))\n",
    "\n",
    "    def numerator(x, y):\n",
    "        return n(x) * sumXTimesY(x, y) - sum(x) * sum(y)\n",
    "\n",
    "    def sumOfSquares(val):\n",
    "        return sum(map(lambda x: x**2, val))\n",
    "\n",
    "    def denominator(x, y):\n",
    "        return sqrt((n(x) * sumOfSquares(x) - sum(x)**2) * (n(y) * sumOfSquares(y) - sum(y)**2))\n",
    "\n",
    "    correlation = numerator(x, y) / denominator(x, y)\n",
    "    return correlation\n",
    "\n",
    "# Extract x and y data from the plot\n",
    "x_data = plot.data['Height']\n",
    "y_data = plot.data['Total Points Won Perc']\n",
    "\n",
    "# Calculate and print the correlation coefficient\n",
    "correlation_coefficient = calculate_correlation(x_data, y_data)\n",
    "print(f'Correlation Coefficient: {correlation_coefficient}')   "
   ]
  },
  {
   "cell_type": "code",
   "execution_count": 11,
   "id": "94478d9c",
   "metadata": {},
   "outputs": [
    {
     "data": {
      "image/png": "[encoded data removed]",
      "text/plain": [
       "<Figure size 700x500 with 1 Axes>"
      ]
     },
     "metadata": {},
     "output_type": "display_data"
    }
   ],
   "source": [
    "import matplotlib.pyplot as plt\n",
    "from matplotlib.patches import Rectangle, Circle\n",
    "\n",
    "def draw_tennis_court(ax):\n",
    "    # Tennis court size is 78 feet by 36 feet\n",
    "    court = Rectangle((0, 0), 78, 36, edgecolor=\"black\", facecolor=\"none\")\n",
    "    ax.add_patch(court)\n",
    "\n",
    "    # Singles sidelines\n",
    "    ax.plot([0, 0], [0, 36], color=\"black\")\n",
    "    ax.plot([78, 78], [0, 36], color=\"black\")\n",
    "    \n",
    "\n",
    "    # Net\n",
    "    net = Rectangle((39, 0), 0, 36, color=\"black\")\n",
    "    ax.add_patch(net)\n",
    "    \n",
    "    plt.axhline(y = 4.5, color = 'black', linestyle = '-')\n",
    "\n",
    "    plt.axhline(y = 31.5, color = 'black', linestyle = '-')\n",
    "    \n",
    "    \n",
    "    #ax.axvline(x = 18, color = 'black', linestyle = '-')\n",
    "\n",
    "    #ax.axvline(x = 60, color = 'black', linestyle = '-')\n",
    "    \n",
    "\n",
    "    # Left service box\n",
    "    \n",
    "    ax.add_patch(Rectangle((18, 4.5), 21, 13.5, edgecolor=\"black\", facecolor=\"none\"))\n",
    "    \n",
    "    ax.add_patch(Rectangle((18, 18), 21, 13.5, edgecolor=\"black\", facecolor=\"none\"))\n",
    "    \n",
    "\n",
    "    # Right service box\n",
    "    \n",
    "    ax.add_patch(Rectangle((39, 4.5), 21, 13.5, edgecolor=\"black\", facecolor=\"none\"))\n",
    "    \n",
    "    ax.add_patch(Rectangle((39, 18), 21, 13.5, edgecolor=\"black\", facecolor=\"none\"))\n",
    "\n",
    "    # Left baseline\n",
    "    ax.plot([0, 78], [0, 0], color=\"black\")\n",
    "\n",
    "    # Right baseline\n",
    "    ax.plot([0, 78], [36, 36], color=\"black\")\n",
    "\n",
    "\n",
    "# Create a new figure and axis\n",
    "fig = plt.figure()\n",
    "fig.set_size_inches(7, 5)\n",
    "ax = fig.add_subplot(1, 1, 1)\n",
    "\n",
    "# Draw the tennis court\n",
    "draw_tennis_court(ax)\n",
    "\n",
    "# Show the plot\n",
    "plt.show()\n"
   ]
  },
  {
   "cell_type": "code",
   "execution_count": null,
   "id": "d7dfa931",
   "metadata": {},
   "outputs": [],
   "source": []
  }
 ],
 "metadata": {
  "kernelspec": {
   "display_name": "Python 3 (ipykernel)",
   "language": "python",
   "name": "python3"
  },
  "language_info": {
   "codemirror_mode": {
    "name": "ipython",
    "version": 3
   },
   "file_extension": ".py",
   "mimetype": "text/x-python",
   "name": "python",
   "nbconvert_exporter": "python",
   "pygments_lexer": "ipython3",
   "version": "3.11.5"
  }
 },
 "nbformat": 4,
 "nbformat_minor": 5
}
