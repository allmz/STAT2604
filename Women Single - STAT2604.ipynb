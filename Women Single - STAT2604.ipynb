{
 "cells": [
  {
   "cell_type": "code",
   "execution_count": 1,
   "id": "ee6e5efe",
   "metadata": {},
   "outputs": [
    {
     "name": "stdout",
     "output_type": "stream",
     "text": [
      "   Ranking              Player  Hand   Height  Age  Matches  Aces   DF  \\\n",
      "0        1      ARYNA SABALENKA     R     182   25       65   388  256   \n",
      "1        2          IGA SWIATEK     R     176   22       74   119  116   \n",
      "2        3           COCO GAUFF     R     175   19       62   255  188   \n",
      "3        4       ELENA RYBAKINA     R     184   24       57   439  166   \n",
      "4        5       JESSICA PEGULA     R     170   29       70   176  180   \n",
      "5        6  MARKETA VONDROUSOVA     L     172   24       50   132  193   \n",
      "6        7           ONS JABEUR     R     167   29       50   179  154   \n",
      "7        8     KAROLIN AMUCHOVA     R     180   27       49   174  122   \n",
      "8        9        MARIA SAKKARI     R     172   28       60   227  190   \n",
      "9       10   BARBORA KREJCIKOVA     R     178   27       48   168  190   \n",
      "\n",
      "   First Serve Perc  First Serve Points Perc  Second Serve Perc  \\\n",
      "0              61.0                     73.3               49.6   \n",
      "1              65.7                     69.8               54.2   \n",
      "2              60.7                     68.6               48.4   \n",
      "3              56.6                     73.9               48.7   \n",
      "4              58.4                     66.2               51.1   \n",
      "5              64.2                     66.7               49.4   \n",
      "6              54.7                     68.3               46.0   \n",
      "7              63.1                     66.3               51.3   \n",
      "8              59.9                     67.8               48.4   \n",
      "9              60.0                     68.8               47.1   \n",
      "\n",
      "   Serve Points Won Perc  BP SVD Perc  Serve Game Won Perc  \\\n",
      "0                   64.1         61.3                 81.4   \n",
      "1                   64.5         52.5                 80.1   \n",
      "2                   60.6         59.0                 74.7   \n",
      "3                   62.9         63.3                 79.4   \n",
      "4                   59.9         57.2                 72.6   \n",
      "5                   60.5         54.6                 72.6   \n",
      "6                   58.2         55.5                 68.5   \n",
      "7                   60.8         60.1                 74.4   \n",
      "8                   60.0         61.4                 74.2   \n",
      "9                   60.1         57.0                 73.6   \n",
      "\n",
      "   First Return Points Perc  Second Return Points Perc  Return Game Won Perc  \\\n",
      "0                      37.9                       56.1                  37.0   \n",
      "1                      40.4                       63.5                  49.3   \n",
      "2                      39.3                       56.3                  41.2   \n",
      "3                      35.3                       55.3                  32.8   \n",
      "4                      40.0                       59.1                  44.2   \n",
      "5                      40.6                       58.1                  43.4   \n",
      "6                      40.3                       55.8                  41.4   \n",
      "7                      39.5                       52.7                  36.7   \n",
      "8                      37.0                       54.8                  34.1   \n",
      "9                      38.1                       55.3                  37.8   \n",
      "\n",
      "   BP CONV Perc  Return Points Won Perc  \n",
      "0          43.9                    44.9  \n",
      "1          55.6                    49.6  \n",
      "2          47.8                    45.7  \n",
      "3          42.3                    43.0  \n",
      "4          49.3                    47.3  \n",
      "5          46.4                    47.3  \n",
      "6          48.8                    46.3  \n",
      "7          47.7                    44.6  \n",
      "8          42.4                    43.6  \n",
      "9          50.4                    44.4  \n"
     ]
    }
   ],
   "source": [
    "import pandas as pd\n",
    "\n",
    "df = pd.read_csv('Women single - STAT2604 - Sheet1.csv')\n",
    "\n",
    "print(df)"
   ]
  },
  {
   "cell_type": "code",
   "execution_count": 2,
   "id": "7d8c8d39",
   "metadata": {},
   "outputs": [
    {
     "data": {
      "text/html": [
       "<div>\n",
       "<style scoped>\n",
       "    .dataframe tbody tr th:only-of-type {\n",
       "        vertical-align: middle;\n",
       "    }\n",
       "\n",
       "    .dataframe tbody tr th {\n",
       "        vertical-align: top;\n",
       "    }\n",
       "\n",
       "    .dataframe thead th {\n",
       "        text-align: right;\n",
       "    }\n",
       "</style>\n",
       "<table border=\"1\" class=\"dataframe\">\n",
       "  <thead>\n",
       "    <tr style=\"text-align: right;\">\n",
       "      <th></th>\n",
       "      <th>Ranking</th>\n",
       "      <th>Height</th>\n",
       "      <th>Age</th>\n",
       "      <th>Matches</th>\n",
       "      <th>Aces</th>\n",
       "      <th>DF</th>\n",
       "      <th>First Serve Perc</th>\n",
       "      <th>First Serve Points Perc</th>\n",
       "      <th>Second Serve Perc</th>\n",
       "      <th>Serve Points Won Perc</th>\n",
       "      <th>BP SVD Perc</th>\n",
       "      <th>Serve Game Won Perc</th>\n",
       "      <th>First Return Points Perc</th>\n",
       "      <th>Second Return Points Perc</th>\n",
       "      <th>Return Game Won Perc</th>\n",
       "      <th>BP CONV Perc</th>\n",
       "      <th>Return Points Won Perc</th>\n",
       "    </tr>\n",
       "  </thead>\n",
       "  <tbody>\n",
       "    <tr>\n",
       "      <th>count</th>\n",
       "      <td>10.00000</td>\n",
       "      <td>10.000000</td>\n",
       "      <td>10.000000</td>\n",
       "      <td>10.000000</td>\n",
       "      <td>10.000000</td>\n",
       "      <td>10.000000</td>\n",
       "      <td>10.000000</td>\n",
       "      <td>10.000000</td>\n",
       "      <td>10.000000</td>\n",
       "      <td>10.000000</td>\n",
       "      <td>10.000000</td>\n",
       "      <td>10.000000</td>\n",
       "      <td>10.000000</td>\n",
       "      <td>10.000000</td>\n",
       "      <td>10.000000</td>\n",
       "      <td>10.000000</td>\n",
       "      <td>10.000000</td>\n",
       "    </tr>\n",
       "    <tr>\n",
       "      <th>mean</th>\n",
       "      <td>5.50000</td>\n",
       "      <td>175.600000</td>\n",
       "      <td>25.400000</td>\n",
       "      <td>58.500000</td>\n",
       "      <td>225.700000</td>\n",
       "      <td>175.500000</td>\n",
       "      <td>60.430000</td>\n",
       "      <td>68.970000</td>\n",
       "      <td>49.420000</td>\n",
       "      <td>61.160000</td>\n",
       "      <td>58.190000</td>\n",
       "      <td>75.150000</td>\n",
       "      <td>38.840000</td>\n",
       "      <td>56.700000</td>\n",
       "      <td>39.790000</td>\n",
       "      <td>47.460000</td>\n",
       "      <td>45.670000</td>\n",
       "    </tr>\n",
       "    <tr>\n",
       "      <th>std</th>\n",
       "      <td>3.02765</td>\n",
       "      <td>5.460973</td>\n",
       "      <td>3.238655</td>\n",
       "      <td>9.288583</td>\n",
       "      <td>107.246393</td>\n",
       "      <td>39.914492</td>\n",
       "      <td>3.359911</td>\n",
       "      <td>2.701461</td>\n",
       "      <td>2.331332</td>\n",
       "      <td>2.014503</td>\n",
       "      <td>3.420348</td>\n",
       "      <td>3.985041</td>\n",
       "      <td>1.732179</td>\n",
       "      <td>2.959354</td>\n",
       "      <td>5.055569</td>\n",
       "      <td>4.031597</td>\n",
       "      <td>1.997804</td>\n",
       "    </tr>\n",
       "    <tr>\n",
       "      <th>min</th>\n",
       "      <td>1.00000</td>\n",
       "      <td>167.000000</td>\n",
       "      <td>19.000000</td>\n",
       "      <td>48.000000</td>\n",
       "      <td>119.000000</td>\n",
       "      <td>116.000000</td>\n",
       "      <td>54.700000</td>\n",
       "      <td>66.200000</td>\n",
       "      <td>46.000000</td>\n",
       "      <td>58.200000</td>\n",
       "      <td>52.500000</td>\n",
       "      <td>68.500000</td>\n",
       "      <td>35.300000</td>\n",
       "      <td>52.700000</td>\n",
       "      <td>32.800000</td>\n",
       "      <td>42.300000</td>\n",
       "      <td>43.000000</td>\n",
       "    </tr>\n",
       "    <tr>\n",
       "      <th>25%</th>\n",
       "      <td>3.25000</td>\n",
       "      <td>172.000000</td>\n",
       "      <td>24.000000</td>\n",
       "      <td>50.000000</td>\n",
       "      <td>169.500000</td>\n",
       "      <td>157.000000</td>\n",
       "      <td>58.775000</td>\n",
       "      <td>66.975000</td>\n",
       "      <td>48.400000</td>\n",
       "      <td>60.025000</td>\n",
       "      <td>55.875000</td>\n",
       "      <td>72.850000</td>\n",
       "      <td>37.950000</td>\n",
       "      <td>55.300000</td>\n",
       "      <td>36.775000</td>\n",
       "      <td>44.525000</td>\n",
       "      <td>44.450000</td>\n",
       "    </tr>\n",
       "    <tr>\n",
       "      <th>50%</th>\n",
       "      <td>5.50000</td>\n",
       "      <td>175.500000</td>\n",
       "      <td>26.000000</td>\n",
       "      <td>58.500000</td>\n",
       "      <td>177.500000</td>\n",
       "      <td>184.000000</td>\n",
       "      <td>60.350000</td>\n",
       "      <td>68.450000</td>\n",
       "      <td>49.050000</td>\n",
       "      <td>60.550000</td>\n",
       "      <td>58.100000</td>\n",
       "      <td>74.300000</td>\n",
       "      <td>39.400000</td>\n",
       "      <td>55.950000</td>\n",
       "      <td>39.500000</td>\n",
       "      <td>47.750000</td>\n",
       "      <td>45.300000</td>\n",
       "    </tr>\n",
       "    <tr>\n",
       "      <th>75%</th>\n",
       "      <td>7.75000</td>\n",
       "      <td>179.500000</td>\n",
       "      <td>27.750000</td>\n",
       "      <td>64.250000</td>\n",
       "      <td>248.000000</td>\n",
       "      <td>190.000000</td>\n",
       "      <td>62.575000</td>\n",
       "      <td>69.550000</td>\n",
       "      <td>50.725000</td>\n",
       "      <td>62.375000</td>\n",
       "      <td>61.000000</td>\n",
       "      <td>78.225000</td>\n",
       "      <td>40.225000</td>\n",
       "      <td>57.650000</td>\n",
       "      <td>42.900000</td>\n",
       "      <td>49.175000</td>\n",
       "      <td>47.050000</td>\n",
       "    </tr>\n",
       "    <tr>\n",
       "      <th>max</th>\n",
       "      <td>10.00000</td>\n",
       "      <td>184.000000</td>\n",
       "      <td>29.000000</td>\n",
       "      <td>74.000000</td>\n",
       "      <td>439.000000</td>\n",
       "      <td>256.000000</td>\n",
       "      <td>65.700000</td>\n",
       "      <td>73.900000</td>\n",
       "      <td>54.200000</td>\n",
       "      <td>64.500000</td>\n",
       "      <td>63.300000</td>\n",
       "      <td>81.400000</td>\n",
       "      <td>40.600000</td>\n",
       "      <td>63.500000</td>\n",
       "      <td>49.300000</td>\n",
       "      <td>55.600000</td>\n",
       "      <td>49.600000</td>\n",
       "    </tr>\n",
       "  </tbody>\n",
       "</table>\n",
       "</div>"
      ],
      "text/plain": [
       "        Ranking      Height        Age    Matches        Aces          DF  \\\n",
       "count  10.00000   10.000000  10.000000  10.000000   10.000000   10.000000   \n",
       "mean    5.50000  175.600000  25.400000  58.500000  225.700000  175.500000   \n",
       "std     3.02765    5.460973   3.238655   9.288583  107.246393   39.914492   \n",
       "min     1.00000  167.000000  19.000000  48.000000  119.000000  116.000000   \n",
       "25%     3.25000  172.000000  24.000000  50.000000  169.500000  157.000000   \n",
       "50%     5.50000  175.500000  26.000000  58.500000  177.500000  184.000000   \n",
       "75%     7.75000  179.500000  27.750000  64.250000  248.000000  190.000000   \n",
       "max    10.00000  184.000000  29.000000  74.000000  439.000000  256.000000   \n",
       "\n",
       "       First Serve Perc  First Serve Points Perc  Second Serve Perc  \\\n",
       "count         10.000000                10.000000          10.000000   \n",
       "mean          60.430000                68.970000          49.420000   \n",
       "std            3.359911                 2.701461           2.331332   \n",
       "min           54.700000                66.200000          46.000000   \n",
       "25%           58.775000                66.975000          48.400000   \n",
       "50%           60.350000                68.450000          49.050000   \n",
       "75%           62.575000                69.550000          50.725000   \n",
       "max           65.700000                73.900000          54.200000   \n",
       "\n",
       "       Serve Points Won Perc  BP SVD Perc  Serve Game Won Perc  \\\n",
       "count              10.000000    10.000000            10.000000   \n",
       "mean               61.160000    58.190000            75.150000   \n",
       "std                 2.014503     3.420348             3.985041   \n",
       "min                58.200000    52.500000            68.500000   \n",
       "25%                60.025000    55.875000            72.850000   \n",
       "50%                60.550000    58.100000            74.300000   \n",
       "75%                62.375000    61.000000            78.225000   \n",
       "max                64.500000    63.300000            81.400000   \n",
       "\n",
       "       First Return Points Perc  Second Return Points Perc  \\\n",
       "count                 10.000000                  10.000000   \n",
       "mean                  38.840000                  56.700000   \n",
       "std                    1.732179                   2.959354   \n",
       "min                   35.300000                  52.700000   \n",
       "25%                   37.950000                  55.300000   \n",
       "50%                   39.400000                  55.950000   \n",
       "75%                   40.225000                  57.650000   \n",
       "max                   40.600000                  63.500000   \n",
       "\n",
       "       Return Game Won Perc  BP CONV Perc  Return Points Won Perc  \n",
       "count             10.000000     10.000000               10.000000  \n",
       "mean              39.790000     47.460000               45.670000  \n",
       "std                5.055569      4.031597                1.997804  \n",
       "min               32.800000     42.300000               43.000000  \n",
       "25%               36.775000     44.525000               44.450000  \n",
       "50%               39.500000     47.750000               45.300000  \n",
       "75%               42.900000     49.175000               47.050000  \n",
       "max               49.300000     55.600000               49.600000  "
      ]
     },
     "execution_count": 2,
     "metadata": {},
     "output_type": "execute_result"
    }
   ],
   "source": [
    "df.describe()\n"
   ]
  },
  {
   "cell_type": "code",
   "execution_count": 3,
   "id": "d1310946",
   "metadata": {},
   "outputs": [
    {
     "name": "stdout",
     "output_type": "stream",
     "text": [
      "0    182\n",
      "1    176\n",
      "2    175\n",
      "3    184\n",
      "4    170\n",
      "5    172\n",
      "6    167\n",
      "7    180\n",
      "8    172\n",
      "9    178\n",
      "Name: Height, dtype: int64\n",
      "Median: 175.5\n"
     ]
    },
    {
     "data": {
      "text/plain": [
       "29.82222222222222"
      ]
     },
     "execution_count": 3,
     "metadata": {},
     "output_type": "execute_result"
    }
   ],
   "source": [
    "print(df['Height'])\n",
    "\n",
    "sorted_data = sorted(df['Height'])\n",
    "num_elements = len(sorted_data)\n",
    "\n",
    "if num_elements % 2 == 1:\n",
    "    median = sorted_data[num_elements // 2]\n",
    "else:\n",
    "    median = (sorted_data[num_elements // 2 - 1] + sorted_data[num_elements // 2]) / 2.0\n",
    "\n",
    "print(\"Median:\", median)\n",
    "\n",
    "def square(Height):\n",
    "    return Height * Height\n",
    "\n",
    "\n",
    "def sumOfSquaredDifferences(Height):\n",
    "    xBar = sum(Height) / len(Height)  # Using sum() to calculate the mean\n",
    "    differences = map(lambda x: x - xBar, Height)\n",
    "    squaredDifferences = map(lambda x: x**2, differences)  # Use lambda x: x**2 to square each element\n",
    "    return sum(squaredDifferences)\n",
    "\n",
    "\n",
    "def variance(Height):\n",
    "    n = len(Height)\n",
    "    return sumOfSquaredDifferences(Height) / (n - 1)\n",
    "\n",
    "\n",
    "variance(df['Height'])\n"
   ]
  },
  {
   "cell_type": "code",
   "execution_count": 4,
   "id": "e09b7a86",
   "metadata": {},
   "outputs": [
    {
     "name": "stdout",
     "output_type": "stream",
     "text": [
      "0    25\n",
      "1    22\n",
      "2    19\n",
      "3    24\n",
      "4    29\n",
      "5    24\n",
      "6    29\n",
      "7    27\n",
      "8    28\n",
      "9    27\n",
      "Name: Age, dtype: int64\n",
      "Median: 26.0\n"
     ]
    },
    {
     "data": {
      "text/plain": [
       "10.488888888888887"
      ]
     },
     "execution_count": 4,
     "metadata": {},
     "output_type": "execute_result"
    }
   ],
   "source": [
    "print(df['Age'])\n",
    "\n",
    "sorted_data = sorted(df['Age'])\n",
    "num_elements = len(sorted_data)\n",
    "\n",
    "if num_elements % 2 == 1:\n",
    "    median = sorted_data[num_elements // 2]\n",
    "else:\n",
    "    median = (sorted_data[num_elements // 2 - 1] + sorted_data[num_elements // 2]) / 2.0\n",
    "\n",
    "print(\"Median:\", median)\n",
    "\n",
    "def square(Age):\n",
    "    return Age * Age\n",
    "\n",
    "def sumOfSquaredDifferences(Age):\n",
    "    xBar = sum(Age) / len(Age)  # Using sum() to calculate the mean\n",
    "    differences = map(lambda x: x - xBar, Age)\n",
    "    squaredDifferences = map(lambda x: x**2, differences)  # Use lambda x: x**2 to square each element\n",
    "    return sum(squaredDifferences)\n",
    "\n",
    "\n",
    "def variance(Age):\n",
    "    n = len(Age)\n",
    "    return sumOfSquaredDifferences(Age) / (n - 1)\n",
    "\n",
    "\n",
    "variance(df['Age'])"
   ]
  },
  {
   "cell_type": "code",
   "execution_count": 5,
   "id": "10500b27",
   "metadata": {},
   "outputs": [
    {
     "name": "stdout",
     "output_type": "stream",
     "text": [
      "0    65\n",
      "1    74\n",
      "2    62\n",
      "3    57\n",
      "4    70\n",
      "5    50\n",
      "6    50\n",
      "7    49\n",
      "8    60\n",
      "9    48\n",
      "Name: Matches, dtype: int64\n",
      "Median: 58.5\n"
     ]
    },
    {
     "data": {
      "text/plain": [
       "86.27777777777777"
      ]
     },
     "execution_count": 5,
     "metadata": {},
     "output_type": "execute_result"
    }
   ],
   "source": [
    "print(df['Matches'])\n",
    "\n",
    "sorted_data = sorted(df['Matches'])\n",
    "num_elements = len(sorted_data)\n",
    "\n",
    "if num_elements % 2 == 1:\n",
    "    median = sorted_data[num_elements // 2]\n",
    "else:\n",
    "    median = (sorted_data[num_elements // 2 - 1] + sorted_data[num_elements // 2]) / 2.0\n",
    "\n",
    "print(\"Median:\", median)\n",
    "\n",
    "def square(Matches):\n",
    "    return Matches * Matches\n",
    "\n",
    "def sumOfSquaredDifferences(Matches):\n",
    "    xBar = sum(Matches) / len(Matches)  # Using sum() to calculate the mean\n",
    "    differences = map(lambda x: x - xBar, Matches)\n",
    "    squaredDifferences = map(lambda x: x**2, differences)  # Use lambda x: x**2 to square each element\n",
    "    return sum(squaredDifferences)\n",
    "\n",
    "\n",
    "def variance(Matches):\n",
    "    n = len(Matches)\n",
    "    return sumOfSquaredDifferences(Matches) / (n - 1)\n",
    "\n",
    "\n",
    "variance(df['Matches'])"
   ]
  },
  {
   "cell_type": "code",
   "execution_count": 6,
   "id": "ca112ae6",
   "metadata": {},
   "outputs": [
    {
     "name": "stdout",
     "output_type": "stream",
     "text": [
      "0    388\n",
      "1    119\n",
      "2    255\n",
      "3    439\n",
      "4    176\n",
      "5    132\n",
      "6    179\n",
      "7    174\n",
      "8    227\n",
      "9    168\n",
      "Name: Aces, dtype: int64\n",
      "Median: 177.5\n"
     ]
    },
    {
     "data": {
      "text/plain": [
       "11501.788888888888"
      ]
     },
     "execution_count": 6,
     "metadata": {},
     "output_type": "execute_result"
    }
   ],
   "source": [
    "print(df['Aces'])\n",
    "\n",
    "sorted_data = sorted(df['Aces'])\n",
    "num_elements = len(sorted_data)\n",
    "\n",
    "if num_elements % 2 == 1:\n",
    "    median = sorted_data[num_elements // 2]\n",
    "else:\n",
    "    median = (sorted_data[num_elements // 2 - 1] + sorted_data[num_elements // 2]) / 2.0\n",
    "\n",
    "print(\"Median:\", median)\n",
    "\n",
    "\n",
    "def square(Aces):\n",
    "    return  Aces * Aces  \n",
    "\n",
    "def sumOfSquaredDifferences(Aces):\n",
    "    xBar = sum(Aces) / len(Aces)  # Using sum() to calculate the mean\n",
    "    differences = map(lambda x: x - xBar, Aces)\n",
    "    squaredDifferences = map(lambda x: x**2, differences)  # Use lambda x: x**2 to square each element\n",
    "    return sum(squaredDifferences)\n",
    "\n",
    "\n",
    "def variance(Aces):\n",
    "    n = len(Aces)\n",
    "    return sumOfSquaredDifferences(Aces) / (n - 1)\n",
    "\n",
    "\n",
    "variance(df['Aces'])"
   ]
  },
  {
   "cell_type": "code",
   "execution_count": 7,
   "id": "a017f398",
   "metadata": {},
   "outputs": [
    {
     "name": "stdout",
     "output_type": "stream",
     "text": [
      "0    256\n",
      "1    116\n",
      "2    188\n",
      "3    166\n",
      "4    180\n",
      "5    193\n",
      "6    154\n",
      "7    122\n",
      "8    190\n",
      "9    190\n",
      "Name: DF, dtype: int64\n",
      "Median: 184.0\n"
     ]
    },
    {
     "data": {
      "text/plain": [
       "1593.1666666666667"
      ]
     },
     "execution_count": 7,
     "metadata": {},
     "output_type": "execute_result"
    }
   ],
   "source": [
    "print(df['DF'])\n",
    "\n",
    "sorted_data = sorted(df['DF'])\n",
    "num_elements = len(sorted_data)\n",
    "\n",
    "if num_elements % 2 == 1:\n",
    "    median = sorted_data[num_elements // 2]\n",
    "else:\n",
    "    median = (sorted_data[num_elements // 2 - 1] + sorted_data[num_elements // 2]) / 2.0\n",
    "\n",
    "print(\"Median:\", median)\n",
    "\n",
    "def square(DF):\n",
    "    return  DF * DF  \n",
    "\n",
    "def sumOfSquaredDifferences(DF):\n",
    "    xBar = sum(DF) / len(DF)  # Using sum() to calculate the mean\n",
    "    differences = map(lambda x: x - xBar, DF)\n",
    "    squaredDifferences = map(lambda x: x**2, differences)  # Use lambda x: x**2 to square each element\n",
    "    return sum(squaredDifferences)\n",
    "\n",
    "\n",
    "def variance(DF):\n",
    "    n = len(DF)\n",
    "    return sumOfSquaredDifferences(DF) / (n - 1)\n",
    "\n",
    "\n",
    "variance(df['DF'])"
   ]
  },
  {
   "cell_type": "code",
   "execution_count": 12,
   "id": "edf28736",
   "metadata": {},
   "outputs": [
    {
     "name": "stdout",
     "output_type": "stream",
     "text": [
      "0    61.0\n",
      "1    65.7\n",
      "2    60.7\n",
      "3    56.6\n",
      "4    58.4\n",
      "5    64.2\n",
      "6    54.7\n",
      "7    63.1\n",
      "8    59.9\n",
      "9    60.0\n",
      "Name: First Serve Perc, dtype: float64\n",
      "Median: 60.35\n"
     ]
    },
    {
     "data": {
      "text/plain": [
       "11.289000000000001"
      ]
     },
     "execution_count": 12,
     "metadata": {},
     "output_type": "execute_result"
    }
   ],
   "source": [
    "print(df['First Serve Perc'])\n",
    "\n",
    "sorted_data = sorted(df['First Serve Perc'])\n",
    "num_elements = len(sorted_data)\n",
    "\n",
    "if num_elements % 2 == 1:\n",
    "    median = sorted_data[num_elements // 2]\n",
    "else:\n",
    "    median = (sorted_data[num_elements // 2 - 1] + sorted_data[num_elements // 2]) / 2.0\n",
    "\n",
    "print(\"Median:\", median)\n",
    "\n",
    "def square(First_Serve_Perc):  \n",
    "    return First_Serve_Perc * First_Serve_Perc  \n",
    "\n",
    "def sumOfSquaredDifferences(First_Serve_Perc):  \n",
    "    xBar = sum(First_Serve_Perc) / len(First_Serve_Perc)  # Using sum() to calculate the mean\n",
    "    differences = map(lambda x: x - xBar, First_Serve_Perc)\n",
    "    squaredDifferences = map(lambda x: x**2, differences)  # Use lambda x: x**2 to square each element\n",
    "    return sum(squaredDifferences)\n",
    "\n",
    "def variance(First_Serve_Perc):  \n",
    "    n = len(First_Serve_Perc)\n",
    "    return sumOfSquaredDifferences(First_Serve_Perc) / (n - 1)\n",
    "\n",
    "variance(df['First Serve Perc'])"
   ]
  },
  {
   "cell_type": "code",
   "execution_count": 15,
   "id": "2fa724f1",
   "metadata": {},
   "outputs": [
    {
     "name": "stdout",
     "output_type": "stream",
     "text": [
      "0    73.3\n",
      "1    69.8\n",
      "2    68.6\n",
      "3    73.9\n",
      "4    66.2\n",
      "5    66.7\n",
      "6    68.3\n",
      "7    66.3\n",
      "8    67.8\n",
      "9    68.8\n",
      "Name: First Serve Points Perc, dtype: float64\n",
      "Median: 68.44999999999999\n"
     ]
    },
    {
     "data": {
      "text/plain": [
       "7.2978888888888935"
      ]
     },
     "execution_count": 15,
     "metadata": {},
     "output_type": "execute_result"
    }
   ],
   "source": [
    "print(df['First Serve Points Perc'])\n",
    "\n",
    "sorted_data = sorted(df['First Serve Points Perc'])\n",
    "num_elements = len(sorted_data)\n",
    "\n",
    "if num_elements % 2 == 1:\n",
    "    median = sorted_data[num_elements // 2]\n",
    "else:\n",
    "    median = (sorted_data[num_elements // 2 - 1] + sorted_data[num_elements // 2]) / 2.0\n",
    "\n",
    "print(\"Median:\", median)\n",
    "\n",
    "\n",
    "def square(First_Serve_Points_Perc):  \n",
    "    return First_Serve_Points_Perc * First_Serve_Points_Perc  \n",
    "\n",
    "def sumOfSquaredDifferences(First_Serve_Points_Perc):  \n",
    "    xBar = sum(First_Serve_Points_Perc) / len(First_Serve_Points_Perc)  # Using sum() to calculate the mean\n",
    "    differences = map(lambda x: x - xBar, First_Serve_Points_Perc)\n",
    "    squaredDifferences = map(lambda x: x**2, differences)  # Use lambda x: x**2 to square each element\n",
    "    return sum(squaredDifferences)\n",
    "\n",
    "def variance(First_Serve_Points_Perc):  \n",
    "    n = len(First_Serve_Points_Perc)\n",
    "    return sumOfSquaredDifferences(First_Serve_Points_Perc) / (n - 1)\n",
    "\n",
    "variance(df['First Serve Points Perc'])"
   ]
  },
  {
   "cell_type": "code",
   "execution_count": 16,
   "id": "06a4f3fd",
   "metadata": {},
   "outputs": [
    {
     "name": "stdout",
     "output_type": "stream",
     "text": [
      "0    49.6\n",
      "1    54.2\n",
      "2    48.4\n",
      "3    48.7\n",
      "4    51.1\n",
      "5    49.4\n",
      "6    46.0\n",
      "7    51.3\n",
      "8    48.4\n",
      "9    47.1\n",
      "Name: Second Serve Perc, dtype: float64\n",
      "Median: 49.05\n"
     ]
    },
    {
     "data": {
      "text/plain": [
       "5.435111111111113"
      ]
     },
     "execution_count": 16,
     "metadata": {},
     "output_type": "execute_result"
    }
   ],
   "source": [
    "print(df['Second Serve Perc'])\n",
    "\n",
    "sorted_data = sorted(df['Second Serve Perc'])\n",
    "num_elements = len(sorted_data)\n",
    "\n",
    "if num_elements % 2 == 1:\n",
    "    median = sorted_data[num_elements // 2]\n",
    "else:\n",
    "    median = (sorted_data[num_elements // 2 - 1] + sorted_data[num_elements // 2]) / 2.0\n",
    "\n",
    "print(\"Median:\", median)\n",
    "\n",
    "def square(Second_Serve_Perc):  \n",
    "    return Second_Serve_Perc * Second_Serve_Perc  \n",
    "\n",
    "def sumOfSquaredDifferences(Second_Serve_Perc):  \n",
    "    xBar = sum(Second_Serve_Perc) / len(Second_Serve_Perc)  # Using sum() to calculate the mean\n",
    "    differences = map(lambda x: x - xBar, Second_Serve_Perc)\n",
    "    squaredDifferences = map(lambda x: x**2, differences)  # Use lambda x: x**2 to square each element\n",
    "    return sum(squaredDifferences)\n",
    "\n",
    "def variance(Second_Serve_Perc):  \n",
    "    n = len(Second_Serve_Perc)\n",
    "    return sumOfSquaredDifferences(Second_Serve_Perc) / (n - 1)\n",
    "\n",
    "variance(df['Second Serve Perc'])"
   ]
  },
  {
   "cell_type": "code",
   "execution_count": 17,
   "id": "15c304be",
   "metadata": {},
   "outputs": [
    {
     "name": "stdout",
     "output_type": "stream",
     "text": [
      "0    64.1\n",
      "1    64.5\n",
      "2    60.6\n",
      "3    62.9\n",
      "4    59.9\n",
      "5    60.5\n",
      "6    58.2\n",
      "7    60.8\n",
      "8    60.0\n",
      "9    60.1\n",
      "Name: Serve Points Won Perc, dtype: float64\n",
      "Median: 60.55\n"
     ]
    },
    {
     "data": {
      "text/plain": [
       "4.058222222222216"
      ]
     },
     "execution_count": 17,
     "metadata": {},
     "output_type": "execute_result"
    }
   ],
   "source": [
    "print(df['Serve Points Won Perc'])\n",
    "\n",
    "sorted_data = sorted(df['Serve Points Won Perc'])\n",
    "num_elements = len(sorted_data)\n",
    "\n",
    "if num_elements % 2 == 1:\n",
    "    median = sorted_data[num_elements // 2]\n",
    "else:\n",
    "    median = (sorted_data[num_elements // 2 - 1] + sorted_data[num_elements // 2]) / 2.0\n",
    "\n",
    "print(\"Median:\", median)\n",
    "\n",
    "def square(Serve_Points_Won_Perc):  \n",
    "    return Serve_Points_Won_Perc * Serve_Points_Won_Perc  \n",
    "\n",
    "def sumOfSquaredDifferences(Serve_Points_Won_Perc):  \n",
    "    xBar = sum(Serve_Points_Won_Perc) / len(Serve_Points_Won_Perc)  # Using sum() to calculate the mean\n",
    "    differences = map(lambda x: x - xBar, Serve_Points_Won_Perc)\n",
    "    squaredDifferences = map(lambda x: x**2, differences)  # Use lambda x: x**2 to square each element\n",
    "    return sum(squaredDifferences)\n",
    "\n",
    "def variance(Serve_Points_Won_Perc):  \n",
    "    n = len(Serve_Points_Won_Perc)\n",
    "    return sumOfSquaredDifferences(Serve_Points_Won_Perc) / (n - 1)\n",
    "\n",
    "variance(df['Serve Points Won Perc'])"
   ]
  },
  {
   "cell_type": "code",
   "execution_count": 18,
   "id": "ff265b68",
   "metadata": {},
   "outputs": [
    {
     "name": "stdout",
     "output_type": "stream",
     "text": [
      "0    61.3\n",
      "1    52.5\n",
      "2    59.0\n",
      "3    63.3\n",
      "4    57.2\n",
      "5    54.6\n",
      "6    55.5\n",
      "7    60.1\n",
      "8    61.4\n",
      "9    57.0\n",
      "Name: BP SVD Perc, dtype: float64\n",
      "Median: 58.1\n"
     ]
    },
    {
     "data": {
      "text/plain": [
       "11.69877777777777"
      ]
     },
     "execution_count": 18,
     "metadata": {},
     "output_type": "execute_result"
    }
   ],
   "source": [
    "print(df['BP SVD Perc'])\n",
    "\n",
    "sorted_data = sorted(df['BP SVD Perc'])\n",
    "num_elements = len(sorted_data)\n",
    "\n",
    "if num_elements % 2 == 1:\n",
    "    median = sorted_data[num_elements // 2]\n",
    "else:\n",
    "    median = (sorted_data[num_elements // 2 - 1] + sorted_data[num_elements // 2]) / 2.0\n",
    "\n",
    "print(\"Median:\", median)\n",
    "\n",
    "def square(BP_SVD_Perc):  \n",
    "    return BP_SVD_Perc * BP_SVD_Perc  \n",
    "\n",
    "def sumOfSquaredDifferences(BP_SVD_Perc):  \n",
    "    xBar = sum(BP_SVD_Perc) / len(BP_SVD_Perc)  # Using sum() to calculate the mean\n",
    "    differences = map(lambda x: x - xBar, BP_SVD_Perc)\n",
    "    squaredDifferences = map(lambda x: x**2, differences)  # Use lambda x: x**2 to square each element\n",
    "    return sum(squaredDifferences)\n",
    "\n",
    "def variance(BP_SVD_Perc):  \n",
    "    n = len(BP_SVD_Perc)\n",
    "    return sumOfSquaredDifferences(BP_SVD_Perc) / (n - 1)\n",
    "\n",
    "variance(df['BP SVD Perc'])\n"
   ]
  },
  {
   "cell_type": "code",
   "execution_count": 19,
   "id": "8e028369",
   "metadata": {},
   "outputs": [
    {
     "name": "stdout",
     "output_type": "stream",
     "text": [
      "0    81.4\n",
      "1    80.1\n",
      "2    74.7\n",
      "3    79.4\n",
      "4    72.6\n",
      "5    72.6\n",
      "6    68.5\n",
      "7    74.4\n",
      "8    74.2\n",
      "9    73.6\n",
      "Name: Serve Game Won Perc, dtype: float64\n",
      "Median: 74.30000000000001\n"
     ]
    },
    {
     "data": {
      "text/plain": [
       "15.880555555555567"
      ]
     },
     "execution_count": 19,
     "metadata": {},
     "output_type": "execute_result"
    }
   ],
   "source": [
    "print(df['Serve Game Won Perc'])\n",
    "\n",
    "sorted_data = sorted(df['Serve Game Won Perc'])\n",
    "num_elements = len(sorted_data)\n",
    "\n",
    "if num_elements % 2 == 1:\n",
    "    median = sorted_data[num_elements // 2]\n",
    "else:\n",
    "    median = (sorted_data[num_elements // 2 - 1] + sorted_data[num_elements // 2]) / 2.0\n",
    "\n",
    "print(\"Median:\", median)\n",
    "\n",
    "def square(Serve_Game_Won_Perc):  \n",
    "    return Serve_Game_Won_Perc * Serve_Game_Won_Perc \n",
    "\n",
    "def sumOfSquaredDifferences(Serve_Game_Won_Perc):  \n",
    "    xBar = sum(Serve_Game_Won_Perc) / len(Serve_Game_Won_Perc)  # Using sum() to calculate the mean\n",
    "    differences = map(lambda x: x - xBar, Serve_Game_Won_Perc)\n",
    "    squaredDifferences = map(lambda x: x**2, differences)  # Use lambda x: x**2 to square each element\n",
    "    return sum(squaredDifferences)\n",
    "\n",
    "def variance(Serve_Game_Won_Perc):  \n",
    "    n = len(Serve_Game_Won_Perc)\n",
    "    return sumOfSquaredDifferences(Serve_Game_Won_Perc) / (n - 1)\n",
    "\n",
    "variance(df['Serve Game Won Perc'])"
   ]
  },
  {
   "cell_type": "code",
   "execution_count": 21,
   "id": "182889f1",
   "metadata": {},
   "outputs": [
    {
     "name": "stdout",
     "output_type": "stream",
     "text": [
      "0    37.9\n",
      "1    40.4\n",
      "2    39.3\n",
      "3    35.3\n",
      "4    40.0\n",
      "5    40.6\n",
      "6    40.3\n",
      "7    39.5\n",
      "8    37.0\n",
      "9    38.1\n",
      "Name: First Return Points Perc, dtype: float64\n",
      "Median: 39.4\n"
     ]
    },
    {
     "data": {
      "text/plain": [
       "3.0004444444444456"
      ]
     },
     "execution_count": 21,
     "metadata": {},
     "output_type": "execute_result"
    }
   ],
   "source": [
    "print(df['First Return Points Perc'])\n",
    "\n",
    "sorted_data = sorted(df['First Return Points Perc'])\n",
    "num_elements = len(sorted_data)\n",
    "\n",
    "if num_elements % 2 == 1:\n",
    "    median = sorted_data[num_elements // 2]\n",
    "else:\n",
    "    median = (sorted_data[num_elements // 2 - 1] + sorted_data[num_elements // 2]) / 2.0\n",
    "\n",
    "print(\"Median:\", median)\n",
    "\n",
    "def square(First_Return_Points_Perc):  \n",
    "    return First_Return_Points_Perc * First_Return_Points_Perc \n",
    "\n",
    "def sumOfSquaredDifferences(First_Return_Points_Perc):  \n",
    "    xBar = sum(First_Return_Points_Perc) / len(First_Return_Points_Perc)  # Using sum() to calculate the mean\n",
    "    differences = map(lambda x: x - xBar, First_Return_Points_Perc)\n",
    "    squaredDifferences = map(lambda x: x**2, differences)  # Use lambda x: x**2 to square each element\n",
    "    return sum(squaredDifferences)\n",
    "\n",
    "def variance(First_Return_Points_Perc):  \n",
    "    n = len(First_Return_Points_Perc)\n",
    "    return sumOfSquaredDifferences(First_Return_Points_Perc) / (n - 1)\n",
    "\n",
    "variance(df['First Return Points Perc'])"
   ]
  },
  {
   "cell_type": "code",
   "execution_count": 22,
   "id": "a731a015",
   "metadata": {},
   "outputs": [
    {
     "name": "stdout",
     "output_type": "stream",
     "text": [
      "0    56.1\n",
      "1    63.5\n",
      "2    56.3\n",
      "3    55.3\n",
      "4    59.1\n",
      "5    58.1\n",
      "6    55.8\n",
      "7    52.7\n",
      "8    54.8\n",
      "9    55.3\n",
      "Name: Second Return Points Perc, dtype: float64\n",
      "Median: 55.95\n"
     ]
    },
    {
     "data": {
      "text/plain": [
       "8.75777777777778"
      ]
     },
     "execution_count": 22,
     "metadata": {},
     "output_type": "execute_result"
    }
   ],
   "source": [
    "print(df['Second Return Points Perc'])\n",
    "\n",
    "sorted_data = sorted(df['Second Return Points Perc'])\n",
    "num_elements = len(sorted_data)\n",
    "\n",
    "if num_elements % 2 == 1:\n",
    "    median = sorted_data[num_elements // 2]\n",
    "else:\n",
    "    median = (sorted_data[num_elements // 2 - 1] + sorted_data[num_elements // 2]) / 2.0\n",
    "\n",
    "print(\"Median:\", median)\n",
    "\n",
    "def square(Second_Return_Points_Perc):  \n",
    "    return Second_Return_Points_Perc * Second_Return_Points_Perc \n",
    "\n",
    "def sumOfSquaredDifferences(Second_Return_Points_Perc):  \n",
    "    xBar = sum(Second_Return_Points_Perc) / len(Second_Return_Points_Perc)  # Using sum() to calculate the mean\n",
    "    differences = map(lambda x: x - xBar, Second_Return_Points_Perc)\n",
    "    squaredDifferences = map(lambda x: x**2, differences)  # Use lambda x: x**2 to square each element\n",
    "    return sum(squaredDifferences)\n",
    "\n",
    "def variance(Second_Return_Points_Perc):  \n",
    "    n = len(Second_Return_Points_Perc)\n",
    "    return sumOfSquaredDifferences(Second_Return_Points_Perc) / (n - 1)\n",
    "\n",
    "variance(df['Second Return Points Perc'])"
   ]
  },
  {
   "cell_type": "code",
   "execution_count": 25,
   "id": "2b61a18c",
   "metadata": {},
   "outputs": [
    {
     "name": "stdout",
     "output_type": "stream",
     "text": [
      "0    37.0\n",
      "1    49.3\n",
      "2    41.2\n",
      "3    32.8\n",
      "4    44.2\n",
      "5    43.4\n",
      "6    41.4\n",
      "7    36.7\n",
      "8    34.1\n",
      "9    37.8\n",
      "Name: Return Game Won Perc, dtype: float64\n",
      "Median: 39.5\n"
     ]
    },
    {
     "data": {
      "text/plain": [
       "25.558777777777784"
      ]
     },
     "execution_count": 25,
     "metadata": {},
     "output_type": "execute_result"
    }
   ],
   "source": [
    "print(df['Return Game Won Perc'])\n",
    "\n",
    "sorted_data = sorted(df['Return Game Won Perc'])\n",
    "num_elements = len(sorted_data)\n",
    "\n",
    "if num_elements % 2 == 1:\n",
    "    median = sorted_data[num_elements // 2]\n",
    "else:\n",
    "    median = (sorted_data[num_elements // 2 - 1] + sorted_data[num_elements // 2]) / 2.0\n",
    "\n",
    "print(\"Median:\", median)\n",
    "\n",
    "def square(Return_Game_Won_Perc):  \n",
    "    return Return_Game_Won_Perc * Return_Game_Won_Perc \n",
    "\n",
    "def sumOfSquaredDifferences(Return_Game_Won_Perc):  \n",
    "    xBar = sum(Return_Game_Won_Perc) / len(Return_Game_Won_Perc)  # Using sum() to calculate the mean\n",
    "    differences = map(lambda x: x - xBar, Return_Game_Won_Perc)\n",
    "    squaredDifferences = map(lambda x: x**2, differences)  # Use lambda x: x**2 to square each element\n",
    "    return sum(squaredDifferences)\n",
    "\n",
    "def variance(Return_Game_Won_Perc):  \n",
    "    n = len(Return_Game_Won_Perc)\n",
    "    return sumOfSquaredDifferences(Return_Game_Won_Perc) / (n - 1)\n",
    "\n",
    "variance(df['Return Game Won Perc'])\n"
   ]
  },
  {
   "cell_type": "code",
   "execution_count": 26,
   "id": "f53a9344",
   "metadata": {},
   "outputs": [
    {
     "name": "stdout",
     "output_type": "stream",
     "text": [
      "0    43.9\n",
      "1    55.6\n",
      "2    47.8\n",
      "3    42.3\n",
      "4    49.3\n",
      "5    46.4\n",
      "6    48.8\n",
      "7    47.7\n",
      "8    42.4\n",
      "9    50.4\n",
      "Name: BP CONV Perc, dtype: float64\n",
      "Median: 47.75\n"
     ]
    },
    {
     "data": {
      "text/plain": [
       "16.253777777777785"
      ]
     },
     "execution_count": 26,
     "metadata": {},
     "output_type": "execute_result"
    }
   ],
   "source": [
    "print(df['BP CONV Perc'])\n",
    "\n",
    "sorted_data = sorted(df['BP CONV Perc'])\n",
    "num_elements = len(sorted_data)\n",
    "\n",
    "if num_elements % 2 == 1:\n",
    "    median = sorted_data[num_elements // 2]\n",
    "else:\n",
    "    median = (sorted_data[num_elements // 2 - 1] + sorted_data[num_elements // 2]) / 2.0\n",
    "\n",
    "print(\"Median:\", median)\n",
    "\n",
    "def square(BP_CONV_Perc):  \n",
    "    return BP_CONV_Perc * BP_CONV_Perc \n",
    "\n",
    "def sumOfSquaredDifferences(BP_CONV_Perc):  \n",
    "    xBar = sum(BP_CONV_Perc) / len(BP_CONV_Perc)  # Using sum() to calculate the mean\n",
    "    differences = map(lambda x: x - xBar, BP_CONV_Perc)\n",
    "    squaredDifferences = map(lambda x: x**2, differences)  # Use lambda x: x**2 to square each element\n",
    "    return sum(squaredDifferences)\n",
    "\n",
    "def variance(BP_CONV_Perc):  \n",
    "    n = len(BP_CONV_Perc)\n",
    "    return sumOfSquaredDifferences(BP_CONV_Perc) / (n - 1)\n",
    "\n",
    "variance(df['BP CONV Perc'])\n"
   ]
  },
  {
   "cell_type": "code",
   "execution_count": 17,
   "id": "bbded259",
   "metadata": {},
   "outputs": [
    {
     "name": "stdout",
     "output_type": "stream",
     "text": [
      "0    44.9\n",
      "1    49.6\n",
      "2    45.7\n",
      "3    43.0\n",
      "4    47.3\n",
      "5    47.3\n",
      "6    46.3\n",
      "7    44.6\n",
      "8    43.6\n",
      "9    44.4\n",
      "Name: Return Points Won Perc, dtype: float64\n",
      "Median: 45.3\n"
     ]
    },
    {
     "data": {
      "text/plain": [
       "3.9912222222222216"
      ]
     },
     "execution_count": 17,
     "metadata": {},
     "output_type": "execute_result"
    }
   ],
   "source": [
    "print(df['Return Points Won Perc'])\n",
    "\n",
    "sorted_data = sorted(df['Return Points Won Perc'])\n",
    "num_elements = len(sorted_data)\n",
    "\n",
    "if num_elements % 2 == 1:\n",
    "    median = sorted_data[num_elements // 2]\n",
    "else:\n",
    "    median = (sorted_data[num_elements // 2 - 1] + sorted_data[num_elements // 2]) / 2.0\n",
    "\n",
    "print(\"Median:\", median)\n",
    "\n",
    "def square(Return_Points_Won_Perc):  \n",
    "    return Return_Points_Won_Perc * Return_Points_Won_Perc\n",
    "\n",
    "def sumOfSquaredDifferences(Return_Points_Won_Perc):  \n",
    "    xBar = sum(Return_Points_Won_Perc) / len(Return_Points_Won_Perc)  # Using sum() to calculate the mean\n",
    "    differences = map(lambda x: x - xBar, Return_Points_Won_Perc)\n",
    "    squaredDifferences = map(lambda x: x**2, differences)  # Use lambda x: x**2 to square each element\n",
    "    return sum(squaredDifferences)\n",
    "\n",
    "def variance(Return_Points_Won_Perc):  \n",
    "    n = len(Return_Points_Won_Perc)\n",
    "    return sumOfSquaredDifferences(Return_Points_Won_Perc) / (n - 1)\n",
    "\n",
    "variance(df['Return Points Won Perc'])"
   ]
  },
  {
   "cell_type": "code",
   "execution_count": 5,
   "id": "c8ea90ec",
   "metadata": {},
   "outputs": [
    {
     "name": "stderr",
     "output_type": "stream",
     "text": [
      "/Users/mariagraziellabrevi/anaconda3/lib/python3.11/site-packages/seaborn/axisgrid.py:118: UserWarning: The figure layout has changed to tight\n",
      "  self._figure.tight_layout(*args, **kwargs)\n"
     ]
    },
    {
     "name": "stdout",
     "output_type": "stream",
     "text": [
      "Correlation Coefficient: -0.2163178000288566\n"
     ]
    },
    {
     "data": {
      "image/png": "[encoded data removed]",
      "text/plain": [
       "<Figure size 500x500 with 1 Axes>"
      ]
     },
     "metadata": {},
     "output_type": "display_data"
    }
   ],
   "source": [
    "import pandas as pd\n",
    "\n",
    "df = pd.read_csv('Women single - STAT2604 - Sheet1.csv')\n",
    "\n",
    "import seaborn as sns\n",
    "from math import sqrt\n",
    "\n",
    "plot = sns.lmplot(x='First Serve Points Perc', y='First Serve Perc', data=df)\n",
    "\n",
    "def calculate_correlation(x, y):\n",
    "    def n(arr):\n",
    "        return len(arr)\n",
    "\n",
    "    def product(x, y):\n",
    "        return x * y\n",
    "\n",
    "    def sumXTimesY(x, y):\n",
    "        return sum(map(product, x, y))\n",
    "\n",
    "    def numerator(x, y):\n",
    "        return n(x) * sumXTimesY(x, y) - sum(x) * sum(y)\n",
    "\n",
    "    def sumOfSquares(val):\n",
    "        return sum(map(lambda x: x**2, val))\n",
    "\n",
    "    def denominator(x, y):\n",
    "        return sqrt((n(x) * sumOfSquares(x) - sum(x)**2) * (n(y) * sumOfSquares(y) - sum(y)**2))\n",
    "\n",
    "    correlation = numerator(x, y) / denominator(x, y)\n",
    "    return correlation\n",
    "\n",
    "# Extract x and y data from the plot\n",
    "x_data = plot.data['First Serve Points Perc']\n",
    "y_data = plot.data['First Serve Perc']\n",
    "\n",
    "# Calculate and print the correlation coefficient\n",
    "correlation_coefficient = calculate_correlation(x_data, y_data)\n",
    "print(f'Correlation Coefficient: {correlation_coefficient}')\n"
   ]
  },
  {
   "cell_type": "code",
   "execution_count": 5,
   "id": "1d3e9796",
   "metadata": {},
   "outputs": [
    {
     "name": "stderr",
     "output_type": "stream",
     "text": [
      "/Users/mariagraziellabrevi/anaconda3/lib/python3.11/site-packages/seaborn/axisgrid.py:118: UserWarning: The figure layout has changed to tight\n",
      "  self._figure.tight_layout(*args, **kwargs)\n"
     ]
    },
    {
     "name": "stdout",
     "output_type": "stream",
     "text": [
      "Correlation Coefficient: 0.48594027597664713\n"
     ]
    },
    {
     "data": {
      "image/png": "[encoded data removed]",
      "text/plain": [
       "<Figure size 500x500 with 1 Axes>"
      ]
     },
     "metadata": {},
     "output_type": "display_data"
    }
   ],
   "source": [
    "plot = sns.lmplot(x='Serve Points Won Perc', y='First Serve Perc', data=df)\n",
    "\n",
    "def calculate_correlation(x, y):\n",
    "    def n(arr):\n",
    "        return len(arr)\n",
    "\n",
    "    def product(x, y):\n",
    "        return x * y\n",
    "\n",
    "    def sumXTimesY(x, y):\n",
    "        return sum(map(product, x, y))\n",
    "\n",
    "    def numerator(x, y):\n",
    "        return n(x) * sumXTimesY(x, y) - sum(x) * sum(y)\n",
    "\n",
    "    def sumOfSquares(val):\n",
    "        return sum(map(lambda x: x**2, val))\n",
    "\n",
    "    def denominator(x, y):\n",
    "        return sqrt((n(x) * sumOfSquares(x) - sum(x)**2) * (n(y) * sumOfSquares(y) - sum(y)**2))\n",
    "\n",
    "    correlation = numerator(x, y) / denominator(x, y)\n",
    "    return correlation\n",
    "\n",
    "# Extract x and y data from the plot\n",
    "x_data = plot.data['Serve Points Won Perc']\n",
    "y_data = plot.data['First Serve Perc']\n",
    "\n",
    "# Calculate and print the correlation coefficient\n",
    "correlation_coefficient = calculate_correlation(x_data, y_data)\n",
    "print(f'Correlation Coefficient: {correlation_coefficient}')"
   ]
  },
  {
   "cell_type": "code",
   "execution_count": 6,
   "id": "7a91cd9e",
   "metadata": {},
   "outputs": [
    {
     "name": "stderr",
     "output_type": "stream",
     "text": [
      "/Users/mariagraziellabrevi/anaconda3/lib/python3.11/site-packages/seaborn/axisgrid.py:118: UserWarning: The figure layout has changed to tight\n",
      "  self._figure.tight_layout(*args, **kwargs)\n"
     ]
    },
    {
     "name": "stdout",
     "output_type": "stream",
     "text": [
      "Correlation Coefficient: 0.6892355402286223\n"
     ]
    },
    {
     "data": {
      "image/png": "[encoded data removed]",
      "text/plain": [
       "<Figure size 500x500 with 1 Axes>"
      ]
     },
     "metadata": {},
     "output_type": "display_data"
    }
   ],
   "source": [
    "plot = sns.lmplot(x='Serve Points Won Perc', y='First Serve Points Perc', data=df)\n",
    "\n",
    "def calculate_correlation(x, y):\n",
    "    def n(arr):\n",
    "        return len(arr)\n",
    "\n",
    "    def product(x, y):\n",
    "        return x * y\n",
    "\n",
    "    def sumXTimesY(x, y):\n",
    "        return sum(map(product, x, y))\n",
    "\n",
    "    def numerator(x, y):\n",
    "        return n(x) * sumXTimesY(x, y) - sum(x) * sum(y)\n",
    "\n",
    "    def sumOfSquares(val):\n",
    "        return sum(map(lambda x: x**2, val))\n",
    "\n",
    "    def denominator(x, y):\n",
    "        return sqrt((n(x) * sumOfSquares(x) - sum(x)**2) * (n(y) * sumOfSquares(y) - sum(y)**2))\n",
    "\n",
    "    correlation = numerator(x, y) / denominator(x, y)\n",
    "    return correlation\n",
    "\n",
    "# Extract x and y data from the plot\n",
    "x_data = plot.data['Serve Points Won Perc']\n",
    "y_data = plot.data['First Serve Points Perc']\n",
    "\n",
    "# Calculate and print the correlation coefficient\n",
    "correlation_coefficient = calculate_correlation(x_data, y_data)\n",
    "print(f'Correlation Coefficient: {correlation_coefficient}')"
   ]
  },
  {
   "cell_type": "code",
   "execution_count": 7,
   "id": "77f4b30d",
   "metadata": {},
   "outputs": [
    {
     "name": "stderr",
     "output_type": "stream",
     "text": [
      "/Users/mariagraziellabrevi/anaconda3/lib/python3.11/site-packages/seaborn/axisgrid.py:118: UserWarning: The figure layout has changed to tight\n",
      "  self._figure.tight_layout(*args, **kwargs)\n"
     ]
    },
    {
     "name": "stdout",
     "output_type": "stream",
     "text": [
      "Correlation Coefficient: 0.8361536226500765\n"
     ]
    },
    {
     "data": {
      "image/png": "[encoded data removed]",
      "text/plain": [
       "<Figure size 500x500 with 1 Axes>"
      ]
     },
     "metadata": {},
     "output_type": "display_data"
    }
   ],
   "source": [
    "plot = sns.lmplot(x='Return Points Won Perc', y='First Return Points Perc', data=df)\n",
    "\n",
    "\n",
    "def calculate_correlation(x, y):\n",
    "    def n(arr):\n",
    "        return len(arr)\n",
    "\n",
    "    def product(x, y):\n",
    "        return x * y\n",
    "\n",
    "    def sumXTimesY(x, y):\n",
    "        return sum(map(product, x, y))\n",
    "\n",
    "    def numerator(x, y):\n",
    "        return n(x) * sumXTimesY(x, y) - sum(x) * sum(y)\n",
    "\n",
    "    def sumOfSquares(val):\n",
    "        return sum(map(lambda x: x**2, val))\n",
    "\n",
    "    def denominator(x, y):\n",
    "        return sqrt((n(x) * sumOfSquares(x) - sum(x)**2) * (n(y) * sumOfSquares(y) - sum(y)**2))\n",
    "\n",
    "    correlation = numerator(x, y) / denominator(x, y)\n",
    "    return correlation\n",
    "\n",
    "# Extract x and y data from the plot\n",
    "x_data = plot.data['Return Points Won Perc']\n",
    "y_data = plot.data['First Return Points Perc']\n",
    "\n",
    "# Calculate and print the correlation coefficient\n",
    "correlation_coefficient = calculate_correlation(x_data, y_data)\n",
    "print(f'Correlation Coefficient: {correlation_coefficient}')"
   ]
  },
  {
   "cell_type": "code",
   "execution_count": 1,
   "id": "44975dc8",
   "metadata": {},
   "outputs": [
    {
     "ename": "NameError",
     "evalue": "name 'sns' is not defined",
     "output_type": "error",
     "traceback": [
      "\u001b[0;31m---------------------------------------------------------------------------\u001b[0m",
      "\u001b[0;31mNameError\u001b[0m                                 Traceback (most recent call last)",
      "Cell \u001b[0;32mIn[1], line 1\u001b[0m\n\u001b[0;32m----> 1\u001b[0m plot \u001b[38;5;241m=\u001b[39m sns\u001b[38;5;241m.\u001b[39mlmplot(x\u001b[38;5;241m=\u001b[39m\u001b[38;5;124m'\u001b[39m\u001b[38;5;124mBP SVD Perc\u001b[39m\u001b[38;5;124m'\u001b[39m, y\u001b[38;5;241m=\u001b[39m\u001b[38;5;124m'\u001b[39m\u001b[38;5;124mBP CONV Perc\u001b[39m\u001b[38;5;124m'\u001b[39m, data\u001b[38;5;241m=\u001b[39mdf)\n\u001b[1;32m      3\u001b[0m \u001b[38;5;28;01mdef\u001b[39;00m \u001b[38;5;21mcalculate_correlation\u001b[39m(x, y):\n\u001b[1;32m      4\u001b[0m     \u001b[38;5;28;01mdef\u001b[39;00m \u001b[38;5;21mn\u001b[39m(arr):\n",
      "\u001b[0;31mNameError\u001b[0m: name 'sns' is not defined"
     ]
    }
   ],
   "source": [
    "plot = sns.lmplot(x='BP SVD Perc', y='BP CONV Perc', data=df)\n",
    "\n",
    "def calculate_correlation(x, y):\n",
    "    def n(arr):\n",
    "        return len(arr)\n",
    "\n",
    "    def product(x, y):\n",
    "        return x * y\n",
    "\n",
    "    def sumXTimesY(x, y):\n",
    "        return sum(map(product, x, y))\n",
    "\n",
    "    def numerator(x, y):\n",
    "        return n(x) * sumXTimesY(x, y) - sum(x) * sum(y)\n",
    "\n",
    "    def sumOfSquares(val):\n",
    "        return sum(map(lambda x: x**2, val))\n",
    "\n",
    "    def denominator(x, y):\n",
    "        return sqrt((n(x) * sumOfSquares(x) - sum(x)**2) * (n(y) * sumOfSquares(y) - sum(y)**2))\n",
    "\n",
    "    correlation = numerator(x, y) / denominator(x, y)\n",
    "    return correlation\n",
    "\n",
    "# Extract x and y data from the plot\n",
    "x_data = plot.data['BP SVD Perc']\n",
    "y_data = plot.data['BP CONV Perc']\n",
    "\n",
    "# Calculate and print the correlation coefficient\n",
    "correlation_coefficient = calculate_correlation(x_data, y_data)\n",
    "print(f'Correlation Coefficient: {correlation_coefficient}')"
   ]
  },
  {
   "cell_type": "code",
   "execution_count": 8,
   "id": "979c4571",
   "metadata": {},
   "outputs": [
    {
     "name": "stderr",
     "output_type": "stream",
     "text": [
      "/Users/mariagraziellabrevi/anaconda3/lib/python3.11/site-packages/seaborn/axisgrid.py:118: UserWarning: The figure layout has changed to tight\n",
      "  self._figure.tight_layout(*args, **kwargs)\n"
     ]
    },
    {
     "name": "stdout",
     "output_type": "stream",
     "text": [
      "Correlation Coefficient: -0.2494584444298273\n"
     ]
    },
    {
     "data": {
      "image/png": "[encoded data removed]",
      "text/plain": [
       "<Figure size 500x500 with 1 Axes>"
      ]
     },
     "metadata": {},
     "output_type": "display_data"
    }
   ],
   "source": [
    "plot = sns.lmplot(x='Age', y='Return Game Won Perc', data=df)\n",
    "\n",
    "def calculate_correlation(x, y):\n",
    "    def n(arr):\n",
    "        return len(arr)\n",
    "\n",
    "    def product(x, y):\n",
    "        return x * y\n",
    "\n",
    "    def sumXTimesY(x, y):\n",
    "        return sum(map(product, x, y))\n",
    "\n",
    "    def numerator(x, y):\n",
    "        return n(x) * sumXTimesY(x, y) - sum(x) * sum(y)\n",
    "\n",
    "    def sumOfSquares(val):\n",
    "        return sum(map(lambda x: x**2, val))\n",
    "\n",
    "    def denominator(x, y):\n",
    "        return sqrt((n(x) * sumOfSquares(x) - sum(x)**2) * (n(y) * sumOfSquares(y) - sum(y)**2))\n",
    "\n",
    "    correlation = numerator(x, y) / denominator(x, y)\n",
    "    return correlation\n",
    "\n",
    "# Extract x and y data from the plot\n",
    "x_data = plot.data['Age']\n",
    "y_data = plot.data['Return Game Won Perc']\n",
    "\n",
    "# Calculate and print the correlation coefficient\n",
    "correlation_coefficient = calculate_correlation(x_data, y_data)\n",
    "print(f'Correlation Coefficient: {correlation_coefficient}')"
   ]
  },
  {
   "cell_type": "code",
   "execution_count": 9,
   "id": "0c6a6eb2",
   "metadata": {},
   "outputs": [
    {
     "name": "stderr",
     "output_type": "stream",
     "text": [
      "/Users/mariagraziellabrevi/anaconda3/lib/python3.11/site-packages/seaborn/axisgrid.py:118: UserWarning: The figure layout has changed to tight\n",
      "  self._figure.tight_layout(*args, **kwargs)\n"
     ]
    },
    {
     "name": "stdout",
     "output_type": "stream",
     "text": [
      "Correlation Coefficient: 0.791382317018387\n"
     ]
    },
    {
     "data": {
      "image/png": "[encoded data removed]",
      "text/plain": [
       "<Figure size 500x500 with 1 Axes>"
      ]
     },
     "metadata": {},
     "output_type": "display_data"
    }
   ],
   "source": [
    "plot = sns.lmplot(x='Height', y='Serve Game Won Perc', data=df)\n",
    "\n",
    "def calculate_correlation(x, y):\n",
    "    def n(arr):\n",
    "        return len(arr)\n",
    "\n",
    "    def product(x, y):\n",
    "        return x * y\n",
    "\n",
    "    def sumXTimesY(x, y):\n",
    "        return sum(map(product, x, y))\n",
    "\n",
    "    def numerator(x, y):\n",
    "        return n(x) * sumXTimesY(x, y) - sum(x) * sum(y)\n",
    "\n",
    "    def sumOfSquares(val):\n",
    "        return sum(map(lambda x: x**2, val))\n",
    "\n",
    "    def denominator(x, y):\n",
    "        return sqrt((n(x) * sumOfSquares(x) - sum(x)**2) * (n(y) * sumOfSquares(y) - sum(y)**2))\n",
    "\n",
    "    correlation = numerator(x, y) / denominator(x, y)\n",
    "    return correlation\n",
    "\n",
    "# Extract x and y data from the plot\n",
    "x_data = plot.data['Height']\n",
    "y_data = plot.data['Serve Game Won Perc']\n",
    "\n",
    "# Calculate and print the correlation coefficient\n",
    "correlation_coefficient = calculate_correlation(x_data, y_data)\n",
    "print(f'Correlation Coefficient: {correlation_coefficient}')"
   ]
  },
  {
   "cell_type": "code",
   "execution_count": 4,
   "id": "2a55f59a",
   "metadata": {},
   "outputs": [
    {
     "data": {
      "image/png": "[encoded data removed]",
      "text/plain": [
       "<Figure size 700x500 with 1 Axes>"
      ]
     },
     "metadata": {},
     "output_type": "display_data"
    }
   ],
   "source": [
    "import matplotlib.pyplot as plt\n",
    "from matplotlib.patches import Rectangle, Circle\n",
    "\n",
    "def draw_tennis_court(ax):\n",
    "    # Tennis court size is 78 feet by 36 feet\n",
    "    court = Rectangle((0, 0), 78, 36, edgecolor=\"black\", facecolor=\"none\")\n",
    "    ax.add_patch(court)\n",
    "\n",
    "    # Singles sidelines\n",
    "    ax.plot([0, 0], [0, 36], color=\"black\")\n",
    "    ax.plot([78, 78], [0, 36], color=\"black\")\n",
    "    \n",
    "\n",
    "    # Net\n",
    "    net = Rectangle((39, 0), 0, 36, color=\"black\")\n",
    "    ax.add_patch(net)\n",
    "    \n",
    "    plt.axhline(y = 4.5, color = 'black', linestyle = '-')\n",
    "\n",
    "    plt.axhline(y = 31.5, color = 'black', linestyle = '-')\n",
    "    \n",
    "    \n",
    "    #ax.axvline(x = 18, color = 'black', linestyle = '-')\n",
    "\n",
    "    #ax.axvline(x = 60, color = 'black', linestyle = '-')\n",
    "    \n",
    "\n",
    "    # Left service box\n",
    "    \n",
    "    ax.add_patch(Rectangle((18, 4.5), 21, 13.5, edgecolor=\"black\", facecolor=\"none\"))\n",
    "    \n",
    "    ax.add_patch(Rectangle((18, 18), 21, 13.5, edgecolor=\"black\", facecolor=\"none\"))\n",
    "    \n",
    "\n",
    "    # Right service box\n",
    "    \n",
    "    ax.add_patch(Rectangle((39, 4.5), 21, 13.5, edgecolor=\"black\", facecolor=\"none\"))\n",
    "    \n",
    "    ax.add_patch(Rectangle((39, 18), 21, 13.5, edgecolor=\"black\", facecolor=\"none\"))\n",
    "\n",
    "    # Left baseline\n",
    "    ax.plot([0, 78], [0, 0], color=\"black\")\n",
    "\n",
    "    # Right baseline\n",
    "    ax.plot([0, 78], [36, 36], color=\"black\")\n",
    "\n",
    "\n",
    "# Create a new figure and axis\n",
    "fig = plt.figure()\n",
    "fig.set_size_inches(7, 5)\n",
    "ax = fig.add_subplot(1, 1, 1)\n",
    "\n",
    "# Draw the tennis court\n",
    "draw_tennis_court(ax)\n",
    "\n",
    "# Show the plot\n",
    "plt.show()\n"
   ]
  },
  {
   "cell_type": "code",
   "execution_count": null,
   "id": "ab38fdf8",
   "metadata": {},
   "outputs": [],
   "source": []
  },
  {
   "cell_type": "code",
   "execution_count": null,
   "id": "42f069df",
   "metadata": {},
   "outputs": [],
   "source": []
  },
  {
   "cell_type": "code",
   "execution_count": null,
   "id": "a5b12e92",
   "metadata": {},
   "outputs": [],
   "source": []
  }
 ],
 "metadata": {
  "kernelspec": {
   "display_name": "Python 3 (ipykernel)",
   "language": "python",
   "name": "python3"
  },
  "language_info": {
   "codemirror_mode": {
    "name": "ipython",
    "version": 3
   },
   "file_extension": ".py",
   "mimetype": "text/x-python",
   "name": "python",
   "nbconvert_exporter": "python",
   "pygments_lexer": "ipython3",
   "version": "3.11.5"
  }
 },
 "nbformat": 4,
 "nbformat_minor": 5
}
