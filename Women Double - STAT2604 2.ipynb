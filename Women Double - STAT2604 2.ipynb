{
 "cells": [
  {
   "cell_type": "code",
   "execution_count": 3,
   "id": "4de0655f",
   "metadata": {},
   "outputs": [
    {
     "name": "stdout",
     "output_type": "stream",
     "text": [
      "   Ranking                Name Gender  Points  Height  Age Hands    Ace  \\\n",
      "0        1        Storm Hunter      F    6055     166   29     R   16.0   \n",
      "1        2       Elise Mertens      F    5870     179   27     R  182.0   \n",
      "2        3          Coco Gauff      F    5755     175   19     R  259.0   \n",
      "3        4      Jessica Pegula      F    5755     170   29     R  183.0   \n",
      "4        5     Laura Siegemund      F    5585     168   35     R   14.0   \n",
      "5        6        Su-Wei Hsieh      F    5241     169   37     R    1.0   \n",
      "6        7     Taylor Townsend      F    5180     170   27     L   71.0   \n",
      "7        8  Gabriela Dabrowski      F    5115     178   31     R    NaN   \n",
      "8        9      Vera Zvonareva      F    5070     172   39     R    6.0   \n",
      "9       10  Katerina Siniakova      F    4895     174   27     R   89.0   \n",
      "\n",
      "   Double Faults  First Serve Perc  ...  First Return Points Won Perc  \\\n",
      "0           26.0              63.8  ...                          34.0   \n",
      "1          324.0              54.6  ...                          39.1   \n",
      "2          215.0              60.5  ...                          39.5   \n",
      "3          182.0              58.4  ...                          40.4   \n",
      "4           74.0              75.3  ...                          35.4   \n",
      "5            2.0              64.9  ...                          42.3   \n",
      "6           26.0              66.7  ...                          34.0   \n",
      "7            NaN               NaN  ...                           NaN   \n",
      "8           50.0              61.9  ...                          32.6   \n",
      "9          201.0              62.8  ...                          39.5   \n",
      "\n",
      "   Second Return Points Won Perc  BP CONV Perc  Return Games Won Perc  \\\n",
      "0                           51.6          40.2                   29.4   \n",
      "1                           57.6          46.3                   41.6   \n",
      "2                           56.2          48.6                   41.5   \n",
      "3                           59.1          49.5                   44.7   \n",
      "4                           53.8          45.9                   32.3   \n",
      "5                           53.3          45.5                   38.5   \n",
      "6                           52.8          39.2                   28.5   \n",
      "7                            NaN           NaN                    NaN   \n",
      "8                           54.1          49.3                   29.7   \n",
      "9                           56.8          44.0                   41.3   \n",
      "\n",
      "   Return Games Played  Win   Loss  Total Games played  Prize Money  \\\n",
      "0                126.0    42    15                  57      1103878   \n",
      "1                517.0    32    11                  43      1854209   \n",
      "2                639.0    36    12                  48      6669622   \n",
      "3                756.0    35    13                  48      5967890   \n",
      "4                297.0    38    17                  55      1167895   \n",
      "5                 13.0    21     8                  29       886334   \n",
      "6                165.0    33     9                  42      1045881   \n",
      "7                  NaN    32    18                  50       727396   \n",
      "8                118.0    38    18                  56       874649   \n",
      "9                407.0    24    10                  34      1204460   \n",
      "\n",
      "   Double Titles  \n",
      "0              2  \n",
      "1              2  \n",
      "2              2  \n",
      "3              2  \n",
      "4              5  \n",
      "5              5  \n",
      "6              3  \n",
      "7              2  \n",
      "8              4  \n",
      "9              3  \n",
      "\n",
      "[10 rows x 27 columns]\n"
     ]
    }
   ],
   "source": [
    "import pandas as pd\n",
    "\n",
    "df = pd.read_csv('Women double - STAT2604 - Sheet1.csv')\n",
    "\n",
    "print(df)"
   ]
  },
  {
   "cell_type": "code",
   "execution_count": 4,
   "id": "ef469c07",
   "metadata": {},
   "outputs": [
    {
     "data": {
      "text/html": [
       "<div>\n",
       "<style scoped>\n",
       "    .dataframe tbody tr th:only-of-type {\n",
       "        vertical-align: middle;\n",
       "    }\n",
       "\n",
       "    .dataframe tbody tr th {\n",
       "        vertical-align: top;\n",
       "    }\n",
       "\n",
       "    .dataframe thead th {\n",
       "        text-align: right;\n",
       "    }\n",
       "</style>\n",
       "<table border=\"1\" class=\"dataframe\">\n",
       "  <thead>\n",
       "    <tr style=\"text-align: right;\">\n",
       "      <th></th>\n",
       "      <th>Ranking</th>\n",
       "      <th>Points</th>\n",
       "      <th>Height</th>\n",
       "      <th>Age</th>\n",
       "      <th>Ace</th>\n",
       "      <th>Double Faults</th>\n",
       "      <th>First Serve Perc</th>\n",
       "      <th>First Serve Won Perc</th>\n",
       "      <th>Second Serve Won Perc</th>\n",
       "      <th>BP SVD Perc</th>\n",
       "      <th>...</th>\n",
       "      <th>First Return Points Won Perc</th>\n",
       "      <th>Second Return Points Won Perc</th>\n",
       "      <th>BP CONV Perc</th>\n",
       "      <th>Return Games Won Perc</th>\n",
       "      <th>Return Games Played</th>\n",
       "      <th>Win</th>\n",
       "      <th>Loss</th>\n",
       "      <th>Total Games played</th>\n",
       "      <th>Prize Money</th>\n",
       "      <th>Double Titles</th>\n",
       "    </tr>\n",
       "  </thead>\n",
       "  <tbody>\n",
       "    <tr>\n",
       "      <th>count</th>\n",
       "      <td>10.00000</td>\n",
       "      <td>10.000000</td>\n",
       "      <td>10.000000</td>\n",
       "      <td>10.000000</td>\n",
       "      <td>9.000000</td>\n",
       "      <td>9.000000</td>\n",
       "      <td>9.000000</td>\n",
       "      <td>9.000000</td>\n",
       "      <td>9.000000</td>\n",
       "      <td>9.000000</td>\n",
       "      <td>...</td>\n",
       "      <td>9.000000</td>\n",
       "      <td>9.000000</td>\n",
       "      <td>9.000000</td>\n",
       "      <td>9.000000</td>\n",
       "      <td>9.000000</td>\n",
       "      <td>10.000000</td>\n",
       "      <td>10.000000</td>\n",
       "      <td>10.000000</td>\n",
       "      <td>1.000000e+01</td>\n",
       "      <td>10.000000</td>\n",
       "    </tr>\n",
       "    <tr>\n",
       "      <th>mean</th>\n",
       "      <td>5.50000</td>\n",
       "      <td>5452.100000</td>\n",
       "      <td>172.100000</td>\n",
       "      <td>30.000000</td>\n",
       "      <td>91.222222</td>\n",
       "      <td>122.222222</td>\n",
       "      <td>63.211111</td>\n",
       "      <td>63.488889</td>\n",
       "      <td>46.211111</td>\n",
       "      <td>50.788889</td>\n",
       "      <td>...</td>\n",
       "      <td>37.422222</td>\n",
       "      <td>55.033333</td>\n",
       "      <td>45.388889</td>\n",
       "      <td>36.388889</td>\n",
       "      <td>337.555556</td>\n",
       "      <td>33.100000</td>\n",
       "      <td>13.100000</td>\n",
       "      <td>46.200000</td>\n",
       "      <td>2.150221e+06</td>\n",
       "      <td>3.000000</td>\n",
       "    </tr>\n",
       "    <tr>\n",
       "      <th>std</th>\n",
       "      <td>3.02765</td>\n",
       "      <td>398.314072</td>\n",
       "      <td>4.306326</td>\n",
       "      <td>5.830952</td>\n",
       "      <td>95.033912</td>\n",
       "      <td>111.587161</td>\n",
       "      <td>5.788446</td>\n",
       "      <td>3.860843</td>\n",
       "      <td>3.356875</td>\n",
       "      <td>13.922683</td>\n",
       "      <td>...</td>\n",
       "      <td>3.443754</td>\n",
       "      <td>2.494494</td>\n",
       "      <td>3.721036</td>\n",
       "      <td>6.358743</td>\n",
       "      <td>258.046561</td>\n",
       "      <td>6.419588</td>\n",
       "      <td>3.725289</td>\n",
       "      <td>9.330952</td>\n",
       "      <td>2.223859e+06</td>\n",
       "      <td>1.247219</td>\n",
       "    </tr>\n",
       "    <tr>\n",
       "      <th>min</th>\n",
       "      <td>1.00000</td>\n",
       "      <td>4895.000000</td>\n",
       "      <td>166.000000</td>\n",
       "      <td>19.000000</td>\n",
       "      <td>1.000000</td>\n",
       "      <td>2.000000</td>\n",
       "      <td>54.600000</td>\n",
       "      <td>58.300000</td>\n",
       "      <td>42.400000</td>\n",
       "      <td>16.700000</td>\n",
       "      <td>...</td>\n",
       "      <td>32.600000</td>\n",
       "      <td>51.600000</td>\n",
       "      <td>39.200000</td>\n",
       "      <td>28.500000</td>\n",
       "      <td>13.000000</td>\n",
       "      <td>21.000000</td>\n",
       "      <td>8.000000</td>\n",
       "      <td>29.000000</td>\n",
       "      <td>7.273960e+05</td>\n",
       "      <td>2.000000</td>\n",
       "    </tr>\n",
       "    <tr>\n",
       "      <th>25%</th>\n",
       "      <td>3.25000</td>\n",
       "      <td>5131.250000</td>\n",
       "      <td>169.250000</td>\n",
       "      <td>27.000000</td>\n",
       "      <td>14.000000</td>\n",
       "      <td>26.000000</td>\n",
       "      <td>60.500000</td>\n",
       "      <td>60.000000</td>\n",
       "      <td>44.000000</td>\n",
       "      <td>49.000000</td>\n",
       "      <td>...</td>\n",
       "      <td>34.000000</td>\n",
       "      <td>53.300000</td>\n",
       "      <td>44.000000</td>\n",
       "      <td>29.700000</td>\n",
       "      <td>126.000000</td>\n",
       "      <td>32.000000</td>\n",
       "      <td>10.250000</td>\n",
       "      <td>42.250000</td>\n",
       "      <td>9.262208e+05</td>\n",
       "      <td>2.000000</td>\n",
       "    </tr>\n",
       "    <tr>\n",
       "      <th>50%</th>\n",
       "      <td>5.50000</td>\n",
       "      <td>5413.000000</td>\n",
       "      <td>171.000000</td>\n",
       "      <td>29.000000</td>\n",
       "      <td>71.000000</td>\n",
       "      <td>74.000000</td>\n",
       "      <td>62.800000</td>\n",
       "      <td>62.800000</td>\n",
       "      <td>44.700000</td>\n",
       "      <td>54.500000</td>\n",
       "      <td>...</td>\n",
       "      <td>39.100000</td>\n",
       "      <td>54.100000</td>\n",
       "      <td>45.900000</td>\n",
       "      <td>38.500000</td>\n",
       "      <td>297.000000</td>\n",
       "      <td>34.000000</td>\n",
       "      <td>12.500000</td>\n",
       "      <td>48.000000</td>\n",
       "      <td>1.135886e+06</td>\n",
       "      <td>2.500000</td>\n",
       "    </tr>\n",
       "    <tr>\n",
       "      <th>75%</th>\n",
       "      <td>7.75000</td>\n",
       "      <td>5755.000000</td>\n",
       "      <td>174.750000</td>\n",
       "      <td>34.000000</td>\n",
       "      <td>182.000000</td>\n",
       "      <td>201.000000</td>\n",
       "      <td>64.900000</td>\n",
       "      <td>67.100000</td>\n",
       "      <td>48.000000</td>\n",
       "      <td>58.500000</td>\n",
       "      <td>...</td>\n",
       "      <td>39.500000</td>\n",
       "      <td>56.800000</td>\n",
       "      <td>48.600000</td>\n",
       "      <td>41.500000</td>\n",
       "      <td>517.000000</td>\n",
       "      <td>37.500000</td>\n",
       "      <td>16.500000</td>\n",
       "      <td>53.750000</td>\n",
       "      <td>1.691772e+06</td>\n",
       "      <td>3.750000</td>\n",
       "    </tr>\n",
       "    <tr>\n",
       "      <th>max</th>\n",
       "      <td>10.00000</td>\n",
       "      <td>6055.000000</td>\n",
       "      <td>179.000000</td>\n",
       "      <td>39.000000</td>\n",
       "      <td>259.000000</td>\n",
       "      <td>324.000000</td>\n",
       "      <td>75.300000</td>\n",
       "      <td>68.400000</td>\n",
       "      <td>51.800000</td>\n",
       "      <td>62.000000</td>\n",
       "      <td>...</td>\n",
       "      <td>42.300000</td>\n",
       "      <td>59.100000</td>\n",
       "      <td>49.500000</td>\n",
       "      <td>44.700000</td>\n",
       "      <td>756.000000</td>\n",
       "      <td>42.000000</td>\n",
       "      <td>18.000000</td>\n",
       "      <td>57.000000</td>\n",
       "      <td>6.669622e+06</td>\n",
       "      <td>5.000000</td>\n",
       "    </tr>\n",
       "  </tbody>\n",
       "</table>\n",
       "<p>8 rows × 24 columns</p>\n",
       "</div>"
      ],
      "text/plain": [
       "        Ranking       Points      Height        Age         Ace  \\\n",
       "count  10.00000    10.000000   10.000000  10.000000    9.000000   \n",
       "mean    5.50000  5452.100000  172.100000  30.000000   91.222222   \n",
       "std     3.02765   398.314072    4.306326   5.830952   95.033912   \n",
       "min     1.00000  4895.000000  166.000000  19.000000    1.000000   \n",
       "25%     3.25000  5131.250000  169.250000  27.000000   14.000000   \n",
       "50%     5.50000  5413.000000  171.000000  29.000000   71.000000   \n",
       "75%     7.75000  5755.000000  174.750000  34.000000  182.000000   \n",
       "max    10.00000  6055.000000  179.000000  39.000000  259.000000   \n",
       "\n",
       "       Double Faults  First Serve Perc  First Serve Won Perc  \\\n",
       "count       9.000000          9.000000              9.000000   \n",
       "mean      122.222222         63.211111             63.488889   \n",
       "std       111.587161          5.788446              3.860843   \n",
       "min         2.000000         54.600000             58.300000   \n",
       "25%        26.000000         60.500000             60.000000   \n",
       "50%        74.000000         62.800000             62.800000   \n",
       "75%       201.000000         64.900000             67.100000   \n",
       "max       324.000000         75.300000             68.400000   \n",
       "\n",
       "       Second Serve Won Perc  BP SVD Perc  ...  First Return Points Won Perc  \\\n",
       "count               9.000000     9.000000  ...                      9.000000   \n",
       "mean               46.211111    50.788889  ...                     37.422222   \n",
       "std                 3.356875    13.922683  ...                      3.443754   \n",
       "min                42.400000    16.700000  ...                     32.600000   \n",
       "25%                44.000000    49.000000  ...                     34.000000   \n",
       "50%                44.700000    54.500000  ...                     39.100000   \n",
       "75%                48.000000    58.500000  ...                     39.500000   \n",
       "max                51.800000    62.000000  ...                     42.300000   \n",
       "\n",
       "       Second Return Points Won Perc  BP CONV Perc  Return Games Won Perc  \\\n",
       "count                       9.000000      9.000000               9.000000   \n",
       "mean                       55.033333     45.388889              36.388889   \n",
       "std                         2.494494      3.721036               6.358743   \n",
       "min                        51.600000     39.200000              28.500000   \n",
       "25%                        53.300000     44.000000              29.700000   \n",
       "50%                        54.100000     45.900000              38.500000   \n",
       "75%                        56.800000     48.600000              41.500000   \n",
       "max                        59.100000     49.500000              44.700000   \n",
       "\n",
       "       Return Games Played       Win        Loss  Total Games played  \\\n",
       "count             9.000000  10.000000  10.000000           10.000000   \n",
       "mean            337.555556  33.100000  13.100000           46.200000   \n",
       "std             258.046561   6.419588   3.725289            9.330952   \n",
       "min              13.000000  21.000000   8.000000           29.000000   \n",
       "25%             126.000000  32.000000  10.250000           42.250000   \n",
       "50%             297.000000  34.000000  12.500000           48.000000   \n",
       "75%             517.000000  37.500000  16.500000           53.750000   \n",
       "max             756.000000  42.000000  18.000000           57.000000   \n",
       "\n",
       "        Prize Money  Double Titles  \n",
       "count  1.000000e+01      10.000000  \n",
       "mean   2.150221e+06       3.000000  \n",
       "std    2.223859e+06       1.247219  \n",
       "min    7.273960e+05       2.000000  \n",
       "25%    9.262208e+05       2.000000  \n",
       "50%    1.135886e+06       2.500000  \n",
       "75%    1.691772e+06       3.750000  \n",
       "max    6.669622e+06       5.000000  \n",
       "\n",
       "[8 rows x 24 columns]"
      ]
     },
     "execution_count": 4,
     "metadata": {},
     "output_type": "execute_result"
    }
   ],
   "source": [
    "df.describe()\n"
   ]
  },
  {
   "cell_type": "code",
   "execution_count": 5,
   "id": "0f2032a6",
   "metadata": {},
   "outputs": [
    {
     "name": "stdout",
     "output_type": "stream",
     "text": [
      "0    166\n",
      "1    179\n",
      "2    175\n",
      "3    170\n",
      "4    168\n",
      "5    169\n",
      "6    170\n",
      "7    178\n",
      "8    172\n",
      "9    174\n",
      "Name: Height, dtype: int64\n",
      "Median: 171.0\n"
     ]
    },
    {
     "data": {
      "text/plain": [
       "18.54444444444444"
      ]
     },
     "execution_count": 5,
     "metadata": {},
     "output_type": "execute_result"
    }
   ],
   "source": [
    "print(df['Height'])\n",
    "\n",
    "sorted_data = sorted(df['Height'])\n",
    "num_elements = len(sorted_data)\n",
    "\n",
    "if num_elements % 2 == 1:\n",
    "    median = sorted_data[num_elements // 2]\n",
    "else:\n",
    "    median = (sorted_data[num_elements // 2 - 1] + sorted_data[num_elements // 2]) / 2.0\n",
    "\n",
    "print(\"Median:\", median)\n",
    "\n",
    "def square(Height):\n",
    "    return Height * Height\n",
    "\n",
    "\n",
    "def sumOfSquaredDifferences(Height):\n",
    "    xBar = sum(Height) / len(Height)  # Using sum() to calculate the mean\n",
    "    differences = map(lambda x: x - xBar, Height)\n",
    "    squaredDifferences = map(lambda x: x**2, differences)  # Use lambda x: x**2 to square each element\n",
    "    return sum(squaredDifferences)\n",
    "\n",
    "\n",
    "def variance(Height):\n",
    "    n = len(Height)\n",
    "    return sumOfSquaredDifferences(Height) / (n - 1)\n",
    "\n",
    "\n",
    "variance(df['Height'])"
   ]
  },
  {
   "cell_type": "code",
   "execution_count": 6,
   "id": "7e2e574e",
   "metadata": {},
   "outputs": [
    {
     "name": "stdout",
     "output_type": "stream",
     "text": [
      "0    29\n",
      "1    27\n",
      "2    19\n",
      "3    29\n",
      "4    35\n",
      "5    37\n",
      "6    27\n",
      "7    31\n",
      "8    39\n",
      "9    27\n",
      "Name: Age, dtype: int64\n",
      "Median: 29.0\n"
     ]
    },
    {
     "data": {
      "text/plain": [
       "34.0"
      ]
     },
     "execution_count": 6,
     "metadata": {},
     "output_type": "execute_result"
    }
   ],
   "source": [
    "print(df['Age'])\n",
    "\n",
    "sorted_data = sorted(df['Age'])\n",
    "num_elements = len(sorted_data)\n",
    "\n",
    "if num_elements % 2 == 1:\n",
    "    median = sorted_data[num_elements // 2]\n",
    "else:\n",
    "    median = (sorted_data[num_elements // 2 - 1] + sorted_data[num_elements // 2]) / 2.0\n",
    "\n",
    "print(\"Median:\", median)\n",
    "\n",
    "def square(Age):\n",
    "    return Age * Age\n",
    "\n",
    "def sumOfSquaredDifferences(Age):\n",
    "    xBar = sum(Age) / len(Age)  # Using sum() to calculate the mean\n",
    "    differences = map(lambda x: x - xBar, Age)\n",
    "    squaredDifferences = map(lambda x: x**2, differences)  # Use lambda x: x**2 to square each element\n",
    "    return sum(squaredDifferences)\n",
    "\n",
    "\n",
    "def variance(Age):\n",
    "    n = len(Age)\n",
    "    return sumOfSquaredDifferences(Age) / (n - 1)\n",
    "\n",
    "\n",
    "variance(df['Age'])"
   ]
  },
  {
   "cell_type": "code",
   "execution_count": 7,
   "id": "53810d86",
   "metadata": {},
   "outputs": [
    {
     "name": "stdout",
     "output_type": "stream",
     "text": [
      "0     16.0\n",
      "1    182.0\n",
      "2    259.0\n",
      "3    183.0\n",
      "4     14.0\n",
      "5      1.0\n",
      "6     71.0\n",
      "7      NaN\n",
      "8      6.0\n",
      "9     89.0\n",
      "Name: Ace, dtype: float64\n",
      "Median: 80.0\n"
     ]
    },
    {
     "data": {
      "text/plain": [
       "nan"
      ]
     },
     "execution_count": 7,
     "metadata": {},
     "output_type": "execute_result"
    }
   ],
   "source": [
    "print(df['Ace'])\n",
    "\n",
    "sorted_data = sorted(df['Ace'])\n",
    "num_elements = len(sorted_data)\n",
    "\n",
    "if num_elements % 2 == 1:\n",
    "    median = sorted_data[num_elements // 2]\n",
    "else:\n",
    "    median = (sorted_data[num_elements // 2 - 1] + sorted_data[num_elements // 2]) / 2.0\n",
    "\n",
    "print(\"Median:\", median)\n",
    "\n",
    "\n",
    "def square(Ace):\n",
    "    return  Ace * Ace  \n",
    "\n",
    "def sumOfSquaredDifferences(Ace):\n",
    "    xBar = sum(Ace) / len(Ace)  # Using sum() to calculate the mean\n",
    "    differences = map(lambda x: x - xBar, Ace)\n",
    "    squaredDifferences = map(lambda x: x**2, differences)  # Use lambda x: x**2 to square each element\n",
    "    return sum(squaredDifferences)\n",
    "\n",
    "\n",
    "def variance(Ace):\n",
    "    n = len(Ace)\n",
    "    return sumOfSquaredDifferences(Ace) / (n - 1)\n",
    "\n",
    "\n",
    "variance(df['Ace'])\n",
    " "
   ]
  },
  {
   "cell_type": "code",
   "execution_count": 8,
   "id": "5f727471",
   "metadata": {},
   "outputs": [
    {
     "name": "stdout",
     "output_type": "stream",
     "text": [
      "0     26.0\n",
      "1    324.0\n",
      "2    215.0\n",
      "3    182.0\n",
      "4     74.0\n",
      "5      2.0\n",
      "6     26.0\n",
      "7      NaN\n",
      "8     50.0\n",
      "9    201.0\n",
      "Name: Double Faults, dtype: float64\n",
      "Median: 128.0\n"
     ]
    },
    {
     "data": {
      "text/plain": [
       "nan"
      ]
     },
     "execution_count": 8,
     "metadata": {},
     "output_type": "execute_result"
    }
   ],
   "source": [
    "print(df['Double Faults'])\n",
    "\n",
    "sorted_data = sorted(df['Double Faults'])\n",
    "num_elements = len(sorted_data)\n",
    "\n",
    "if num_elements % 2 == 1:\n",
    "    median = sorted_data[num_elements // 2]\n",
    "else:\n",
    "    median = (sorted_data[num_elements // 2 - 1] + sorted_data[num_elements // 2]) / 2.0\n",
    "\n",
    "print(\"Median:\", median)\n",
    "\n",
    "def square(Double_Faults):\n",
    "    return  Double_Faults * Double_Faults  \n",
    "\n",
    "def sumOfSquaredDifferences(Double_Faults):\n",
    "    xBar = sum(Double_Faults) / len(Double_Faults)  # Using sum() to calculate the mean\n",
    "    differences = map(lambda x: x - xBar, Double_Faults)\n",
    "    squaredDifferences = map(lambda x: x**2, differences)  # Use lambda x: x**2 to square each element\n",
    "    return sum(squaredDifferences)\n",
    "\n",
    "\n",
    "def variance(Double_Faults):\n",
    "    n = len(Double_Faults)\n",
    "    return sumOfSquaredDifferences(Double_Faults) / (n - 1)\n",
    "\n",
    "\n",
    "variance(df['Double Faults'])"
   ]
  },
  {
   "cell_type": "code",
   "execution_count": 9,
   "id": "ce4d075e",
   "metadata": {},
   "outputs": [
    {
     "name": "stdout",
     "output_type": "stream",
     "text": [
      "0    63.8\n",
      "1    54.6\n",
      "2    60.5\n",
      "3    58.4\n",
      "4    75.3\n",
      "5    64.9\n",
      "6    66.7\n",
      "7     NaN\n",
      "8    61.9\n",
      "9    62.8\n",
      "Name: First Serve Perc, dtype: float64\n",
      "Median: 63.3\n"
     ]
    },
    {
     "data": {
      "text/plain": [
       "nan"
      ]
     },
     "execution_count": 9,
     "metadata": {},
     "output_type": "execute_result"
    }
   ],
   "source": [
    "print(df['First Serve Perc'])\n",
    "\n",
    "sorted_data = sorted(df['First Serve Perc'])\n",
    "num_elements = len(sorted_data)\n",
    "\n",
    "if num_elements % 2 == 1:\n",
    "    median = sorted_data[num_elements // 2]\n",
    "else:\n",
    "    median = (sorted_data[num_elements // 2 - 1] + sorted_data[num_elements // 2]) / 2.0\n",
    "\n",
    "print(\"Median:\", median)\n",
    "\n",
    "def square(First_Serve_Perc):  \n",
    "    return First_Serve_Perc * First_Serve_Perc  \n",
    "\n",
    "def sumOfSquaredDifferences(First_Serve_Perc):  \n",
    "    xBar = sum(First_Serve_Perc) / len(First_Serve_Perc)  # Using sum() to calculate the mean\n",
    "    differences = map(lambda x: x - xBar, First_Serve_Perc)\n",
    "    squaredDifferences = map(lambda x: x**2, differences)  # Use lambda x: x**2 to square each element\n",
    "    return sum(squaredDifferences)\n",
    "\n",
    "def variance(First_Serve_Perc):  \n",
    "    n = len(First_Serve_Perc)\n",
    "    return sumOfSquaredDifferences(First_Serve_Perc) / (n - 1)\n",
    "\n",
    "variance(df['First Serve Perc'])"
   ]
  },
  {
   "cell_type": "code",
   "execution_count": 10,
   "id": "4a12968a",
   "metadata": {},
   "outputs": [
    {
     "name": "stdout",
     "output_type": "stream",
     "text": [
      "0    58.3\n",
      "1    67.1\n",
      "2    68.4\n",
      "3    66.2\n",
      "4    61.5\n",
      "5    60.0\n",
      "6    67.5\n",
      "7     NaN\n",
      "8    59.6\n",
      "9    62.8\n",
      "Name: First Serve Won Perc, dtype: float64\n",
      "Median: 64.5\n"
     ]
    },
    {
     "data": {
      "text/plain": [
       "nan"
      ]
     },
     "execution_count": 10,
     "metadata": {},
     "output_type": "execute_result"
    }
   ],
   "source": [
    "print(df['First Serve Won Perc'])\n",
    "\n",
    "sorted_data = sorted(df['First Serve Won Perc'])\n",
    "num_elements = len(sorted_data)\n",
    "\n",
    "if num_elements % 2 == 1:\n",
    "    median = sorted_data[num_elements // 2]\n",
    "else:\n",
    "    median = (sorted_data[num_elements // 2 - 1] + sorted_data[num_elements // 2]) / 2.0\n",
    "\n",
    "print(\"Median:\", median)\n",
    "\n",
    "\n",
    "def square(First_Serve_Won_Perc):  \n",
    "    return First_Serve_Won_Perc * First_Serve_Won_Perc  \n",
    "\n",
    "def sumOfSquaredDifferences(First_Serve_Won_Perc):  \n",
    "    xBar = sum(First_Serve_Won_Perc) / len(First_Serve_Won_Perc)  # Using sum() to calculate the mean\n",
    "    differences = map(lambda x: x - xBar, First_Serve_Won_Perc)\n",
    "    squaredDifferences = map(lambda x: x**2, differences)  # Use lambda x: x**2 to square each element\n",
    "    return sum(squaredDifferences)\n",
    "\n",
    "def variance(First_Serve_Won_Perc):  \n",
    "    n = len(First_Serve_Won_Perc)\n",
    "    return sumOfSquaredDifferences(First_Serve_Won_Perc) / (n - 1)\n",
    "\n",
    "variance(df['First Serve Won Perc'])"
   ]
  },
  {
   "cell_type": "code",
   "execution_count": 11,
   "id": "ba80824f",
   "metadata": {},
   "outputs": [
    {
     "name": "stdout",
     "output_type": "stream",
     "text": [
      "0    44.7\n",
      "1    42.4\n",
      "2    48.0\n",
      "3    51.2\n",
      "4    45.5\n",
      "5    44.4\n",
      "6    51.8\n",
      "7     NaN\n",
      "8    44.0\n",
      "9    43.9\n",
      "Name: Second Serve Won Perc, dtype: float64\n",
      "Median: 45.1\n"
     ]
    },
    {
     "data": {
      "text/plain": [
       "nan"
      ]
     },
     "execution_count": 11,
     "metadata": {},
     "output_type": "execute_result"
    }
   ],
   "source": [
    "print(df['Second Serve Won Perc'])\n",
    "\n",
    "sorted_data = sorted(df['Second Serve Won Perc'])\n",
    "num_elements = len(sorted_data)\n",
    "\n",
    "if num_elements % 2 == 1:\n",
    "    median = sorted_data[num_elements // 2]\n",
    "else:\n",
    "    median = (sorted_data[num_elements // 2 - 1] + sorted_data[num_elements // 2]) / 2.0\n",
    "\n",
    "print(\"Median:\", median)\n",
    "\n",
    "def square(Second_Serve_Won_Perc):  \n",
    "    return Second_Serve_Won_Perc * Second_Serve_Won_Perc  \n",
    "\n",
    "def sumOfSquaredDifferences(Second_Serve_Won_Perc):  \n",
    "    xBar = sum(Second_Serve_Won_Perc) / len(Second_Serve_Won_Perc)  # Using sum() to calculate the mean\n",
    "    differences = map(lambda x: x - xBar, Second_Serve_Won_Perc)\n",
    "    squaredDifferences = map(lambda x: x**2, differences)  # Use lambda x: x**2 to square each element\n",
    "    return sum(squaredDifferences)\n",
    "\n",
    "def variance(Second_Serve_Won_Perc):  \n",
    "    n = len(Second_Serve_Won_Perc)\n",
    "    return sumOfSquaredDifferences(Second_Serve_Won_Perc) / (n - 1)\n",
    "\n",
    "variance(df['Second Serve Won Perc'])"
   ]
  },
  {
   "cell_type": "code",
   "execution_count": 12,
   "id": "10dd5bc6",
   "metadata": {},
   "outputs": [
    {
     "name": "stdout",
     "output_type": "stream",
     "text": [
      "0    44.8\n",
      "1    53.5\n",
      "2    58.5\n",
      "3    57.2\n",
      "4    60.9\n",
      "5    16.7\n",
      "6    62.0\n",
      "7     NaN\n",
      "8    54.5\n",
      "9    49.0\n",
      "Name: BP SVD Perc, dtype: float64\n",
      "Median: 55.85\n"
     ]
    },
    {
     "data": {
      "text/plain": [
       "nan"
      ]
     },
     "execution_count": 12,
     "metadata": {},
     "output_type": "execute_result"
    }
   ],
   "source": [
    "print(df['BP SVD Perc'])\n",
    "\n",
    "sorted_data = sorted(df['BP SVD Perc'])\n",
    "num_elements = len(sorted_data)\n",
    "\n",
    "if num_elements % 2 == 1:\n",
    "    median = sorted_data[num_elements // 2]\n",
    "else:\n",
    "    median = (sorted_data[num_elements // 2 - 1] + sorted_data[num_elements // 2]) / 2.0\n",
    "\n",
    "print(\"Median:\", median)\n",
    "\n",
    "def square(BP_SVD_Perc):  \n",
    "    return BP_SVD_Perc * BP_SVD_Perc  \n",
    "\n",
    "def sumOfSquaredDifferences(BP_SVD_Perc):  \n",
    "    xBar = sum(BP_SVD_Perc) / len(BP_SVD_Perc)  # Using sum() to calculate the mean\n",
    "    differences = map(lambda x: x - xBar, BP_SVD_Perc)\n",
    "    squaredDifferences = map(lambda x: x**2, differences)  # Use lambda x: x**2 to square each element\n",
    "    return sum(squaredDifferences)\n",
    "\n",
    "def variance(BP_SVD_Perc):  \n",
    "    n = len(BP_SVD_Perc)\n",
    "    return sumOfSquaredDifferences(BP_SVD_Perc) / (n - 1)\n",
    "\n",
    "variance(df['BP SVD Perc'])"
   ]
  },
  {
   "cell_type": "code",
   "execution_count": 13,
   "id": "72803bbd",
   "metadata": {},
   "outputs": [
    {
     "name": "stdout",
     "output_type": "stream",
     "text": [
      "0    58.3\n",
      "1    63.3\n",
      "2    73.9\n",
      "3    72.7\n",
      "4    69.0\n",
      "5    61.5\n",
      "6    77.2\n",
      "7     NaN\n",
      "8    59.6\n",
      "9    63.8\n",
      "Name: Service Games Won Perc, dtype: float64\n",
      "Median: 66.4\n"
     ]
    },
    {
     "data": {
      "text/plain": [
       "nan"
      ]
     },
     "execution_count": 13,
     "metadata": {},
     "output_type": "execute_result"
    }
   ],
   "source": [
    "print(df['Service Games Won Perc'])\n",
    "\n",
    "sorted_data = sorted(df['Service Games Won Perc'])\n",
    "num_elements = len(sorted_data)\n",
    "\n",
    "if num_elements % 2 == 1:\n",
    "    median = sorted_data[num_elements // 2]\n",
    "else:\n",
    "    median = (sorted_data[num_elements // 2 - 1] + sorted_data[num_elements // 2]) / 2.0\n",
    "\n",
    "print(\"Median:\", median)\n",
    "\n",
    "def square(Service_Games_Won_Perc):  \n",
    "    return Service_Games_Won_Perc * Serve_Games_Won_Perc \n",
    "\n",
    "def sumOfSquaredDifferences(Service_Games_Won_Perc):  \n",
    "    xBar = sum(Service_Games_Won_Perc) / len(Service_Games_Won_Perc)  # Using sum() to calculate the mean\n",
    "    differences = map(lambda x: x - xBar, Service_Games_Won_Perc)\n",
    "    squaredDifferences = map(lambda x: x**2, differences)  # Use lambda x: x**2 to square each element\n",
    "    return sum(squaredDifferences)\n",
    "\n",
    "def variance(Service_Games_Won_Perc):  \n",
    "    n = len(Service_Games_Won_Perc)\n",
    "    return sumOfSquaredDifferences(Service_Games_Won_Perc) / (n - 1)\n",
    "\n",
    "variance(df['Service Games Won Perc'])"
   ]
  },
  {
   "cell_type": "code",
   "execution_count": 14,
   "id": "7fdaa702",
   "metadata": {},
   "outputs": [
    {
     "name": "stdout",
     "output_type": "stream",
     "text": [
      "0    29.4\n",
      "1    41.6\n",
      "2    41.5\n",
      "3    44.7\n",
      "4    32.3\n",
      "5    38.5\n",
      "6    28.5\n",
      "7     NaN\n",
      "8    29.7\n",
      "9    41.3\n",
      "Name: Return Games Won Perc, dtype: float64\n",
      "Median: 39.9\n"
     ]
    },
    {
     "data": {
      "text/plain": [
       "nan"
      ]
     },
     "execution_count": 14,
     "metadata": {},
     "output_type": "execute_result"
    }
   ],
   "source": [
    "print(df['Return Games Won Perc'])\n",
    "\n",
    "sorted_data = sorted(df['Return Games Won Perc'])\n",
    "num_elements = len(sorted_data)\n",
    "\n",
    "if num_elements % 2 == 1:\n",
    "    median = sorted_data[num_elements // 2]\n",
    "else:\n",
    "    median = (sorted_data[num_elements // 2 - 1] + sorted_data[num_elements // 2]) / 2.0\n",
    "\n",
    "print(\"Median:\", median)\n",
    "\n",
    "def square(Return_Games_Won_Perc):  \n",
    "    return Return_Games_Won_Perc * Return_Games_Won_Perc \n",
    "\n",
    "def sumOfSquaredDifferences(Return_Games_Won_Perc):  \n",
    "    xBar = sum(Return_Games_Won_Perc) / len(Return_Games_Won_Perc)  # Using sum() to calculate the mean\n",
    "    differences = map(lambda x: x - xBar, Return_Games_Won_Perc)\n",
    "    squaredDifferences = map(lambda x: x**2, differences)  # Use lambda x: x**2 to square each element\n",
    "    return sum(squaredDifferences)\n",
    "\n",
    "def variance(Return_Games_Won_Perc):  \n",
    "    n = len(Return_Games_Won_Perc)\n",
    "    return sumOfSquaredDifferences(Return_Games_Won_Perc) / (n - 1)\n",
    "\n",
    "variance(df['Return Games Won Perc'])"
   ]
  },
  {
   "cell_type": "code",
   "execution_count": 15,
   "id": "c2ea46bd",
   "metadata": {},
   "outputs": [
    {
     "name": "stdout",
     "output_type": "stream",
     "text": [
      "0    42\n",
      "1    32\n",
      "2    36\n",
      "3    35\n",
      "4    38\n",
      "5    21\n",
      "6    33\n",
      "7    32\n",
      "8    38\n",
      "9    24\n",
      "Name: Win , dtype: int64\n",
      "Median: 34.0\n"
     ]
    },
    {
     "data": {
      "text/plain": [
       "41.21111111111111"
      ]
     },
     "execution_count": 15,
     "metadata": {},
     "output_type": "execute_result"
    }
   ],
   "source": [
    "print(df['Win '])\n",
    "\n",
    "sorted_data = sorted(df['Win '])\n",
    "num_elements = len(sorted_data)\n",
    "\n",
    "if num_elements % 2 == 1:\n",
    "    median = sorted_data[num_elements // 2]\n",
    "else:\n",
    "    median = (sorted_data[num_elements // 2 - 1] + sorted_data[num_elements // 2]) / 2.0\n",
    "\n",
    "print(\"Median:\", median)\n",
    "\n",
    "def square(Win ):  \n",
    "    return Win  * Win  \n",
    "\n",
    "def sumOfSquaredDifferences(Win ):  \n",
    "    xBar = sum(Win ) / len(Win )  # Using sum() to calculate the mean\n",
    "    differences = map(lambda x: x - xBar, Win )\n",
    "    squaredDifferences = map(lambda x: x**2, differences)  # Use lambda x: x**2 to square each element\n",
    "    return sum(squaredDifferences)\n",
    "\n",
    "def variance(Win ):  \n",
    "    n = len(Win )\n",
    "    return sumOfSquaredDifferences(Win ) / (n - 1)\n",
    "\n",
    "variance(df['Win '])"
   ]
  },
  {
   "cell_type": "code",
   "execution_count": 16,
   "id": "c37aab5e",
   "metadata": {},
   "outputs": [
    {
     "name": "stdout",
     "output_type": "stream",
     "text": [
      "0    15\n",
      "1    11\n",
      "2    12\n",
      "3    13\n",
      "4    17\n",
      "5     8\n",
      "6     9\n",
      "7    18\n",
      "8    18\n",
      "9    10\n",
      "Name: Loss, dtype: int64\n",
      "Median: 12.5\n"
     ]
    },
    {
     "data": {
      "text/plain": [
       "13.877777777777778"
      ]
     },
     "execution_count": 16,
     "metadata": {},
     "output_type": "execute_result"
    }
   ],
   "source": [
    "print(df['Loss'])\n",
    "\n",
    "sorted_data = sorted(df['Loss'])\n",
    "num_elements = len(sorted_data)\n",
    "\n",
    "if num_elements % 2 == 1:\n",
    "    median = sorted_data[num_elements // 2]\n",
    "else:\n",
    "    median = (sorted_data[num_elements // 2 - 1] + sorted_data[num_elements // 2]) / 2.0\n",
    "\n",
    "print(\"Median:\", median)\n",
    "\n",
    "def square(Loss):  \n",
    "    return Loss * Loss  \n",
    "\n",
    "def sumOfSquaredDifferences(Loss):  \n",
    "    xBar = sum(Loss) / len(Loss)  # Using sum() to calculate the mean\n",
    "    differences = map(lambda x: x - xBar, Loss)\n",
    "    squaredDifferences = map(lambda x: x**2, differences)  # Use lambda x: x**2 to square each element\n",
    "    return sum(squaredDifferences)\n",
    "\n",
    "def variance(Loss):  \n",
    "    n = len(Loss)\n",
    "    return sumOfSquaredDifferences(Loss) / (n - 1)\n",
    "\n",
    "variance(df['Loss'])"
   ]
  },
  {
   "cell_type": "code",
   "execution_count": 17,
   "id": "1b87d2d0",
   "metadata": {},
   "outputs": [
    {
     "name": "stdout",
     "output_type": "stream",
     "text": [
      "0    57\n",
      "1    43\n",
      "2    48\n",
      "3    48\n",
      "4    55\n",
      "5    29\n",
      "6    42\n",
      "7    50\n",
      "8    56\n",
      "9    34\n",
      "Name: Total Games played, dtype: int64\n",
      "Median: 48.0\n"
     ]
    },
    {
     "data": {
      "text/plain": [
       "87.06666666666666"
      ]
     },
     "execution_count": 17,
     "metadata": {},
     "output_type": "execute_result"
    }
   ],
   "source": [
    "print(df['Total Games played'])\n",
    "\n",
    "sorted_data = sorted(df['Total Games played'])\n",
    "num_elements = len(sorted_data)\n",
    "\n",
    "if num_elements % 2 == 1:\n",
    "    median = sorted_data[num_elements // 2]\n",
    "else:\n",
    "    median = (sorted_data[num_elements // 2 - 1] + sorted_data[num_elements // 2]) / 2.0\n",
    "\n",
    "print(\"Median:\", median)\n",
    "\n",
    "def square(Total_Games_played):  \n",
    "    return Total_Games_played * Total_Games_played  \n",
    "\n",
    "def sumOfSquaredDifferences(Total_Games_played):  \n",
    "    xBar = sum(Total_Games_played) / len(Total_Games_played)  # Using sum() to calculate the mean\n",
    "    differences = map(lambda x: x - xBar, Total_Games_played)\n",
    "    squaredDifferences = map(lambda x: x**2, differences)  # Use lambda x: x**2 to square each element\n",
    "    return sum(squaredDifferences)\n",
    "\n",
    "def variance(Total_Games_played):  \n",
    "    n = len(Total_Games_played)\n",
    "    return sumOfSquaredDifferences(Total_Games_played) / (n - 1)\n",
    "\n",
    "variance(df['Total Games played'])"
   ]
  },
  {
   "cell_type": "code",
   "execution_count": 18,
   "id": "a0652b37",
   "metadata": {},
   "outputs": [
    {
     "name": "stderr",
     "output_type": "stream",
     "text": [
      "/Users/mariagraziellabrevi/anaconda3/lib/python3.11/site-packages/seaborn/axisgrid.py:118: UserWarning: The figure layout has changed to tight\n",
      "  self._figure.tight_layout(*args, **kwargs)\n"
     ]
    },
    {
     "name": "stdout",
     "output_type": "stream",
     "text": [
      "Correlation Coefficient: nan\n"
     ]
    },
    {
     "data": {
      "image/png": "[encoded data removed]",
      "text/plain": [
       "<Figure size 500x500 with 1 Axes>"
      ]
     },
     "metadata": {},
     "output_type": "display_data"
    }
   ],
   "source": [
    "import pandas as pd\n",
    "\n",
    "df = pd.read_csv('Women double - STAT2604 - Sheet1.csv')\n",
    "\n",
    "import seaborn as sns\n",
    "from math import sqrt\n",
    "\n",
    "plot = sns.lmplot(x='BP SVD Perc', y='BP CONV Perc', data=df)\n",
    "\n",
    "def calculate_correlation(x, y):\n",
    "    def n(arr):\n",
    "        return len(arr)\n",
    "\n",
    "    def product(x, y):\n",
    "        return x * y\n",
    "\n",
    "    def sumXTimesY(x, y):\n",
    "        return sum(map(product, x, y))\n",
    "\n",
    "    def numerator(x, y):\n",
    "        return n(x) * sumXTimesY(x, y) - sum(x) * sum(y)\n",
    "\n",
    "    def sumOfSquares(val):\n",
    "        return sum(map(lambda x: x**2, val))\n",
    "\n",
    "    def denominator(x, y):\n",
    "        return sqrt((n(x) * sumOfSquares(x) - sum(x)**2) * (n(y) * sumOfSquares(y) - sum(y)**2))\n",
    "\n",
    "    correlation = numerator(x, y) / denominator(x, y)\n",
    "    return correlation\n",
    "\n",
    "# Extract x and y data from the plot\n",
    "x_data = plot.data['BP SVD Perc']\n",
    "y_data = plot.data['BP CONV Perc']\n",
    "\n",
    "# Calculate and print the correlation coefficient\n",
    "correlation_coefficient = calculate_correlation(x_data, y_data)\n",
    "print(f'Correlation Coefficient: {correlation_coefficient}')"
   ]
  },
  {
   "cell_type": "code",
   "execution_count": 22,
   "id": "b1f860e6",
   "metadata": {},
   "outputs": [
    {
     "name": "stderr",
     "output_type": "stream",
     "text": [
      "/Users/mariagraziellabrevi/anaconda3/lib/python3.11/site-packages/seaborn/axisgrid.py:118: UserWarning: The figure layout has changed to tight\n",
      "  self._figure.tight_layout(*args, **kwargs)\n"
     ]
    },
    {
     "name": "stdout",
     "output_type": "stream",
     "text": [
      "Correlation Coefficient: nan\n"
     ]
    },
    {
     "data": {
      "image/png": "[encoded data removed]",
      "text/plain": [
       "<Figure size 500x500 with 1 Axes>"
      ]
     },
     "metadata": {},
     "output_type": "display_data"
    }
   ],
   "source": [
    "import pandas as pd\n",
    "\n",
    "df = pd.read_csv('Women double - STAT2604 - Sheet1.csv')\n",
    "\n",
    "import seaborn as sns\n",
    "from math import sqrt\n",
    "\n",
    "plot = sns.lmplot(x='First Serve Won Perc', y='First Serve Perc', data=df)\n",
    "\n",
    "# Function to calculate correlation coefficient\n",
    "def calculate_correlation(x, y):\n",
    "    def n(arr):\n",
    "        return len(arr)\n",
    "\n",
    "    def product(x, y):\n",
    "        return x * y\n",
    "\n",
    "    def sumXTimesY(x, y):\n",
    "        return sum(map(product, x, y))\n",
    "\n",
    "    def numerator(x, y):\n",
    "        return n(x) * sumXTimesY(x, y) - sum(x) * sum(y)\n",
    "\n",
    "    def sumOfSquares(val):\n",
    "        return sum(map(lambda x: x**2, val))\n",
    "\n",
    "    def denominator(x, y):\n",
    "        return sqrt((n(x) * sumOfSquares(x) - sum(x)**2) * (n(y) * sumOfSquares(y) - sum(y)**2))\n",
    "\n",
    "    correlation = numerator(x, y) / denominator(x, y)\n",
    "    return correlation\n",
    "\n",
    "# Extract x and y data from the plot\n",
    "x_data = plot.data['First Serve Won Perc']\n",
    "y_data = plot.data['First Serve Perc']\n",
    "\n",
    "# Calculate and print the correlation coefficient\n",
    "correlation_coefficient = calculate_correlation(x_data, y_data)\n",
    "print(f'Correlation Coefficient: {correlation_coefficient}')"
   ]
  },
  {
   "cell_type": "code",
   "execution_count": 23,
   "id": "0d6e1927",
   "metadata": {},
   "outputs": [
    {
     "name": "stdout",
     "output_type": "stream",
     "text": [
      "Correlation Coefficient: nan\n"
     ]
    },
    {
     "name": "stderr",
     "output_type": "stream",
     "text": [
      "/Users/mariagraziellabrevi/anaconda3/lib/python3.11/site-packages/seaborn/axisgrid.py:118: UserWarning: The figure layout has changed to tight\n",
      "  self._figure.tight_layout(*args, **kwargs)\n"
     ]
    },
    {
     "data": {
      "image/png": "[encoded data removed]",
      "text/plain": [
       "<Figure size 500x500 with 1 Axes>"
      ]
     },
     "metadata": {},
     "output_type": "display_data"
    }
   ],
   "source": [
    "plot = sns.lmplot(x='Service Points Won Perc', y='First Serve Perc', data=df)\n",
    "\n",
    "# Function to calculate correlation coefficient\n",
    "def calculate_correlation(x, y):\n",
    "    def n(arr):\n",
    "        return len(arr)\n",
    "\n",
    "    def product(x, y):\n",
    "        return x * y\n",
    "\n",
    "    def sumXTimesY(x, y):\n",
    "        return sum(map(product, x, y))\n",
    "\n",
    "    def numerator(x, y):\n",
    "        return n(x) * sumXTimesY(x, y) - sum(x) * sum(y)\n",
    "\n",
    "    def sumOfSquares(val):\n",
    "        return sum(map(lambda x: x**2, val))\n",
    "\n",
    "    def denominator(x, y):\n",
    "        return sqrt((n(x) * sumOfSquares(x) - sum(x)**2) * (n(y) * sumOfSquares(y) - sum(y)**2))\n",
    "\n",
    "    correlation = numerator(x, y) / denominator(x, y)\n",
    "    return correlation\n",
    "\n",
    "# Extract x and y data from the plot\n",
    "x_data = plot.data['Service Points Won Perc']\n",
    "y_data = plot.data['First Serve Perc']\n",
    "\n",
    "# Calculate and print the correlation coefficient\n",
    "correlation_coefficient = calculate_correlation(x_data, y_data)\n",
    "print(f'Correlation Coefficient: {correlation_coefficient}')"
   ]
  },
  {
   "cell_type": "code",
   "execution_count": 24,
   "id": "7005590e",
   "metadata": {},
   "outputs": [
    {
     "name": "stdout",
     "output_type": "stream",
     "text": [
      "Correlation Coefficient: nan\n"
     ]
    },
    {
     "name": "stderr",
     "output_type": "stream",
     "text": [
      "/Users/mariagraziellabrevi/anaconda3/lib/python3.11/site-packages/seaborn/axisgrid.py:118: UserWarning: The figure layout has changed to tight\n",
      "  self._figure.tight_layout(*args, **kwargs)\n"
     ]
    },
    {
     "data": {
      "image/png": "[encoded data removed]",
      "text/plain": [
       "<Figure size 500x500 with 1 Axes>"
      ]
     },
     "metadata": {},
     "output_type": "display_data"
    }
   ],
   "source": [
    "plot = sns.lmplot(x='Service Points Won Perc', y='First Serve Perc', data=df)\n",
    "\n",
    "# Function to calculate correlation coefficient\n",
    "def calculate_correlation(x, y):\n",
    "    def n(arr):\n",
    "        return len(arr)\n",
    "\n",
    "    def product(x, y):\n",
    "        return x * y\n",
    "\n",
    "    def sumXTimesY(x, y):\n",
    "        return sum(map(product, x, y))\n",
    "\n",
    "    def numerator(x, y):\n",
    "        return n(x) * sumXTimesY(x, y) - sum(x) * sum(y)\n",
    "\n",
    "    def sumOfSquares(val):\n",
    "        return sum(map(lambda x: x**2, val))\n",
    "\n",
    "    def denominator(x, y):\n",
    "        return sqrt((n(x) * sumOfSquares(x) - sum(x)**2) * (n(y) * sumOfSquares(y) - sum(y)**2))\n",
    "\n",
    "    correlation = numerator(x, y) / denominator(x, y)\n",
    "    return correlation\n",
    "\n",
    "# Extract x and y data from the plot\n",
    "x_data = plot.data['Service Points Won Perc']\n",
    "y_data = plot.data['First Serve Perc']\n",
    "\n",
    "# Calculate and print the correlation coefficient\n",
    "correlation_coefficient = calculate_correlation(x_data, y_data)\n",
    "print(f'Correlation Coefficient: {correlation_coefficient}')"
   ]
  },
  {
   "cell_type": "code",
   "execution_count": 25,
   "id": "92e93d3a",
   "metadata": {},
   "outputs": [
    {
     "name": "stderr",
     "output_type": "stream",
     "text": [
      "/Users/mariagraziellabrevi/anaconda3/lib/python3.11/site-packages/seaborn/axisgrid.py:118: UserWarning: The figure layout has changed to tight\n",
      "  self._figure.tight_layout(*args, **kwargs)\n"
     ]
    },
    {
     "name": "stdout",
     "output_type": "stream",
     "text": [
      "Correlation Coefficient: nan\n"
     ]
    },
    {
     "data": {
      "image/png": "[encoded data removed]",
      "text/plain": [
       "<Figure size 500x500 with 1 Axes>"
      ]
     },
     "metadata": {},
     "output_type": "display_data"
    }
   ],
   "source": [
    "plot = sns.lmplot(x='Return Points Won Perc', y='First Return Points Won Perc', data=df)\n",
    "\n",
    "# Function to calculate correlation coefficient\n",
    "def calculate_correlation(x, y):\n",
    "    def n(arr):\n",
    "        return len(arr)\n",
    "\n",
    "    def product(x, y):\n",
    "        return x * y\n",
    "\n",
    "    def sumXTimesY(x, y):\n",
    "        return sum(map(product, x, y))\n",
    "\n",
    "    def numerator(x, y):\n",
    "        return n(x) * sumXTimesY(x, y) - sum(x) * sum(y)\n",
    "\n",
    "    def sumOfSquares(val):\n",
    "        return sum(map(lambda x: x**2, val))\n",
    "\n",
    "    def denominator(x, y):\n",
    "        return sqrt((n(x) * sumOfSquares(x) - sum(x)**2) * (n(y) * sumOfSquares(y) - sum(y)**2))\n",
    "\n",
    "    correlation = numerator(x, y) / denominator(x, y)\n",
    "    return correlation\n",
    "\n",
    "# Extract x and y data from the plot\n",
    "x_data = plot.data['Return Points Won Perc']\n",
    "y_data = plot.data['First Return Points Won Perc']\n",
    "\n",
    "# Calculate and print the correlation coefficient\n",
    "correlation_coefficient = calculate_correlation(x_data, y_data)\n",
    "print(f'Correlation Coefficient: {correlation_coefficient}')"
   ]
  },
  {
   "cell_type": "code",
   "execution_count": 28,
   "id": "af61ca47",
   "metadata": {},
   "outputs": [
    {
     "name": "stderr",
     "output_type": "stream",
     "text": [
      "/Users/mariagraziellabrevi/anaconda3/lib/python3.11/site-packages/seaborn/axisgrid.py:118: UserWarning: The figure layout has changed to tight\n",
      "  self._figure.tight_layout(*args, **kwargs)\n"
     ]
    },
    {
     "name": "stdout",
     "output_type": "stream",
     "text": [
      "Correlation Coefficient: -0.08608131008999675\n"
     ]
    },
    {
     "data": {
      "image/png": "[encoded data removed]",
      "text/plain": [
       "<Figure size 500x500 with 1 Axes>"
      ]
     },
     "metadata": {},
     "output_type": "display_data"
    }
   ],
   "source": [
    "plot = sns.lmplot(x='Age', y='Win ', data=df)\n",
    "\n",
    "# Function to calculate correlation coefficient\n",
    "def calculate_correlation(x, y):\n",
    "    def n(arr):\n",
    "        return len(arr)\n",
    "\n",
    "    def product(x, y):\n",
    "        return x * y\n",
    "\n",
    "    def sumXTimesY(x, y):\n",
    "        return sum(map(product, x, y))\n",
    "\n",
    "    def numerator(x, y):\n",
    "        return n(x) * sumXTimesY(x, y) - sum(x) * sum(y)\n",
    "\n",
    "    def sumOfSquares(val):\n",
    "        return sum(map(lambda x: x**2, val))\n",
    "\n",
    "    def denominator(x, y):\n",
    "        return sqrt((n(x) * sumOfSquares(x) - sum(x)**2) * (n(y) * sumOfSquares(y) - sum(y)**2))\n",
    "\n",
    "    correlation = numerator(x, y) / denominator(x, y)\n",
    "    return correlation\n",
    "\n",
    "# Extract x and y data from the plot\n",
    "x_data = plot.data['Age']\n",
    "y_data = plot.data['Win ']\n",
    "\n",
    "# Calculate and print the correlation coefficient\n",
    "correlation_coefficient = calculate_correlation(x_data, y_data)\n",
    "print(f'Correlation Coefficient: {correlation_coefficient}')"
   ]
  },
  {
   "cell_type": "code",
   "execution_count": 29,
   "id": "fd15f044",
   "metadata": {},
   "outputs": [
    {
     "name": "stderr",
     "output_type": "stream",
     "text": [
      "/Users/mariagraziellabrevi/anaconda3/lib/python3.11/site-packages/seaborn/axisgrid.py:118: UserWarning: The figure layout has changed to tight\n",
      "  self._figure.tight_layout(*args, **kwargs)\n"
     ]
    },
    {
     "name": "stdout",
     "output_type": "stream",
     "text": [
      "Correlation Coefficient: nan\n"
     ]
    },
    {
     "data": {
      "image/png": "[encoded data removed]",
      "text/plain": [
       "<Figure size 500x500 with 1 Axes>"
      ]
     },
     "metadata": {},
     "output_type": "display_data"
    }
   ],
   "source": [
    "plot = sns.lmplot(x='Age', y='Return Points Won Perc', data=df)\n",
    "\n",
    "# Function to calculate correlation coefficient\n",
    "def calculate_correlation(x, y):\n",
    "    def n(arr):\n",
    "        return len(arr)\n",
    "\n",
    "    def product(x, y):\n",
    "        return x * y\n",
    "\n",
    "    def sumXTimesY(x, y):\n",
    "        return sum(map(product, x, y))\n",
    "\n",
    "    def numerator(x, y):\n",
    "        return n(x) * sumXTimesY(x, y) - sum(x) * sum(y)\n",
    "\n",
    "    def sumOfSquares(val):\n",
    "        return sum(map(lambda x: x**2, val))\n",
    "\n",
    "    def denominator(x, y):\n",
    "        return sqrt((n(x) * sumOfSquares(x) - sum(x)**2) * (n(y) * sumOfSquares(y) - sum(y)**2))\n",
    "\n",
    "    correlation = numerator(x, y) / denominator(x, y)\n",
    "    return correlation\n",
    "\n",
    "# Extract x and y data from the plot\n",
    "x_data = plot.data['Age']\n",
    "y_data = plot.data['Return Points Won Perc']\n",
    "\n",
    "# Calculate and print the correlation coefficient\n",
    "correlation_coefficient = calculate_correlation(x_data, y_data)\n",
    "print(f'Correlation Coefficient: {correlation_coefficient}')"
   ]
  },
  {
   "cell_type": "code",
   "execution_count": 31,
   "id": "67ecf32f",
   "metadata": {},
   "outputs": [
    {
     "name": "stderr",
     "output_type": "stream",
     "text": [
      "/Users/mariagraziellabrevi/anaconda3/lib/python3.11/site-packages/seaborn/axisgrid.py:118: UserWarning: The figure layout has changed to tight\n",
      "  self._figure.tight_layout(*args, **kwargs)\n"
     ]
    },
    {
     "name": "stdout",
     "output_type": "stream",
     "text": [
      "Correlation Coefficient: nan\n"
     ]
    },
    {
     "data": {
      "image/png": "[encoded data removed]",
      "text/plain": [
       "<Figure size 500x500 with 1 Axes>"
      ]
     },
     "metadata": {},
     "output_type": "display_data"
    }
   ],
   "source": [
    "plot = sns.lmplot(x='Height', y='Service Games Played Perc', data=df)\n",
    "\n",
    "# Function to calculate correlation coefficient\n",
    "def calculate_correlation(x, y):\n",
    "    def n(arr):\n",
    "        return len(arr)\n",
    "\n",
    "    def product(x, y):\n",
    "        return x * y\n",
    "\n",
    "    def sumXTimesY(x, y):\n",
    "        return sum(map(product, x, y))\n",
    "\n",
    "    def numerator(x, y):\n",
    "        return n(x) * sumXTimesY(x, y) - sum(x) * sum(y)\n",
    "\n",
    "    def sumOfSquares(val):\n",
    "        return sum(map(lambda x: x**2, val))\n",
    "\n",
    "    def denominator(x, y):\n",
    "        return sqrt((n(x) * sumOfSquares(x) - sum(x)**2) * (n(y) * sumOfSquares(y) - sum(y)**2))\n",
    "\n",
    "    correlation = numerator(x, y) / denominator(x, y)\n",
    "    return correlation\n",
    "\n",
    "# Extract x and y data from the plot\n",
    "x_data = plot.data['Height']\n",
    "y_data = plot.data['Service Games Played Perc']\n",
    "\n",
    "# Calculate and print the correlation coefficient\n",
    "correlation_coefficient = calculate_correlation(x_data, y_data)\n",
    "print(f'Correlation Coefficient: {correlation_coefficient}')"
   ]
  },
  {
   "cell_type": "code",
   "execution_count": 30,
   "id": "76645888",
   "metadata": {},
   "outputs": [
    {
     "name": "stderr",
     "output_type": "stream",
     "text": [
      "/Users/mariagraziellabrevi/anaconda3/lib/python3.11/site-packages/seaborn/axisgrid.py:118: UserWarning: The figure layout has changed to tight\n",
      "  self._figure.tight_layout(*args, **kwargs)\n"
     ]
    },
    {
     "name": "stdout",
     "output_type": "stream",
     "text": [
      "Correlation Coefficient: -0.257632972616616\n"
     ]
    },
    {
     "data": {
      "image/png": "[encoded data removed]",
      "text/plain": [
       "<Figure size 500x500 with 1 Axes>"
      ]
     },
     "metadata": {},
     "output_type": "display_data"
    }
   ],
   "source": [
    "plot = sns.lmplot(x='Height', y='Win ', data=df)\n",
    "\n",
    "# Function to calculate correlation coefficient\n",
    "def calculate_correlation(x, y):\n",
    "    def n(arr):\n",
    "        return len(arr)\n",
    "\n",
    "    def product(x, y):\n",
    "        return x * y\n",
    "\n",
    "    def sumXTimesY(x, y):\n",
    "        return sum(map(product, x, y))\n",
    "\n",
    "    def numerator(x, y):\n",
    "        return n(x) * sumXTimesY(x, y) - sum(x) * sum(y)\n",
    "\n",
    "    def sumOfSquares(val):\n",
    "        return sum(map(lambda x: x**2, val))\n",
    "\n",
    "    def denominator(x, y):\n",
    "        return sqrt((n(x) * sumOfSquares(x) - sum(x)**2) * (n(y) * sumOfSquares(y) - sum(y)**2))\n",
    "\n",
    "    correlation = numerator(x, y) / denominator(x, y)\n",
    "    return correlation\n",
    "\n",
    "# Extract x and y data from the plot\n",
    "x_data = plot.data['Height']\n",
    "y_data = plot.data['Win ']\n",
    "\n",
    "# Calculate and print the correlation coefficient\n",
    "correlation_coefficient = calculate_correlation(x_data, y_data)\n",
    "print(f'Correlation Coefficient: {correlation_coefficient}')"
   ]
  },
  {
   "cell_type": "code",
   "execution_count": 32,
   "id": "7d033a3d",
   "metadata": {},
   "outputs": [
    {
     "data": {
      "image/png": "[encoded data removed]",
      "text/plain": [
       "<Figure size 700x500 with 1 Axes>"
      ]
     },
     "metadata": {},
     "output_type": "display_data"
    }
   ],
   "source": [
    "import matplotlib.pyplot as plt\n",
    "from matplotlib.patches import Rectangle, Circle\n",
    "\n",
    "def draw_tennis_court(ax):\n",
    "    # Tennis court size is 78 feet by 36 feet\n",
    "    court = Rectangle((0, 0), 78, 36, edgecolor=\"black\", facecolor=\"none\")\n",
    "    ax.add_patch(court)\n",
    "\n",
    "    # Singles sidelines\n",
    "    ax.plot([0, 0], [0, 36], color=\"black\")\n",
    "    ax.plot([78, 78], [0, 36], color=\"black\")\n",
    "    \n",
    "\n",
    "    # Net\n",
    "    net = Rectangle((39, 0), 0, 36, color=\"black\")\n",
    "    ax.add_patch(net)\n",
    "    \n",
    "    plt.axhline(y = 4.5, color = 'black', linestyle = '-')\n",
    "\n",
    "    plt.axhline(y = 31.5, color = 'black', linestyle = '-')\n",
    "    \n",
    "    \n",
    "    #ax.axvline(x = 18, color = 'black', linestyle = '-')\n",
    "\n",
    "    #ax.axvline(x = 60, color = 'black', linestyle = '-')\n",
    "    \n",
    "\n",
    "    # Left service box\n",
    "    \n",
    "    ax.add_patch(Rectangle((18, 4.5), 21, 13.5, edgecolor=\"black\", facecolor=\"none\"))\n",
    "    \n",
    "    ax.add_patch(Rectangle((18, 18), 21, 13.5, edgecolor=\"black\", facecolor=\"none\"))\n",
    "    \n",
    "\n",
    "    # Right service box\n",
    "    \n",
    "    ax.add_patch(Rectangle((39, 4.5), 21, 13.5, edgecolor=\"black\", facecolor=\"none\"))\n",
    "    \n",
    "    ax.add_patch(Rectangle((39, 18), 21, 13.5, edgecolor=\"black\", facecolor=\"none\"))\n",
    "\n",
    "    # Left baseline\n",
    "    ax.plot([0, 78], [0, 0], color=\"black\")\n",
    "\n",
    "    # Right baseline\n",
    "    ax.plot([0, 78], [36, 36], color=\"black\")\n",
    "\n",
    "\n",
    "# Create a new figure and axis\n",
    "fig = plt.figure()\n",
    "fig.set_size_inches(7, 5)\n",
    "ax = fig.add_subplot(1, 1, 1)\n",
    "\n",
    "# Draw the tennis court\n",
    "draw_tennis_court(ax)\n",
    "\n",
    "# Show the plot\n",
    "plt.show()\n"
   ]
  },
  {
   "cell_type": "code",
   "execution_count": null,
   "id": "442c35b7",
   "metadata": {},
   "outputs": [],
   "source": []
  }
 ],
 "metadata": {
  "kernelspec": {
   "display_name": "Python 3 (ipykernel)",
   "language": "python",
   "name": "python3"
  },
  "language_info": {
   "codemirror_mode": {
    "name": "ipython",
    "version": 3
   },
   "file_extension": ".py",
   "mimetype": "text/x-python",
   "name": "python",
   "nbconvert_exporter": "python",
   "pygments_lexer": "ipython3",
   "version": "3.11.5"
  }
 },
 "nbformat": 4,
 "nbformat_minor": 5
}
