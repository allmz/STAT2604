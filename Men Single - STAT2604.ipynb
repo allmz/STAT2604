{
 "cells": [
  {
   "cell_type": "code",
   "execution_count": 1,
   "id": "b85dd6f5",
   "metadata": {},
   "outputs": [
    {
     "name": "stdout",
     "output_type": "stream",
     "text": [
      "   Ranking                 Name Gender  Points  Height  Age Hands  Weights  \\\n",
      "0         1      Novak Djokovic      M   11045     188   36     R       77   \n",
      "1         2      Carlos Alcaraz      M    8625     183   20     R       74   \n",
      "2         3     Daniil Medvedev      M    7200     198   27     R       83   \n",
      "3         4       Jannik Sinner      M    5410     188   22     R       76   \n",
      "4         5       Andrey Rublev      M    4935     188   26     R       75   \n",
      "5         6  Stefanos Tsitsipas      M    4435     193   25     R       90   \n",
      "6         7         Holger Rune      M    4280     188   20     R       77   \n",
      "7         8         Casper Ruud      M    3705     183   24     R       81   \n",
      "8         9    Alexander Zverev      M    3540     198   26     R       90   \n",
      "9        10        Taylor Fritz      M    3500     196   26     R       86   \n",
      "\n",
      "  Head to Head  Ace  ...  BP SVD Perc  Service Points Won Perc  \\\n",
      "0          3-0  305  ...           68                       70   \n",
      "1          3-0  283  ...           65                       67   \n",
      "2          4-1  524  ...           66                       66   \n",
      "3          4-0  397  ...           69                       68   \n",
      "4          3-0  568  ...           63                       66   \n",
      "5          3-0  513  ...           65                       70   \n",
      "6          2-1  306  ...           64                       65   \n",
      "7          2-0  315  ...           67                       65   \n",
      "8          4-0  557  ...           63                       67   \n",
      "9          3-0  684  ...           66                       69   \n",
      "\n",
      "   Service Games Won Perc  Service Games Played   Return Points Won Perc  \\\n",
      "0                      88                    637                      42   \n",
      "1                      85                    837                      43   \n",
      "2                      85                    877                      42   \n",
      "3                      87                    842                      41   \n",
      "4                      85                    959                      39   \n",
      "5                      89                    883                      35   \n",
      "6                      83                    765                      37   \n",
      "7                      83                    772                      38   \n",
      "8                      84                    883                      38   \n",
      "9                      87                    926                      38   \n",
      "\n",
      "   First Return Points Won Perc  Second Return Points Won Perc  BP CONV Perc  \\\n",
      "0                            34                             54            42   \n",
      "1                            36                             54            40   \n",
      "2                            34                             54            47   \n",
      "3                            33                             55            42   \n",
      "4                            30                             52            40   \n",
      "5                            27                             49            39   \n",
      "6                            29                             49            39   \n",
      "7                            30                             51            39   \n",
      "8                            29                             52            37   \n",
      "9                            28                             53            42   \n",
      "\n",
      "   Return Games Won Perc  Return Games Played  \n",
      "0                     31                  618  \n",
      "1                     33                  828  \n",
      "2                     32                  875  \n",
      "3                     30                  834  \n",
      "4                     25                  951  \n",
      "5                     20                  867  \n",
      "6                     22                  762  \n",
      "7                     24                  761  \n",
      "8                     24                  890  \n",
      "9                     23                  901  \n",
      "\n",
      "[10 rows x 25 columns]\n"
     ]
    }
   ],
   "source": [
    "import pandas as pd\n",
    "\n",
    "df = pd.read_csv('Men single - STAT2604 - Sheet1.csv')\n",
    "\n",
    "print(df)"
   ]
  },
  {
   "cell_type": "code",
   "execution_count": 2,
   "id": "95d21c90",
   "metadata": {},
   "outputs": [
    {
     "data": {
      "text/html": [
       "<div>\n",
       "<style scoped>\n",
       "    .dataframe tbody tr th:only-of-type {\n",
       "        vertical-align: middle;\n",
       "    }\n",
       "\n",
       "    .dataframe tbody tr th {\n",
       "        vertical-align: top;\n",
       "    }\n",
       "\n",
       "    .dataframe thead th {\n",
       "        text-align: right;\n",
       "    }\n",
       "</style>\n",
       "<table border=\"1\" class=\"dataframe\">\n",
       "  <thead>\n",
       "    <tr style=\"text-align: right;\">\n",
       "      <th></th>\n",
       "      <th>Ranking</th>\n",
       "      <th>Points</th>\n",
       "      <th>Height</th>\n",
       "      <th>Age</th>\n",
       "      <th>Weights</th>\n",
       "      <th>Ace</th>\n",
       "      <th>Serve</th>\n",
       "      <th>Double Faluts</th>\n",
       "      <th>First Serve Perc</th>\n",
       "      <th>First Serve Won Perc</th>\n",
       "      <th>...</th>\n",
       "      <th>BP SVD Perc</th>\n",
       "      <th>Service Points Won Perc</th>\n",
       "      <th>Service Games Won Perc</th>\n",
       "      <th>Service Games Played</th>\n",
       "      <th>Return Points Won Perc</th>\n",
       "      <th>First Return Points Won Perc</th>\n",
       "      <th>Second Return Points Won Perc</th>\n",
       "      <th>BP CONV Perc</th>\n",
       "      <th>Return Games Won Perc</th>\n",
       "      <th>Return Games Played</th>\n",
       "    </tr>\n",
       "  </thead>\n",
       "  <tbody>\n",
       "    <tr>\n",
       "      <th>count</th>\n",
       "      <td>10.00000</td>\n",
       "      <td>10.000000</td>\n",
       "      <td>10.000000</td>\n",
       "      <td>10.000000</td>\n",
       "      <td>10.000000</td>\n",
       "      <td>10.000000</td>\n",
       "      <td>10.000000</td>\n",
       "      <td>10.000000</td>\n",
       "      <td>10.000000</td>\n",
       "      <td>10.000000</td>\n",
       "      <td>...</td>\n",
       "      <td>10.00000</td>\n",
       "      <td>10.000000</td>\n",
       "      <td>10.000000</td>\n",
       "      <td>10.000000</td>\n",
       "      <td>10.00000</td>\n",
       "      <td>10.000000</td>\n",
       "      <td>10.000000</td>\n",
       "      <td>10.000000</td>\n",
       "      <td>10.00000</td>\n",
       "      <td>10.000000</td>\n",
       "    </tr>\n",
       "    <tr>\n",
       "      <th>mean</th>\n",
       "      <td>5.50000</td>\n",
       "      <td>5667.500000</td>\n",
       "      <td>190.300000</td>\n",
       "      <td>25.200000</td>\n",
       "      <td>80.900000</td>\n",
       "      <td>445.200000</td>\n",
       "      <td>282.570000</td>\n",
       "      <td>178.300000</td>\n",
       "      <td>63.200000</td>\n",
       "      <td>74.900000</td>\n",
       "      <td>...</td>\n",
       "      <td>65.60000</td>\n",
       "      <td>67.300000</td>\n",
       "      <td>85.600000</td>\n",
       "      <td>838.100000</td>\n",
       "      <td>39.30000</td>\n",
       "      <td>31.000000</td>\n",
       "      <td>52.300000</td>\n",
       "      <td>40.700000</td>\n",
       "      <td>26.40000</td>\n",
       "      <td>828.700000</td>\n",
       "    </tr>\n",
       "    <tr>\n",
       "      <th>std</th>\n",
       "      <td>3.02765</td>\n",
       "      <td>2519.604521</td>\n",
       "      <td>5.638164</td>\n",
       "      <td>4.565572</td>\n",
       "      <td>6.081849</td>\n",
       "      <td>141.432198</td>\n",
       "      <td>6.512049</td>\n",
       "      <td>55.575874</td>\n",
       "      <td>3.084009</td>\n",
       "      <td>2.643651</td>\n",
       "      <td>...</td>\n",
       "      <td>2.01108</td>\n",
       "      <td>1.888562</td>\n",
       "      <td>2.065591</td>\n",
       "      <td>93.130076</td>\n",
       "      <td>2.58414</td>\n",
       "      <td>3.018462</td>\n",
       "      <td>2.110819</td>\n",
       "      <td>2.750757</td>\n",
       "      <td>4.64758</td>\n",
       "      <td>94.873073</td>\n",
       "    </tr>\n",
       "    <tr>\n",
       "      <th>min</th>\n",
       "      <td>1.00000</td>\n",
       "      <td>3500.000000</td>\n",
       "      <td>183.000000</td>\n",
       "      <td>20.000000</td>\n",
       "      <td>74.000000</td>\n",
       "      <td>283.000000</td>\n",
       "      <td>273.400000</td>\n",
       "      <td>123.000000</td>\n",
       "      <td>59.000000</td>\n",
       "      <td>71.000000</td>\n",
       "      <td>...</td>\n",
       "      <td>63.00000</td>\n",
       "      <td>65.000000</td>\n",
       "      <td>83.000000</td>\n",
       "      <td>637.000000</td>\n",
       "      <td>35.00000</td>\n",
       "      <td>27.000000</td>\n",
       "      <td>49.000000</td>\n",
       "      <td>37.000000</td>\n",
       "      <td>20.00000</td>\n",
       "      <td>618.000000</td>\n",
       "    </tr>\n",
       "    <tr>\n",
       "      <th>25%</th>\n",
       "      <td>3.25000</td>\n",
       "      <td>3848.750000</td>\n",
       "      <td>188.000000</td>\n",
       "      <td>22.500000</td>\n",
       "      <td>76.250000</td>\n",
       "      <td>308.250000</td>\n",
       "      <td>278.200000</td>\n",
       "      <td>143.500000</td>\n",
       "      <td>61.250000</td>\n",
       "      <td>72.500000</td>\n",
       "      <td>...</td>\n",
       "      <td>64.25000</td>\n",
       "      <td>66.000000</td>\n",
       "      <td>84.250000</td>\n",
       "      <td>788.250000</td>\n",
       "      <td>38.00000</td>\n",
       "      <td>29.000000</td>\n",
       "      <td>51.250000</td>\n",
       "      <td>39.000000</td>\n",
       "      <td>23.25000</td>\n",
       "      <td>778.500000</td>\n",
       "    </tr>\n",
       "    <tr>\n",
       "      <th>50%</th>\n",
       "      <td>5.50000</td>\n",
       "      <td>4685.000000</td>\n",
       "      <td>188.000000</td>\n",
       "      <td>25.500000</td>\n",
       "      <td>79.000000</td>\n",
       "      <td>455.000000</td>\n",
       "      <td>281.850000</td>\n",
       "      <td>160.000000</td>\n",
       "      <td>63.500000</td>\n",
       "      <td>75.500000</td>\n",
       "      <td>...</td>\n",
       "      <td>65.50000</td>\n",
       "      <td>67.000000</td>\n",
       "      <td>85.000000</td>\n",
       "      <td>859.500000</td>\n",
       "      <td>38.50000</td>\n",
       "      <td>30.000000</td>\n",
       "      <td>52.500000</td>\n",
       "      <td>40.000000</td>\n",
       "      <td>24.50000</td>\n",
       "      <td>850.500000</td>\n",
       "    </tr>\n",
       "    <tr>\n",
       "      <th>75%</th>\n",
       "      <td>7.75000</td>\n",
       "      <td>6752.500000</td>\n",
       "      <td>195.250000</td>\n",
       "      <td>26.000000</td>\n",
       "      <td>85.250000</td>\n",
       "      <td>548.750000</td>\n",
       "      <td>286.350000</td>\n",
       "      <td>202.500000</td>\n",
       "      <td>64.000000</td>\n",
       "      <td>76.000000</td>\n",
       "      <td>...</td>\n",
       "      <td>66.75000</td>\n",
       "      <td>68.750000</td>\n",
       "      <td>87.000000</td>\n",
       "      <td>883.000000</td>\n",
       "      <td>41.75000</td>\n",
       "      <td>33.750000</td>\n",
       "      <td>54.000000</td>\n",
       "      <td>42.000000</td>\n",
       "      <td>30.75000</td>\n",
       "      <td>886.250000</td>\n",
       "    </tr>\n",
       "    <tr>\n",
       "      <th>max</th>\n",
       "      <td>10.00000</td>\n",
       "      <td>11045.000000</td>\n",
       "      <td>198.000000</td>\n",
       "      <td>36.000000</td>\n",
       "      <td>90.000000</td>\n",
       "      <td>684.000000</td>\n",
       "      <td>292.700000</td>\n",
       "      <td>298.000000</td>\n",
       "      <td>70.000000</td>\n",
       "      <td>79.000000</td>\n",
       "      <td>...</td>\n",
       "      <td>69.00000</td>\n",
       "      <td>70.000000</td>\n",
       "      <td>89.000000</td>\n",
       "      <td>959.000000</td>\n",
       "      <td>43.00000</td>\n",
       "      <td>36.000000</td>\n",
       "      <td>55.000000</td>\n",
       "      <td>47.000000</td>\n",
       "      <td>33.00000</td>\n",
       "      <td>951.000000</td>\n",
       "    </tr>\n",
       "  </tbody>\n",
       "</table>\n",
       "<p>8 rows × 21 columns</p>\n",
       "</div>"
      ],
      "text/plain": [
       "       Ranking         Points      Height        Age    Weights         Ace  \\\n",
       "count  10.00000     10.000000   10.000000  10.000000  10.000000   10.000000   \n",
       "mean    5.50000   5667.500000  190.300000  25.200000  80.900000  445.200000   \n",
       "std     3.02765   2519.604521    5.638164   4.565572   6.081849  141.432198   \n",
       "min     1.00000   3500.000000  183.000000  20.000000  74.000000  283.000000   \n",
       "25%     3.25000   3848.750000  188.000000  22.500000  76.250000  308.250000   \n",
       "50%     5.50000   4685.000000  188.000000  25.500000  79.000000  455.000000   \n",
       "75%     7.75000   6752.500000  195.250000  26.000000  85.250000  548.750000   \n",
       "max    10.00000  11045.000000  198.000000  36.000000  90.000000  684.000000   \n",
       "\n",
       "            Serve  Double Faluts  First Serve Perc   First Serve Won Perc  \\\n",
       "count   10.000000      10.000000          10.000000             10.000000   \n",
       "mean   282.570000     178.300000          63.200000             74.900000   \n",
       "std      6.512049      55.575874           3.084009              2.643651   \n",
       "min    273.400000     123.000000          59.000000             71.000000   \n",
       "25%    278.200000     143.500000          61.250000             72.500000   \n",
       "50%    281.850000     160.000000          63.500000             75.500000   \n",
       "75%    286.350000     202.500000          64.000000             76.000000   \n",
       "max    292.700000     298.000000          70.000000             79.000000   \n",
       "\n",
       "       ...  BP SVD Perc  Service Points Won Perc  Service Games Won Perc  \\\n",
       "count  ...     10.00000                10.000000               10.000000   \n",
       "mean   ...     65.60000                67.300000               85.600000   \n",
       "std    ...      2.01108                 1.888562                2.065591   \n",
       "min    ...     63.00000                65.000000               83.000000   \n",
       "25%    ...     64.25000                66.000000               84.250000   \n",
       "50%    ...     65.50000                67.000000               85.000000   \n",
       "75%    ...     66.75000                68.750000               87.000000   \n",
       "max    ...     69.00000                70.000000               89.000000   \n",
       "\n",
       "       Service Games Played   Return Points Won Perc  \\\n",
       "count              10.000000                10.00000   \n",
       "mean              838.100000                39.30000   \n",
       "std                93.130076                 2.58414   \n",
       "min               637.000000                35.00000   \n",
       "25%               788.250000                38.00000   \n",
       "50%               859.500000                38.50000   \n",
       "75%               883.000000                41.75000   \n",
       "max               959.000000                43.00000   \n",
       "\n",
       "       First Return Points Won Perc  Second Return Points Won Perc  \\\n",
       "count                     10.000000                      10.000000   \n",
       "mean                      31.000000                      52.300000   \n",
       "std                        3.018462                       2.110819   \n",
       "min                       27.000000                      49.000000   \n",
       "25%                       29.000000                      51.250000   \n",
       "50%                       30.000000                      52.500000   \n",
       "75%                       33.750000                      54.000000   \n",
       "max                       36.000000                      55.000000   \n",
       "\n",
       "       BP CONV Perc  Return Games Won Perc  Return Games Played  \n",
       "count     10.000000               10.00000            10.000000  \n",
       "mean      40.700000               26.40000           828.700000  \n",
       "std        2.750757                4.64758            94.873073  \n",
       "min       37.000000               20.00000           618.000000  \n",
       "25%       39.000000               23.25000           778.500000  \n",
       "50%       40.000000               24.50000           850.500000  \n",
       "75%       42.000000               30.75000           886.250000  \n",
       "max       47.000000               33.00000           951.000000  \n",
       "\n",
       "[8 rows x 21 columns]"
      ]
     },
     "execution_count": 2,
     "metadata": {},
     "output_type": "execute_result"
    }
   ],
   "source": [
    "df.describe()\n"
   ]
  },
  {
   "cell_type": "code",
   "execution_count": 3,
   "id": "8db32012",
   "metadata": {},
   "outputs": [
    {
     "name": "stdout",
     "output_type": "stream",
     "text": [
      "0    188\n",
      "1    183\n",
      "2    198\n",
      "3    188\n",
      "4    188\n",
      "5    193\n",
      "6    188\n",
      "7    183\n",
      "8    198\n",
      "9    196\n",
      "Name: Height, dtype: int64\n",
      "Median: 188.0\n"
     ]
    },
    {
     "data": {
      "text/plain": [
       "31.788888888888884"
      ]
     },
     "execution_count": 3,
     "metadata": {},
     "output_type": "execute_result"
    }
   ],
   "source": [
    "print(df['Height'])\n",
    "\n",
    "sorted_data = sorted(df['Height'])\n",
    "num_elements = len(sorted_data)\n",
    "\n",
    "if num_elements % 2 == 1:\n",
    "    median = sorted_data[num_elements // 2]\n",
    "else:\n",
    "    median = (sorted_data[num_elements // 2 - 1] + sorted_data[num_elements // 2]) / 2.0\n",
    "\n",
    "print(\"Median:\", median)\n",
    "\n",
    "def square(Height):\n",
    "    return Height * Height\n",
    "\n",
    "\n",
    "def sumOfSquaredDifferences(Height):\n",
    "    xBar = sum(Height) / len(Height)  # Using sum() to calculate the mean\n",
    "    differences = map(lambda x: x - xBar, Height)\n",
    "    squaredDifferences = map(lambda x: x**2, differences)  # Use lambda x: x**2 to square each element\n",
    "    return sum(squaredDifferences)\n",
    "\n",
    "\n",
    "def variance(Height):\n",
    "    n = len(Height)\n",
    "    return sumOfSquaredDifferences(Height) / (n - 1)\n",
    "\n",
    "\n",
    "variance(df['Height'])"
   ]
  },
  {
   "cell_type": "code",
   "execution_count": 4,
   "id": "9321f088",
   "metadata": {},
   "outputs": [
    {
     "name": "stdout",
     "output_type": "stream",
     "text": [
      "0    36\n",
      "1    20\n",
      "2    27\n",
      "3    22\n",
      "4    26\n",
      "5    25\n",
      "6    20\n",
      "7    24\n",
      "8    26\n",
      "9    26\n",
      "Name: Age, dtype: int64\n",
      "Median: 25.5\n"
     ]
    },
    {
     "data": {
      "text/plain": [
       "20.84444444444445"
      ]
     },
     "execution_count": 4,
     "metadata": {},
     "output_type": "execute_result"
    }
   ],
   "source": [
    "print(df['Age'])\n",
    "\n",
    "sorted_data = sorted(df['Age'])\n",
    "num_elements = len(sorted_data)\n",
    "\n",
    "if num_elements % 2 == 1:\n",
    "    median = sorted_data[num_elements // 2]\n",
    "else:\n",
    "    median = (sorted_data[num_elements // 2 - 1] + sorted_data[num_elements // 2]) / 2.0\n",
    "\n",
    "print(\"Median:\", median)\n",
    "\n",
    "def square(Age):\n",
    "    return Age * Age\n",
    "\n",
    "def sumOfSquaredDifferences(Age):\n",
    "    xBar = sum(Age) / len(Age)  # Using sum() to calculate the mean\n",
    "    differences = map(lambda x: x - xBar, Age)\n",
    "    squaredDifferences = map(lambda x: x**2, differences)  # Use lambda x: x**2 to square each element\n",
    "    return sum(squaredDifferences)\n",
    "\n",
    "\n",
    "def variance(Age):\n",
    "    n = len(Age)\n",
    "    return sumOfSquaredDifferences(Age) / (n - 1)\n",
    "\n",
    "\n",
    "variance(df['Age'])"
   ]
  },
  {
   "cell_type": "code",
   "execution_count": 5,
   "id": "c6dae4dc",
   "metadata": {},
   "outputs": [
    {
     "name": "stdout",
     "output_type": "stream",
     "text": [
      "0    77\n",
      "1    74\n",
      "2    83\n",
      "3    76\n",
      "4    75\n",
      "5    90\n",
      "6    77\n",
      "7    81\n",
      "8    90\n",
      "9    86\n",
      "Name: Weights, dtype: int64\n",
      "Median: 79.0\n"
     ]
    },
    {
     "data": {
      "text/plain": [
       "36.98888888888889"
      ]
     },
     "execution_count": 5,
     "metadata": {},
     "output_type": "execute_result"
    }
   ],
   "source": [
    "print(df['Weights'])\n",
    "\n",
    "sorted_data = sorted(df['Weights'])\n",
    "num_elements = len(sorted_data)\n",
    "\n",
    "if num_elements % 2 == 1:\n",
    "    median = sorted_data[num_elements // 2]\n",
    "else:\n",
    "    median = (sorted_data[num_elements // 2 - 1] + sorted_data[num_elements // 2]) / 2.0\n",
    "\n",
    "print(\"Median:\", median)\n",
    "\n",
    "def square(Weights):\n",
    "    return Weights * Weights\n",
    "\n",
    "def sumOfSquaredDifferences(Weights):\n",
    "    xBar = sum(Weights) / len(Weights)  # Using sum() to calculate the mean\n",
    "    differences = map(lambda x: x - xBar, Weights)\n",
    "    squaredDifferences = map(lambda x: x**2, differences)  # Use lambda x: x**2 to square each element\n",
    "    return sum(squaredDifferences)\n",
    "\n",
    "\n",
    "def variance(Weights):\n",
    "    n = len(Weights)\n",
    "    return sumOfSquaredDifferences(Weights) / (n - 1)\n",
    "\n",
    "\n",
    "variance(df['Weights'])"
   ]
  },
  {
   "cell_type": "code",
   "execution_count": 7,
   "id": "99eb461f",
   "metadata": {},
   "outputs": [
    {
     "name": "stdout",
     "output_type": "stream",
     "text": [
      "0    305\n",
      "1    283\n",
      "2    524\n",
      "3    397\n",
      "4    568\n",
      "5    513\n",
      "6    306\n",
      "7    315\n",
      "8    557\n",
      "9    684\n",
      "Name: Ace, dtype: int64\n",
      "Median: 455.0\n"
     ]
    },
    {
     "data": {
      "text/plain": [
       "20003.066666666666"
      ]
     },
     "execution_count": 7,
     "metadata": {},
     "output_type": "execute_result"
    }
   ],
   "source": [
    "print(df['Ace'])\n",
    "\n",
    "sorted_data = sorted(df['Ace'])\n",
    "num_elements = len(sorted_data)\n",
    "\n",
    "if num_elements % 2 == 1:\n",
    "    median = sorted_data[num_elements // 2]\n",
    "else:\n",
    "    median = (sorted_data[num_elements // 2 - 1] + sorted_data[num_elements // 2]) / 2.0\n",
    "\n",
    "print(\"Median:\", median)\n",
    "\n",
    "\n",
    "def square(Ace):\n",
    "    return  Ace * Ace \n",
    "\n",
    "def sumOfSquaredDifferences(Ace):\n",
    "    xBar = sum(Ace) / len(Ace)  # Using sum() to calculate the mean\n",
    "    differences = map(lambda x: x - xBar, Ace)\n",
    "    squaredDifferences = map(lambda x: x**2, differences)  # Use lambda x: x**2 to square each element\n",
    "    return sum(squaredDifferences)\n",
    "\n",
    "\n",
    "def variance(Ace):\n",
    "    n = len(Ace)\n",
    "    return sumOfSquaredDifferences(Ace) / (n - 1)\n",
    "\n",
    "\n",
    "variance(df['Ace'])"
   ]
  },
  {
   "cell_type": "code",
   "execution_count": 8,
   "id": "e5453655",
   "metadata": {},
   "outputs": [
    {
     "name": "stdout",
     "output_type": "stream",
     "text": [
      "0    292.7\n",
      "1    281.7\n",
      "2    278.0\n",
      "3    282.0\n",
      "4    278.8\n",
      "5    292.4\n",
      "6    273.4\n",
      "7    276.5\n",
      "8    282.6\n",
      "9    287.6\n",
      "Name: Serve, dtype: float64\n",
      "Median: 281.85\n"
     ]
    },
    {
     "data": {
      "text/plain": [
       "42.40677777777777"
      ]
     },
     "execution_count": 8,
     "metadata": {},
     "output_type": "execute_result"
    }
   ],
   "source": [
    "print(df['Serve'])\n",
    "\n",
    "sorted_data = sorted(df['Serve'])\n",
    "num_elements = len(sorted_data)\n",
    "\n",
    "if num_elements % 2 == 1:\n",
    "    median = sorted_data[num_elements // 2]\n",
    "else:\n",
    "    median = (sorted_data[num_elements // 2 - 1] + sorted_data[num_elements // 2]) / 2.0\n",
    "\n",
    "print(\"Median:\", median)\n",
    "\n",
    "\n",
    "def square(Serve):\n",
    "    return  Serve * Serve \n",
    "\n",
    "def sumOfSquaredDifferences(Serve):\n",
    "    xBar = sum(Serve) / len(Serve)  # Using sum() to calculate the mean\n",
    "    differences = map(lambda x: x - xBar, Serve)\n",
    "    squaredDifferences = map(lambda x: x**2, differences)  # Use lambda x: x**2 to square each element\n",
    "    return sum(squaredDifferences)\n",
    "\n",
    "\n",
    "def variance(Serve):\n",
    "    n = len(Serve)\n",
    "    return sumOfSquaredDifferences(Serve) / (n - 1)\n",
    "\n",
    "\n",
    "variance(df['Serve'])"
   ]
  },
  {
   "cell_type": "code",
   "execution_count": 12,
   "id": "24486767",
   "metadata": {},
   "outputs": [
    {
     "name": "stdout",
     "output_type": "stream",
     "text": [
      "0    132\n",
      "1    156\n",
      "2    298\n",
      "3    123\n",
      "4    142\n",
      "5    148\n",
      "6    240\n",
      "7    165\n",
      "8    215\n",
      "9    164\n",
      "Name: Double Faluts, dtype: int64\n",
      "Median: 160.0\n"
     ]
    },
    {
     "data": {
      "text/plain": [
       "3088.677777777778"
      ]
     },
     "execution_count": 12,
     "metadata": {},
     "output_type": "execute_result"
    }
   ],
   "source": [
    "print(df['Double Faluts'])\n",
    "\n",
    "sorted_data = sorted(df['Double Faluts'])\n",
    "num_elements = len(sorted_data)\n",
    "\n",
    "if num_elements % 2 == 1:\n",
    "    median = sorted_data[num_elements // 2]\n",
    "else:\n",
    "    median = (sorted_data[num_elements // 2 - 1] + sorted_data[num_elements // 2]) / 2.0\n",
    "\n",
    "print(\"Median:\", median)\n",
    "\n",
    "def square (Double_Faluts):\n",
    "    return  Double_Faluts * Double_Faluts\n",
    "\n",
    "def sumOfSquaredDifferences(Double_Faluts):\n",
    "    xBar = sum(Double_Faluts) / len(Double_Faluts)  # Using sum() to calculate the mean\n",
    "    differences = map(lambda x: x - xBar, Double_Faluts)\n",
    "    squaredDifferences = map(lambda x: x**2, differences)  # Use lambda x: x**2 to square each element\n",
    "    return sum(squaredDifferences)\n",
    "\n",
    "\n",
    "def variance(Double_Faluts):\n",
    "    n = len(Double_Faluts)\n",
    "    return sumOfSquaredDifferences(Double_Faluts) / (n - 1)\n",
    "\n",
    "\n",
    "variance(df['Double Faluts'])"
   ]
  },
  {
   "cell_type": "code",
   "execution_count": 14,
   "id": "24a27763",
   "metadata": {},
   "outputs": [
    {
     "name": "stdout",
     "output_type": "stream",
     "text": [
      "0    64\n",
      "1    65\n",
      "2    64\n",
      "3    60\n",
      "4    61\n",
      "5    64\n",
      "6    62\n",
      "7    63\n",
      "8    70\n",
      "9    59\n",
      "Name: First Serve Perc , dtype: int64\n",
      "Median: 63.5\n"
     ]
    },
    {
     "data": {
      "text/plain": [
       "9.511111111111113"
      ]
     },
     "execution_count": 14,
     "metadata": {},
     "output_type": "execute_result"
    }
   ],
   "source": [
    "print(df['First Serve Perc '])\n",
    "\n",
    "sorted_data = sorted(df['First Serve Perc '])\n",
    "num_elements = len(sorted_data)\n",
    "\n",
    "if num_elements % 2 == 1:\n",
    "    median = sorted_data[num_elements // 2]\n",
    "else:\n",
    "    median = (sorted_data[num_elements // 2 - 1] + sorted_data[num_elements // 2]) / 2.0\n",
    "\n",
    "print(\"Median:\", median)\n",
    "\n",
    "def square(First_Serve_Perc ):  \n",
    "    return First_Serve_Perc  * First_Serve_Perc   \n",
    "\n",
    "def sumOfSquaredDifferences(First_Serve_Perc ):  \n",
    "    xBar = sum(First_Serve_Perc) / len(First_Serve_Perc )  # Using sum() to calculate the mean\n",
    "    differences = map(lambda x: x - xBar, First_Serve_Perc )\n",
    "    squaredDifferences = map(lambda x: x**2, differences)  # Use lambda x: x**2 to square each element\n",
    "    return sum(squaredDifferences)\n",
    "\n",
    "def variance(First_Serve_Perc ):  \n",
    "    n = len(First_Serve_Perc )\n",
    "    return sumOfSquaredDifferences(First_Serve_Perc ) / (n - 1)\n",
    "\n",
    "variance(df['First Serve Perc '])"
   ]
  },
  {
   "cell_type": "code",
   "execution_count": 15,
   "id": "99a37f72",
   "metadata": {},
   "outputs": [
    {
     "name": "stdout",
     "output_type": "stream",
     "text": [
      "0    76\n",
      "1    72\n",
      "2    75\n",
      "3    76\n",
      "4    76\n",
      "5    78\n",
      "6    72\n",
      "7    71\n",
      "8    74\n",
      "9    79\n",
      "Name: First Serve Won Perc, dtype: int64\n",
      "Median: 75.5\n"
     ]
    },
    {
     "data": {
      "text/plain": [
       "6.988888888888888"
      ]
     },
     "execution_count": 15,
     "metadata": {},
     "output_type": "execute_result"
    }
   ],
   "source": [
    "print(df['First Serve Won Perc'])\n",
    "\n",
    "sorted_data = sorted(df['First Serve Won Perc'])\n",
    "num_elements = len(sorted_data)\n",
    "\n",
    "if num_elements % 2 == 1:\n",
    "    median = sorted_data[num_elements // 2]\n",
    "else:\n",
    "    median = (sorted_data[num_elements // 2 - 1] + sorted_data[num_elements // 2]) / 2.0\n",
    "\n",
    "print(\"Median:\", median)\n",
    "\n",
    "\n",
    "def square(First_Serve_Won_Perc):  \n",
    "    return First_Serve_Won_Perc * First_Serve_Won_Perc  \n",
    "\n",
    "def sumOfSquaredDifferences(First_Serve_Won_Perc):  \n",
    "    xBar = sum(First_Serve_Won_Perc) / len(First_Serve_Won_Perc)  # Using sum() to calculate the mean\n",
    "    differences = map(lambda x: x - xBar, First_Serve_Won_Perc)\n",
    "    squaredDifferences = map(lambda x: x**2, differences)  # Use lambda x: x**2 to square each element\n",
    "    return sum(squaredDifferences)\n",
    "\n",
    "def variance(First_Serve_Won_Perc):  \n",
    "    n = len(First_Serve_Won_Perc)\n",
    "    return sumOfSquaredDifferences(First_Serve_Won_Perc) / (n - 1)\n",
    "\n",
    "variance(df['First Serve Won Perc'])"
   ]
  },
  {
   "cell_type": "code",
   "execution_count": 16,
   "id": "6140099c",
   "metadata": {},
   "outputs": [
    {
     "name": "stdout",
     "output_type": "stream",
     "text": [
      "0    58\n",
      "1    57\n",
      "2    50\n",
      "3    56\n",
      "4    51\n",
      "5    55\n",
      "6    53\n",
      "7    54\n",
      "8    49\n",
      "9    55\n",
      "Name: Second Serve Won Perc, dtype: int64\n",
      "Median: 54.5\n"
     ]
    },
    {
     "data": {
      "text/plain": [
       "9.066666666666666"
      ]
     },
     "execution_count": 16,
     "metadata": {},
     "output_type": "execute_result"
    }
   ],
   "source": [
    "print(df['Second Serve Won Perc'])\n",
    "\n",
    "sorted_data = sorted(df['Second Serve Won Perc'])\n",
    "num_elements = len(sorted_data)\n",
    "\n",
    "if num_elements % 2 == 1:\n",
    "    median = sorted_data[num_elements // 2]\n",
    "else:\n",
    "    median = (sorted_data[num_elements // 2 - 1] + sorted_data[num_elements // 2]) / 2.0\n",
    "\n",
    "print(\"Median:\", median)\n",
    "\n",
    "def square(Second_Serve_Won_Perc):  \n",
    "    return Second_Serve_Won_Perc * Second_Serve_Won_Perc  \n",
    "\n",
    "def sumOfSquaredDifferences(Second_Serve_Won_Perc):  \n",
    "    xBar = sum(Second_Serve_Won_Perc) / len(Second_Serve_Won_Perc)  # Using sum() to calculate the mean\n",
    "    differences = map(lambda x: x - xBar, Second_Serve_Won_Perc)\n",
    "    squaredDifferences = map(lambda x: x**2, differences)  # Use lambda x: x**2 to square each element\n",
    "    return sum(squaredDifferences)\n",
    "\n",
    "def variance(Second_Serve_Won_Perc):  \n",
    "    n = len(Second_Serve_Won_Perc)\n",
    "    return sumOfSquaredDifferences(Second_Serve_Won_Perc) / (n - 1)\n",
    "\n",
    "variance(df['Second Serve Won Perc'])"
   ]
  },
  {
   "cell_type": "code",
   "execution_count": 17,
   "id": "ee5b672e",
   "metadata": {},
   "outputs": [
    {
     "name": "stdout",
     "output_type": "stream",
     "text": [
      "0    68\n",
      "1    65\n",
      "2    66\n",
      "3    69\n",
      "4    63\n",
      "5    65\n",
      "6    64\n",
      "7    67\n",
      "8    63\n",
      "9    66\n",
      "Name: BP SVD Perc, dtype: int64\n",
      "Median: 65.5\n"
     ]
    },
    {
     "data": {
      "text/plain": [
       "4.044444444444444"
      ]
     },
     "execution_count": 17,
     "metadata": {},
     "output_type": "execute_result"
    }
   ],
   "source": [
    "print(df['BP SVD Perc'])\n",
    "\n",
    "sorted_data = sorted(df['BP SVD Perc'])\n",
    "num_elements = len(sorted_data)\n",
    "\n",
    "if num_elements % 2 == 1:\n",
    "    median = sorted_data[num_elements // 2]\n",
    "else:\n",
    "    median = (sorted_data[num_elements // 2 - 1] + sorted_data[num_elements // 2]) / 2.0\n",
    "\n",
    "print(\"Median:\", median)\n",
    "\n",
    "def square(BP_SVD_Perc):  \n",
    "    return BP_SVD_Perc * BP_SVD_Perc  \n",
    "\n",
    "def sumOfSquaredDifferences(BP_SVD_Perc):  \n",
    "    xBar = sum(BP_SVD_Perc) / len(BP_SVD_Perc)  # Using sum() to calculate the mean\n",
    "    differences = map(lambda x: x - xBar, BP_SVD_Perc)\n",
    "    squaredDifferences = map(lambda x: x**2, differences)  # Use lambda x: x**2 to square each element\n",
    "    return sum(squaredDifferences)\n",
    "\n",
    "def variance(BP_SVD_Perc):  \n",
    "    n = len(BP_SVD_Perc)\n",
    "    return sumOfSquaredDifferences(BP_SVD_Perc) / (n - 1)\n",
    "\n",
    "variance(df['BP SVD Perc'])"
   ]
  },
  {
   "cell_type": "code",
   "execution_count": 18,
   "id": "322a47f2",
   "metadata": {},
   "outputs": [
    {
     "name": "stdout",
     "output_type": "stream",
     "text": [
      "0    88\n",
      "1    85\n",
      "2    85\n",
      "3    87\n",
      "4    85\n",
      "5    89\n",
      "6    83\n",
      "7    83\n",
      "8    84\n",
      "9    87\n",
      "Name: Service Games Won Perc, dtype: int64\n",
      "Median: 85.0\n"
     ]
    },
    {
     "data": {
      "text/plain": [
       "4.266666666666667"
      ]
     },
     "execution_count": 18,
     "metadata": {},
     "output_type": "execute_result"
    }
   ],
   "source": [
    "print(df['Service Games Won Perc'])\n",
    "\n",
    "sorted_data = sorted(df['Service Games Won Perc'])\n",
    "num_elements = len(sorted_data)\n",
    "\n",
    "if num_elements % 2 == 1:\n",
    "    median = sorted_data[num_elements // 2]\n",
    "else:\n",
    "    median = (sorted_data[num_elements // 2 - 1] + sorted_data[num_elements // 2]) / 2.0\n",
    "\n",
    "print(\"Median:\", median)\n",
    "\n",
    "def square(Service_Games_Won_Perc):  \n",
    "    return Service_Games_Won_Perc * Serve_Games_Won_Perc \n",
    "\n",
    "def sumOfSquaredDifferences(Service_Games_Won_Perc):  \n",
    "    xBar = sum(Service_Games_Won_Perc) / len(Service_Games_Won_Perc)  # Using sum() to calculate the mean\n",
    "    differences = map(lambda x: x - xBar, Service_Games_Won_Perc)\n",
    "    squaredDifferences = map(lambda x: x**2, differences)  # Use lambda x: x**2 to square each element\n",
    "    return sum(squaredDifferences)\n",
    "\n",
    "def variance(Service_Games_Won_Perc):  \n",
    "    n = len(Service_Games_Won_Perc)\n",
    "    return sumOfSquaredDifferences(Service_Games_Won_Perc) / (n - 1)\n",
    "\n",
    "variance(df['Service Games Won Perc'])"
   ]
  },
  {
   "cell_type": "code",
   "execution_count": 19,
   "id": "5768afab",
   "metadata": {},
   "outputs": [
    {
     "name": "stdout",
     "output_type": "stream",
     "text": [
      "0    31\n",
      "1    33\n",
      "2    32\n",
      "3    30\n",
      "4    25\n",
      "5    20\n",
      "6    22\n",
      "7    24\n",
      "8    24\n",
      "9    23\n",
      "Name: Return Games Won Perc, dtype: int64\n",
      "Median: 24.5\n"
     ]
    },
    {
     "data": {
      "text/plain": [
       "21.6"
      ]
     },
     "execution_count": 19,
     "metadata": {},
     "output_type": "execute_result"
    }
   ],
   "source": [
    "print(df['Return Games Won Perc'])\n",
    "\n",
    "sorted_data = sorted(df['Return Games Won Perc'])\n",
    "num_elements = len(sorted_data)\n",
    "\n",
    "if num_elements % 2 == 1:\n",
    "    median = sorted_data[num_elements // 2]\n",
    "else:\n",
    "    median = (sorted_data[num_elements // 2 - 1] + sorted_data[num_elements // 2]) / 2.0\n",
    "\n",
    "print(\"Median:\", median)\n",
    "\n",
    "def square(Return_Games_Won_Perc):  \n",
    "    return Return_Games_Won_Perc * Return_Games_Won_Perc \n",
    "\n",
    "def sumOfSquaredDifferences(Return_Games_Won_Perc):  \n",
    "    xBar = sum(Return_Games_Won_Perc) / len(Return_Games_Won_Perc)  # Using sum() to calculate the mean\n",
    "    differences = map(lambda x: x - xBar, Return_Games_Won_Perc)\n",
    "    squaredDifferences = map(lambda x: x**2, differences)  # Use lambda x: x**2 to square each element\n",
    "    return sum(squaredDifferences)\n",
    "\n",
    "def variance(Return_Games_Won_Perc):  \n",
    "    n = len(Return_Games_Won_Perc)\n",
    "    return sumOfSquaredDifferences(Return_Games_Won_Perc) / (n - 1)\n",
    "\n",
    "variance(df['Return Games Won Perc'])"
   ]
  },
  {
   "cell_type": "code",
   "execution_count": 20,
   "id": "f3b664a8",
   "metadata": {},
   "outputs": [
    {
     "name": "stdout",
     "output_type": "stream",
     "text": [
      "0    42\n",
      "1    40\n",
      "2    47\n",
      "3    42\n",
      "4    40\n",
      "5    39\n",
      "6    39\n",
      "7    39\n",
      "8    37\n",
      "9    42\n",
      "Name: BP CONV Perc, dtype: int64\n",
      "Median: 40.0\n"
     ]
    },
    {
     "data": {
      "text/plain": [
       "7.566666666666666"
      ]
     },
     "execution_count": 20,
     "metadata": {},
     "output_type": "execute_result"
    }
   ],
   "source": [
    "print(df['BP CONV Perc'])\n",
    "\n",
    "sorted_data = sorted(df['BP CONV Perc'])\n",
    "num_elements = len(sorted_data)\n",
    "\n",
    "if num_elements % 2 == 1:\n",
    "    median = sorted_data[num_elements // 2]\n",
    "else:\n",
    "    median = (sorted_data[num_elements // 2 - 1] + sorted_data[num_elements // 2]) / 2.0\n",
    "\n",
    "print(\"Median:\", median)\n",
    "\n",
    "def square(BP_CONV_Perc):  \n",
    "    return BP_CONV_Perc * BP_CONV_Perc \n",
    "\n",
    "def sumOfSquaredDifferences(BP_CONV_Perc):  \n",
    "    xBar = sum(BP_CONV_Perc) / len(BP_CONV_Perc)  # Using sum() to calculate the mean\n",
    "    differences = map(lambda x: x - xBar, BP_CONV_Perc)\n",
    "    squaredDifferences = map(lambda x: x**2, differences)  # Use lambda x: x**2 to square each element\n",
    "    return sum(squaredDifferences)\n",
    "\n",
    "def variance(BP_CONV_Perc):  \n",
    "    n = len(BP_CONV_Perc)\n",
    "    return sumOfSquaredDifferences(BP_CONV_Perc) / (n - 1)\n",
    "\n",
    "variance(df['BP CONV Perc'])"
   ]
  },
  {
   "cell_type": "code",
   "execution_count": 21,
   "id": "cf1b09cd",
   "metadata": {},
   "outputs": [
    {
     "name": "stdout",
     "output_type": "stream",
     "text": [
      "0    42\n",
      "1    43\n",
      "2    42\n",
      "3    41\n",
      "4    39\n",
      "5    35\n",
      "6    37\n",
      "7    38\n",
      "8    38\n",
      "9    38\n",
      "Name: Return Points Won Perc, dtype: int64\n",
      "Median: 38.5\n"
     ]
    },
    {
     "data": {
      "text/plain": [
       "6.677777777777777"
      ]
     },
     "execution_count": 21,
     "metadata": {},
     "output_type": "execute_result"
    }
   ],
   "source": [
    "print(df['Return Points Won Perc'])\n",
    "\n",
    "sorted_data = sorted(df['Return Points Won Perc'])\n",
    "num_elements = len(sorted_data)\n",
    "\n",
    "if num_elements % 2 == 1:\n",
    "    median = sorted_data[num_elements // 2]\n",
    "else:\n",
    "    median = (sorted_data[num_elements // 2 - 1] + sorted_data[num_elements // 2]) / 2.0\n",
    "\n",
    "print(\"Median:\", median)\n",
    "\n",
    "def square(Return_Points_Won_Perc):  \n",
    "    return Return_Points_Won_Perc * Return_Points_Won_Perc\n",
    "\n",
    "def sumOfSquaredDifferences(Return_Points_Won_Perc):  \n",
    "    xBar = sum(Return_Points_Won_Perc) / len(Return_Points_Won_Perc)  # Using sum() to calculate the mean\n",
    "    differences = map(lambda x: x - xBar, Return_Points_Won_Perc)\n",
    "    squaredDifferences = map(lambda x: x**2, differences)  # Use lambda x: x**2 to square each element\n",
    "    return sum(squaredDifferences)\n",
    "\n",
    "def variance(Return_Points_Won_Perc):  \n",
    "    n = len(Return_Points_Won_Perc)\n",
    "    return sumOfSquaredDifferences(Return_Points_Won_Perc) / (n - 1)\n",
    "\n",
    "variance(df['Return Points Won Perc'])"
   ]
  },
  {
   "cell_type": "code",
   "execution_count": 4,
   "id": "3839cea6",
   "metadata": {},
   "outputs": [
    {
     "ename": "NameError",
     "evalue": "name 'df' is not defined",
     "output_type": "error",
     "traceback": [
      "\u001b[0;31m---------------------------------------------------------------------------\u001b[0m",
      "\u001b[0;31mNameError\u001b[0m                                 Traceback (most recent call last)",
      "Cell \u001b[0;32mIn[4], line 2\u001b[0m\n\u001b[1;32m      1\u001b[0m \u001b[38;5;28;01mimport\u001b[39;00m \u001b[38;5;21;01mpandas\u001b[39;00m \u001b[38;5;28;01mas\u001b[39;00m \u001b[38;5;21;01mpd\u001b[39;00m\n\u001b[0;32m----> 2\u001b[0m \u001b[38;5;28mprint\u001b[39m(df[\u001b[38;5;124m'\u001b[39m\u001b[38;5;124mService Games Played \u001b[39m\u001b[38;5;124m'\u001b[39m])\n\u001b[1;32m      4\u001b[0m sorted_data \u001b[38;5;241m=\u001b[39m \u001b[38;5;28msorted\u001b[39m(df[\u001b[38;5;124m'\u001b[39m\u001b[38;5;124mService Games Played \u001b[39m\u001b[38;5;124m'\u001b[39m])\n\u001b[1;32m      5\u001b[0m num_elements \u001b[38;5;241m=\u001b[39m \u001b[38;5;28mlen\u001b[39m(sorted_data)\n",
      "\u001b[0;31mNameError\u001b[0m: name 'df' is not defined"
     ]
    }
   ],
   "source": [
    "import pandas as pd\n",
    "print(df['Service Games Played '])\n",
    "\n",
    "sorted_data = sorted(df['Service Games Played '])\n",
    "num_elements = len(sorted_data)\n",
    "\n",
    "if num_elements % 2 == 1:\n",
    "    median = sorted_data[num_elements // 2]\n",
    "else:\n",
    "    median = (sorted_data[num_elements // 2 - 1] + sorted_data[num_elements // 2]) / 2.0\n",
    "\n",
    "print(\"Median:\", median)\n",
    "\n",
    "def square(Service_Games_Played ):  \n",
    "    return Service_Games_Played  * Service_Games_Played   \n",
    "\n",
    "def sumOfSquaredDifferences(Service_Games_Played):  \n",
    "    xBar = sum(Service_Games_Played) / len(Service_Games_Played)  # Using sum() to calculate the mean\n",
    "    differences = map(lambda x: x - xBar, Service_Games_Played)\n",
    "    squaredDifferences = map(lambda x: x**2, differences)  # Use lambda x: x**2 to square each element\n",
    "    return sum(squaredDifferences)\n",
    "\n",
    "def variance(Service_Games_Played):  \n",
    "    n = len(Service_Games_Played)\n",
    "    return sumOfSquaredDifferences(Service_Games_Played) / (n - 1)\n",
    "variance(df['Service Games Played '])\n"
   ]
  },
  {
   "cell_type": "code",
   "execution_count": 24,
   "id": "ebb190f5",
   "metadata": {},
   "outputs": [
    {
     "name": "stdout",
     "output_type": "stream",
     "text": [
      "0    34\n",
      "1    36\n",
      "2    34\n",
      "3    33\n",
      "4    30\n",
      "5    27\n",
      "6    29\n",
      "7    30\n",
      "8    29\n",
      "9    28\n",
      "Name: First Return Points Won Perc, dtype: int64\n",
      "Median: 30.0\n"
     ]
    },
    {
     "data": {
      "text/plain": [
       "9.11111111111111"
      ]
     },
     "execution_count": 24,
     "metadata": {},
     "output_type": "execute_result"
    }
   ],
   "source": [
    "print(df['First Return Points Won Perc'])\n",
    "\n",
    "sorted_data = sorted(df['First Return Points Won Perc'])\n",
    "num_elements = len(sorted_data)\n",
    "\n",
    "if num_elements % 2 == 1:\n",
    "    median = sorted_data[num_elements // 2]\n",
    "else:\n",
    "    median = (sorted_data[num_elements // 2 - 1] + sorted_data[num_elements // 2]) / 2.0\n",
    "\n",
    "print(\"Median:\", median)\n",
    "\n",
    "def square(First_Return_Points_Won_Perc):  \n",
    "    return First_Return_Points_Won_Perc * First_Return_Points_Won_Perc\n",
    "\n",
    "def sumOfSquaredDifferences(First_Return_Points_Won_Perc):  \n",
    "    xBar = sum(First_Return_Points_Won_Perc) / len(First_Return_Points_Won_Perc)  # Using sum() to calculate the mean\n",
    "    differences = map(lambda x: x - xBar, First_Return_Points_Won_Perc)\n",
    "    squaredDifferences = map(lambda x: x**2, differences)  # Use lambda x: x**2 to square each element\n",
    "    return sum(squaredDifferences)\n",
    "\n",
    "def variance(First_Return_Points_Won_Perc):  \n",
    "    n = len(First_Return_Points_Won_Perc)\n",
    "    return sumOfSquaredDifferences(First_Return_Points_Won_Perc) / (n - 1)\n",
    "\n",
    "variance(df['First Return Points Won Perc'])"
   ]
  },
  {
   "cell_type": "code",
   "execution_count": 25,
   "id": "f71520dc",
   "metadata": {},
   "outputs": [
    {
     "name": "stdout",
     "output_type": "stream",
     "text": [
      "0    54\n",
      "1    54\n",
      "2    54\n",
      "3    55\n",
      "4    52\n",
      "5    49\n",
      "6    49\n",
      "7    51\n",
      "8    52\n",
      "9    53\n",
      "Name: Second Return Points Won Perc, dtype: int64\n",
      "Median: 52.5\n"
     ]
    },
    {
     "data": {
      "text/plain": [
       "4.455555555555555"
      ]
     },
     "execution_count": 25,
     "metadata": {},
     "output_type": "execute_result"
    }
   ],
   "source": [
    "print(df['Second Return Points Won Perc'])\n",
    "\n",
    "sorted_data = sorted(df['Second Return Points Won Perc'])\n",
    "num_elements = len(sorted_data)\n",
    "\n",
    "if num_elements % 2 == 1:\n",
    "    median = sorted_data[num_elements // 2]\n",
    "else:\n",
    "    median = (sorted_data[num_elements // 2 - 1] + sorted_data[num_elements // 2]) / 2.0\n",
    "\n",
    "print(\"Median:\", median)\n",
    "\n",
    "def square(Second_Return_Points_Won_Perc):  \n",
    "    return Second_Return_Points_Won_Perc * Second_Return_Points_Won_Perc\n",
    "\n",
    "def sumOfSquaredDifferences(Second_Return_Points_Won_Perc):  \n",
    "    xBar = sum(Second_Return_Points_Won_Perc) / len(Second_Return_Points_Won_Perc)  # Using sum() to calculate the mean\n",
    "    differences = map(lambda x: x - xBar, Second_Return_Points_Won_Perc)\n",
    "    squaredDifferences = map(lambda x: x**2, differences)  # Use lambda x: x**2 to square each element\n",
    "    return sum(squaredDifferences)\n",
    "\n",
    "def variance(Second_Return_Points_Won_Perc):  \n",
    "    n = len(Second_Return_Points_Won_Perc)\n",
    "    return sumOfSquaredDifferences(Second_Return_Points_Won_Perc) / (n - 1)\n",
    "\n",
    "variance(df['Second Return Points Won Perc'])"
   ]
  },
  {
   "cell_type": "code",
   "execution_count": 27,
   "id": "aff5c550",
   "metadata": {},
   "outputs": [
    {
     "name": "stdout",
     "output_type": "stream",
     "text": [
      "0    618\n",
      "1    828\n",
      "2    875\n",
      "3    834\n",
      "4    951\n",
      "5    867\n",
      "6    762\n",
      "7    761\n",
      "8    890\n",
      "9    901\n",
      "Name: Return Games Played, dtype: int64\n",
      "Median: 850.5\n"
     ]
    },
    {
     "data": {
      "text/plain": [
       "9000.9"
      ]
     },
     "execution_count": 27,
     "metadata": {},
     "output_type": "execute_result"
    }
   ],
   "source": [
    "print(df['Return Games Played'])\n",
    "\n",
    "sorted_data = sorted(df['Return Games Played'])\n",
    "num_elements = len(sorted_data)\n",
    "\n",
    "if num_elements % 2 == 1:\n",
    "    median = sorted_data[num_elements // 2]\n",
    "else:\n",
    "    median = (sorted_data[num_elements // 2 - 1] + sorted_data[num_elements // 2]) / 2.0\n",
    "\n",
    "print(\"Median:\", median)\n",
    "\n",
    "def square(Return_Games_Played):  \n",
    "    return Return_Games_Played * Return_Games_Played\n",
    "\n",
    "def sumOfSquaredDifferences(Return_Games_Played):  \n",
    "    xBar = sum(Return_Games_Played) / len(Return_Games_Played)  # Using sum() to calculate the mean\n",
    "    differences = map(lambda x: x - xBar, Return_Games_Played)\n",
    "    squaredDifferences = map(lambda x: x**2, differences)  # Use lambda x: x**2 to square each element\n",
    "    return sum(squaredDifferences)\n",
    "\n",
    "def variance(Return_Games_Played):  \n",
    "    n = len(Return_Games_Played)\n",
    "    return sumOfSquaredDifferences(Return_Games_Played) / (n - 1)\n",
    "\n",
    "variance(df['Return Games Played'])"
   ]
  },
  {
   "cell_type": "code",
   "execution_count": 29,
   "id": "9bc7896d",
   "metadata": {},
   "outputs": [
    {
     "name": "stderr",
     "output_type": "stream",
     "text": [
      "/Users/mariagraziellabrevi/anaconda3/lib/python3.11/site-packages/seaborn/axisgrid.py:118: UserWarning: The figure layout has changed to tight\n",
      "  self._figure.tight_layout(*args, **kwargs)\n"
     ]
    },
    {
     "name": "stdout",
     "output_type": "stream",
     "text": [
      "Correlation Coefficient: 0.4780273104827571\n"
     ]
    },
    {
     "data": {
      "image/png": "[encoded data removed]",
      "text/plain": [
       "<Figure size 500x500 with 1 Axes>"
      ]
     },
     "metadata": {},
     "output_type": "display_data"
    }
   ],
   "source": [
    "import seaborn as sns\n",
    "from math import sqrt\n",
    "\n",
    "plot = sns.lmplot(x='BP SVD Perc', y='BP CONV Perc', data=df)\n",
    "\n",
    "def calculate_correlation(x, y):\n",
    "    def n(arr):\n",
    "        return len(arr)\n",
    "\n",
    "    def product(x, y):\n",
    "        return x * y\n",
    "\n",
    "    def sumXTimesY(x, y):\n",
    "        return sum(map(product, x, y))\n",
    "\n",
    "    def numerator(x, y):\n",
    "        return n(x) * sumXTimesY(x, y) - sum(x) * sum(y)\n",
    "\n",
    "    def sumOfSquares(val):\n",
    "        return sum(map(lambda x: x**2, val))\n",
    "\n",
    "    def denominator(x, y):\n",
    "        return sqrt((n(x) * sumOfSquares(x) - sum(x)**2) * (n(y) * sumOfSquares(y) - sum(y)**2))\n",
    "\n",
    "    correlation = numerator(x, y) / denominator(x, y)\n",
    "    return correlation\n",
    "\n",
    "# Extract x and y data from the plot\n",
    "x_data = plot.data['BP SVD Perc']\n",
    "y_data = plot.data['BP CONV Perc']\n",
    "\n",
    "# Calculate and print the correlation coefficient\n",
    "correlation_coefficient = calculate_correlation(x_data, y_data)\n",
    "print(f'Correlation Coefficient: {correlation_coefficient}')"
   ]
  },
  {
   "cell_type": "code",
   "execution_count": 4,
   "id": "0668d1f8",
   "metadata": {},
   "outputs": [
    {
     "name": "stderr",
     "output_type": "stream",
     "text": [
      "/Users/mariagraziellabrevi/anaconda3/lib/python3.11/site-packages/seaborn/axisgrid.py:118: UserWarning: The figure layout has changed to tight\n",
      "  self._figure.tight_layout(*args, **kwargs)\n"
     ]
    },
    {
     "name": "stdout",
     "output_type": "stream",
     "text": [
      "Correlation Coefficient: -0.3652351683902492\n"
     ]
    },
    {
     "data": {
      "image/png": "[encoded data removed]",
      "text/plain": [
       "<Figure size 500x500 with 1 Axes>"
      ]
     },
     "metadata": {},
     "output_type": "display_data"
    }
   ],
   "source": [
    "import seaborn as sns\n",
    "from math import sqrt\n",
    "\n",
    "plot = sns.lmplot(x='First Serve Won Perc', y='First Serve Perc ', data=df)\n",
    "\n",
    "def calculate_correlation(x, y):\n",
    "    def n(arr):\n",
    "        return len(arr)\n",
    "\n",
    "    def product(x, y):\n",
    "        return x * y\n",
    "\n",
    "    def sumXTimesY(x, y):\n",
    "        return sum(map(product, x, y))\n",
    "\n",
    "    def numerator(x, y):\n",
    "        return n(x) * sumXTimesY(x, y) - sum(x) * sum(y)\n",
    "\n",
    "    def sumOfSquares(val):\n",
    "        return sum(map(lambda x: x**2, val))\n",
    "\n",
    "    def denominator(x, y):\n",
    "        return sqrt((n(x) * sumOfSquares(x) - sum(x)**2) * (n(y) * sumOfSquares(y) - sum(y)**2))\n",
    "\n",
    "    correlation = numerator(x, y) / denominator(x, y)\n",
    "    return correlation\n",
    "\n",
    "# Extract x and y data from the plot\n",
    "x_data = plot.data['First Serve Won Perc']\n",
    "y_data = plot.data['First Serve Perc ']\n",
    "\n",
    "# Calculate and print the correlation coefficient\n",
    "correlation_coefficient = calculate_correlation(x_data, y_data)\n",
    "print(f'Correlation Coefficient: {correlation_coefficient}')"
   ]
  },
  {
   "cell_type": "code",
   "execution_count": 6,
   "id": "c5a95056",
   "metadata": {},
   "outputs": [
    {
     "name": "stderr",
     "output_type": "stream",
     "text": [
      "/Users/mariagraziellabrevi/anaconda3/lib/python3.11/site-packages/seaborn/axisgrid.py:118: UserWarning: The figure layout has changed to tight\n",
      "  self._figure.tight_layout(*args, **kwargs)\n"
     ]
    },
    {
     "name": "stdout",
     "output_type": "stream",
     "text": [
      "Correlation Coefficient: -0.23023504852670337\n"
     ]
    },
    {
     "data": {
      "image/png": "[encoded data removed]",
      "text/plain": [
       "<Figure size 500x500 with 1 Axes>"
      ]
     },
     "metadata": {},
     "output_type": "display_data"
    }
   ],
   "source": [
    "plot = sns.lmplot(x='Service Games Won Perc', y='First Serve Perc ', data=df)\n",
    "\n",
    "def calculate_correlation(x, y):\n",
    "    def n(arr):\n",
    "        return len(arr)\n",
    "\n",
    "    def product(x, y):\n",
    "        return x * y\n",
    "\n",
    "    def sumXTimesY(x, y):\n",
    "        return sum(map(product, x, y))\n",
    "\n",
    "    def numerator(x, y):\n",
    "        return n(x) * sumXTimesY(x, y) - sum(x) * sum(y)\n",
    "\n",
    "    def sumOfSquares(val):\n",
    "        return sum(map(lambda x: x**2, val))\n",
    "\n",
    "    def denominator(x, y):\n",
    "        return sqrt((n(x) * sumOfSquares(x) - sum(x)**2) * (n(y) * sumOfSquares(y) - sum(y)**2))\n",
    "\n",
    "    correlation = numerator(x, y) / denominator(x, y)\n",
    "    return correlation\n",
    "\n",
    "# Extract x and y data from the plot\n",
    "x_data = plot.data['Service Games Won Perc']\n",
    "y_data = plot.data['First Serve Perc ']\n",
    "\n",
    "# Calculate and print the correlation coefficient\n",
    "correlation_coefficient = calculate_correlation(x_data, y_data)\n",
    "print(f'Correlation Coefficient: {correlation_coefficient}')"
   ]
  },
  {
   "cell_type": "code",
   "execution_count": 7,
   "id": "5b078c7f",
   "metadata": {},
   "outputs": [
    {
     "name": "stderr",
     "output_type": "stream",
     "text": [
      "/Users/mariagraziellabrevi/anaconda3/lib/python3.11/site-packages/seaborn/axisgrid.py:118: UserWarning: The figure layout has changed to tight\n",
      "  self._figure.tight_layout(*args, **kwargs)\n"
     ]
    },
    {
     "name": "stdout",
     "output_type": "stream",
     "text": [
      "Correlation Coefficient: 0.8261047107423839\n"
     ]
    },
    {
     "data": {
      "image/png": "[encoded data removed]",
      "text/plain": [
       "<Figure size 500x500 with 1 Axes>"
      ]
     },
     "metadata": {},
     "output_type": "display_data"
    }
   ],
   "source": [
    "plot = sns.lmplot(x='Service Games Won Perc', y='First Serve Won Perc', data=df)\n",
    "\n",
    "def calculate_correlation(x, y):\n",
    "    def n(arr):\n",
    "        return len(arr)\n",
    "\n",
    "    def product(x, y):\n",
    "        return x * y\n",
    "\n",
    "    def sumXTimesY(x, y):\n",
    "        return sum(map(product, x, y))\n",
    "\n",
    "    def numerator(x, y):\n",
    "        return n(x) * sumXTimesY(x, y) - sum(x) * sum(y)\n",
    "\n",
    "    def sumOfSquares(val):\n",
    "        return sum(map(lambda x: x**2, val))\n",
    "\n",
    "    def denominator(x, y):\n",
    "        return sqrt((n(x) * sumOfSquares(x) - sum(x)**2) * (n(y) * sumOfSquares(y) - sum(y)**2))\n",
    "\n",
    "    correlation = numerator(x, y) / denominator(x, y)\n",
    "    return correlation\n",
    "\n",
    "# Extract x and y data from the plot\n",
    "x_data = plot.data['Service Games Won Perc']\n",
    "y_data = plot.data['First Serve Won Perc']\n",
    "\n",
    "# Calculate and print the correlation coefficient\n",
    "correlation_coefficient = calculate_correlation(x_data, y_data)\n",
    "print(f'Correlation Coefficient: {correlation_coefficient}')"
   ]
  },
  {
   "cell_type": "code",
   "execution_count": 8,
   "id": "fd0f7f23",
   "metadata": {},
   "outputs": [
    {
     "name": "stderr",
     "output_type": "stream",
     "text": [
      "/Users/mariagraziellabrevi/anaconda3/lib/python3.11/site-packages/seaborn/axisgrid.py:118: UserWarning: The figure layout has changed to tight\n",
      "  self._figure.tight_layout(*args, **kwargs)\n"
     ]
    },
    {
     "name": "stdout",
     "output_type": "stream",
     "text": [
      "Correlation Coefficient: -0.1862918121652229\n"
     ]
    },
    {
     "data": {
      "image/png": "[encoded data removed]",
      "text/plain": [
       "<Figure size 500x500 with 1 Axes>"
      ]
     },
     "metadata": {},
     "output_type": "display_data"
    }
   ],
   "source": [
    "plot = sns.lmplot(x='Return Games Won Perc', y='First Serve Won Perc', data=df)\n",
    "\n",
    "def calculate_correlation(x, y):\n",
    "    def n(arr):\n",
    "        return len(arr)\n",
    "\n",
    "    def product(x, y):\n",
    "        return x * y\n",
    "\n",
    "    def sumXTimesY(x, y):\n",
    "        return sum(map(product, x, y))\n",
    "\n",
    "    def numerator(x, y):\n",
    "        return n(x) * sumXTimesY(x, y) - sum(x) * sum(y)\n",
    "\n",
    "    def sumOfSquares(val):\n",
    "        return sum(map(lambda x: x**2, val))\n",
    "\n",
    "    def denominator(x, y):\n",
    "        return sqrt((n(x) * sumOfSquares(x) - sum(x)**2) * (n(y) * sumOfSquares(y) - sum(y)**2))\n",
    "\n",
    "    correlation = numerator(x, y) / denominator(x, y)\n",
    "    return correlation\n",
    "\n",
    "# Extract x and y data from the plot\n",
    "x_data = plot.data['Return Games Won Perc']\n",
    "y_data = plot.data['First Serve Won Perc']\n",
    "\n",
    "# Calculate and print the correlation coefficient\n",
    "correlation_coefficient = calculate_correlation(x_data, y_data)\n",
    "print(f'Correlation Coefficient: {correlation_coefficient}')"
   ]
  },
  {
   "cell_type": "code",
   "execution_count": 9,
   "id": "9209bffa",
   "metadata": {},
   "outputs": [
    {
     "name": "stdout",
     "output_type": "stream",
     "text": [
      "Correlation Coefficient: 0.18432239982136717\n"
     ]
    },
    {
     "name": "stderr",
     "output_type": "stream",
     "text": [
      "/Users/mariagraziellabrevi/anaconda3/lib/python3.11/site-packages/seaborn/axisgrid.py:118: UserWarning: The figure layout has changed to tight\n",
      "  self._figure.tight_layout(*args, **kwargs)\n"
     ]
    },
    {
     "data": {
      "image/png": "[encoded data removed]",
      "text/plain": [
       "<Figure size 500x500 with 1 Axes>"
      ]
     },
     "metadata": {},
     "output_type": "display_data"
    }
   ],
   "source": [
    "plot = sns.lmplot(x='Age', y='Return Games Won Perc', data=df)\n",
    "def calculate_correlation(x, y):\n",
    "    def n(arr):\n",
    "        return len(arr)\n",
    "\n",
    "    def product(x, y):\n",
    "        return x * y\n",
    "\n",
    "    def sumXTimesY(x, y):\n",
    "        return sum(map(product, x, y))\n",
    "\n",
    "    def numerator(x, y):\n",
    "        return n(x) * sumXTimesY(x, y) - sum(x) * sum(y)\n",
    "\n",
    "    def sumOfSquares(val):\n",
    "        return sum(map(lambda x: x**2, val))\n",
    "\n",
    "    def denominator(x, y):\n",
    "        return sqrt((n(x) * sumOfSquares(x) - sum(x)**2) * (n(y) * sumOfSquares(y) - sum(y)**2))\n",
    "\n",
    "    correlation = numerator(x, y) / denominator(x, y)\n",
    "    return correlation\n",
    "\n",
    "# Extract x and y data from the plot\n",
    "x_data = plot.data['Age']\n",
    "y_data = plot.data['Return Games Won Perc']\n",
    "\n",
    "# Calculate and print the correlation coefficient\n",
    "correlation_coefficient = calculate_correlation(x_data, y_data)\n",
    "print(f'Correlation Coefficient: {correlation_coefficient}')"
   ]
  },
  {
   "cell_type": "code",
   "execution_count": 10,
   "id": "98963df2",
   "metadata": {},
   "outputs": [
    {
     "name": "stderr",
     "output_type": "stream",
     "text": [
      "/Users/mariagraziellabrevi/anaconda3/lib/python3.11/site-packages/seaborn/axisgrid.py:118: UserWarning: The figure layout has changed to tight\n",
      "  self._figure.tight_layout(*args, **kwargs)\n"
     ]
    },
    {
     "name": "stdout",
     "output_type": "stream",
     "text": [
      "Correlation Coefficient: 0.2118012082945296\n"
     ]
    },
    {
     "data": {
      "image/png": "[encoded data removed]",
      "text/plain": [
       "<Figure size 500x500 with 1 Axes>"
      ]
     },
     "metadata": {},
     "output_type": "display_data"
    }
   ],
   "source": [
    "plot = sns.lmplot(x='Height', y='Service Games Won Perc', data=df)\n",
    "\n",
    "def calculate_correlation(x, y):\n",
    "    def n(arr):\n",
    "        return len(arr)\n",
    "\n",
    "    def product(x, y):\n",
    "        return x * y\n",
    "\n",
    "    def sumXTimesY(x, y):\n",
    "        return sum(map(product, x, y))\n",
    "\n",
    "    def numerator(x, y):\n",
    "        return n(x) * sumXTimesY(x, y) - sum(x) * sum(y)\n",
    "\n",
    "    def sumOfSquares(val):\n",
    "        return sum(map(lambda x: x**2, val))\n",
    "\n",
    "    def denominator(x, y):\n",
    "        return sqrt((n(x) * sumOfSquares(x) - sum(x)**2) * (n(y) * sumOfSquares(y) - sum(y)**2))\n",
    "\n",
    "    correlation = numerator(x, y) / denominator(x, y)\n",
    "    return correlation\n",
    "\n",
    "# Extract x and y data from the plot\n",
    "x_data = plot.data['Height']\n",
    "y_data = plot.data['Service Games Won Perc']\n",
    "\n",
    "# Calculate and print the correlation coefficient\n",
    "correlation_coefficient = calculate_correlation(x_data, y_data)\n",
    "print(f'Correlation Coefficient: {correlation_coefficient}')"
   ]
  },
  {
   "cell_type": "code",
   "execution_count": 11,
   "id": "58f766c1",
   "metadata": {},
   "outputs": [
    {
     "data": {
      "image/png": "[encoded data removed]",
      "text/plain": [
       "<Figure size 700x500 with 1 Axes>"
      ]
     },
     "metadata": {},
     "output_type": "display_data"
    }
   ],
   "source": [
    "import matplotlib.pyplot as plt\n",
    "from matplotlib.patches import Rectangle, Circle\n",
    "\n",
    "def draw_tennis_court(ax):\n",
    "    # Tennis court size is 78 feet by 36 feet\n",
    "    court = Rectangle((0, 0), 78, 36, edgecolor=\"black\", facecolor=\"none\")\n",
    "    ax.add_patch(court)\n",
    "\n",
    "    # Singles sidelines\n",
    "    ax.plot([0, 0], [0, 36], color=\"black\")\n",
    "    ax.plot([78, 78], [0, 36], color=\"black\")\n",
    "    \n",
    "\n",
    "    # Net\n",
    "    net = Rectangle((39, 0), 0, 36, color=\"black\")\n",
    "    ax.add_patch(net)\n",
    "    \n",
    "    plt.axhline(y = 4.5, color = 'black', linestyle = '-')\n",
    "\n",
    "    plt.axhline(y = 31.5, color = 'black', linestyle = '-')\n",
    "    \n",
    "    \n",
    "    #ax.axvline(x = 18, color = 'black', linestyle = '-')\n",
    "\n",
    "    #ax.axvline(x = 60, color = 'black', linestyle = '-')\n",
    "    \n",
    "\n",
    "    # Left service box\n",
    "    \n",
    "    ax.add_patch(Rectangle((18, 4.5), 21, 13.5, edgecolor=\"black\", facecolor=\"none\"))\n",
    "    \n",
    "    ax.add_patch(Rectangle((18, 18), 21, 13.5, edgecolor=\"black\", facecolor=\"none\"))\n",
    "    \n",
    "\n",
    "    # Right service box\n",
    "    \n",
    "    ax.add_patch(Rectangle((39, 4.5), 21, 13.5, edgecolor=\"black\", facecolor=\"none\"))\n",
    "    \n",
    "    ax.add_patch(Rectangle((39, 18), 21, 13.5, edgecolor=\"black\", facecolor=\"none\"))\n",
    "\n",
    "    # Left baseline\n",
    "    ax.plot([0, 78], [0, 0], color=\"black\")\n",
    "\n",
    "    # Right baseline\n",
    "    ax.plot([0, 78], [36, 36], color=\"black\")\n",
    "\n",
    "\n",
    "# Create a new figure and axis\n",
    "fig = plt.figure()\n",
    "fig.set_size_inches(7, 5)\n",
    "ax = fig.add_subplot(1, 1, 1)\n",
    "\n",
    "# Draw the tennis court\n",
    "draw_tennis_court(ax)\n",
    "\n",
    "# Show the plot\n",
    "plt.show()\n"
   ]
  },
  {
   "cell_type": "code",
   "execution_count": null,
   "id": "8f1390ac",
   "metadata": {},
   "outputs": [],
   "source": []
  }
 ],
 "metadata": {
  "kernelspec": {
   "display_name": "Python 3 (ipykernel)",
   "language": "python",
   "name": "python3"
  },
  "language_info": {
   "codemirror_mode": {
    "name": "ipython",
    "version": 3
   },
   "file_extension": ".py",
   "mimetype": "text/x-python",
   "name": "python",
   "nbconvert_exporter": "python",
   "pygments_lexer": "ipython3",
   "version": "3.11.5"
  }
 },
 "nbformat": 4,
 "nbformat_minor": 5
}
